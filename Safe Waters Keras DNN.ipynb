{
 "cells": [
  {
   "cell_type": "code",
   "execution_count": 1,
   "metadata": {},
   "outputs": [],
   "source": [
    "import cv2\n",
    "import os\n",
    "from tqdm import tqdm"
   ]
  },
  {
   "cell_type": "code",
   "execution_count": 2,
   "metadata": {},
   "outputs": [],
   "source": [
    "import numpy as np\n",
    "from random import shuffle"
   ]
  },
  {
   "cell_type": "code",
   "execution_count": 3,
   "metadata": {},
   "outputs": [],
   "source": [
    "TRAIN_DIR=r'D:\\ML\\Safe Waters\\Project-Safe-Waters-v1-master\\IBM Machine Learning\\10K_Model_Test\\mine1'\n",
    "#TEST_DIR=r'D:\\ML\\Safe Waters\\Project-Safe-Waters-v1-master\\IBM Machine Learning\\10K_Model_Test\\mine\\Test'"
   ]
  },
  {
   "cell_type": "code",
   "execution_count": 4,
   "metadata": {},
   "outputs": [],
   "source": [
    "IMG_SIZE=224\n",
    "LR=1e-3\n",
    "\n",
    "MODEL_NAME='safewaters-{}-{}.model'.format(LR,'2conv-basic')"
   ]
  },
  {
   "cell_type": "code",
   "execution_count": 5,
   "metadata": {},
   "outputs": [],
   "source": [
    "file1 = open(r\"D:\\ML\\Safe Waters\\Project-Safe-Waters-v1-master\\IBM Machine Learning\\10K_Model_Test\\Labels\\grab_1000to9999.txt\",\"r+\")\n",
    "s=file1.readlines()\n",
    "#print(s[0])"
   ]
  },
  {
   "cell_type": "code",
   "execution_count": 6,
   "metadata": {},
   "outputs": [],
   "source": [
    "def label_img(img,j):\n",
    "    label1=s[j].split('-')[0]\n",
    "    label2=s[j].split('-')[1]\n",
    "    img1=img.split('.')[0]\n",
    "    \n",
    "    if(label1==img1):\n",
    "        if (label2=='knee deep\\n'):\n",
    "            return(1)\n",
    "        elif (label2=='waist deep\\n'):\n",
    "            return(2)\n",
    "        elif (label2=='feet'):\n",
    "            return(3)\n",
    "        elif (label2=='dangerously deep\\n'):\n",
    "            return(4)\n",
    "        else:\n",
    "            return(0)"
   ]
  },
  {
   "cell_type": "code",
   "execution_count": 7,
   "metadata": {},
   "outputs": [],
   "source": [
    "def create_train_data():\n",
    "    training_data=[]\n",
    "    k=0\n",
    "    for img in tqdm(os.listdir(TRAIN_DIR)):\n",
    "        label=label_img(img,k)\n",
    "        k=k+1\n",
    "        path=os.path.join(TRAIN_DIR, img)\n",
    "        img=cv2.imread(path,cv2.IMREAD_GRAYSCALE)\n",
    "        img=cv2.resize(img,(IMG_SIZE,IMG_SIZE))\n",
    "        training_data.append([np.array(img),[label]])\n",
    "    shuffle(training_data)\n",
    "    return training_data"
   ]
  },
  {
   "cell_type": "code",
   "execution_count": 8,
   "metadata": {},
   "outputs": [
    {
     "name": "stderr",
     "output_type": "stream",
     "text": [
      "100%|█████████████████████████████████████████████████████████████████████████████| 9000/9000 [00:12<00:00, 703.20it/s]\n"
     ]
    }
   ],
   "source": [
    "train_data=create_train_data()"
   ]
  },
  {
   "cell_type": "code",
   "execution_count": 9,
   "metadata": {},
   "outputs": [
    {
     "data": {
      "text/plain": [
       "(9000, 2)"
      ]
     },
     "execution_count": 9,
     "metadata": {},
     "output_type": "execute_result"
    }
   ],
   "source": [
    "np.array(train_data).shape"
   ]
  },
  {
   "cell_type": "code",
   "execution_count": 10,
   "metadata": {},
   "outputs": [],
   "source": [
    "x=[]\n",
    "y=[]\n",
    "for i in range(len(train_data)):\n",
    "    x.append(train_data[i][0])\n",
    "    y.append(train_data[i][1])"
   ]
  },
  {
   "cell_type": "code",
   "execution_count": 11,
   "metadata": {},
   "outputs": [],
   "source": [
    "x=np.array(x)\n",
    "y=np.array(y)"
   ]
  },
  {
   "cell_type": "code",
   "execution_count": 12,
   "metadata": {},
   "outputs": [
    {
     "data": {
      "text/plain": [
       "(9000, 224, 224)"
      ]
     },
     "execution_count": 12,
     "metadata": {},
     "output_type": "execute_result"
    }
   ],
   "source": [
    "x.shape"
   ]
  },
  {
   "cell_type": "code",
   "execution_count": null,
   "metadata": {},
   "outputs": [],
   "source": [
    "xx=[]\n",
    "for i in range(len(x)):\n",
    "    xx.append(list(x[i].flatten()))"
   ]
  },
  {
   "cell_type": "code",
   "execution_count": null,
   "metadata": {},
   "outputs": [],
   "source": [
    "xx=np.array(xx)\n",
    "xx.shape"
   ]
  },
  {
   "cell_type": "code",
   "execution_count": null,
   "metadata": {},
   "outputs": [],
   "source": [
    "from sklearn.model_selection import train_test_split"
   ]
  },
  {
   "cell_type": "code",
   "execution_count": 75,
   "metadata": {},
   "outputs": [],
   "source": [
    "xtrain,xtest,ytrain,ytest=train_test_split(xx,y)"
   ]
  },
  {
   "cell_type": "code",
   "execution_count": 76,
   "metadata": {},
   "outputs": [
    {
     "name": "stdout",
     "output_type": "stream",
     "text": [
      "(675, 50176) (675, 1) (225, 50176) (225, 1)\n"
     ]
    }
   ],
   "source": [
    "print(xtrain.shape,ytrain.shape,xtest.shape,ytest.shape)"
   ]
  },
  {
   "cell_type": "code",
   "execution_count": 77,
   "metadata": {},
   "outputs": [
    {
     "name": "stdout",
     "output_type": "stream",
     "text": [
      "xtrain shape: (675, 50176)\n",
      "ytrain shape: (675, 1)\n",
      "675 train samples\n",
      "225 test samples\n"
     ]
    }
   ],
   "source": [
    "xtrain = xtrain.astype('float32')\n",
    "xtest = xtest.astype('float32')\n",
    "xtrain /= 255\n",
    "xtest /= 255\n",
    "print('xtrain shape:', xtrain.shape)\n",
    "print('ytrain shape:', ytrain.shape)\n",
    "print(xtrain.shape[0], 'train samples')\n",
    "print(xtest.shape[0], 'test samples')"
   ]
  },
  {
   "cell_type": "code",
   "execution_count": 78,
   "metadata": {},
   "outputs": [],
   "source": [
    "import tensorflow as tf"
   ]
  },
  {
   "cell_type": "code",
   "execution_count": 79,
   "metadata": {},
   "outputs": [],
   "source": [
    "xtrain=tf.keras.utils.normalize(xtrain,axis=1)\n",
    "xtest=tf.keras.utils.normalize(xtest,axis=1)"
   ]
  },
  {
   "cell_type": "code",
   "execution_count": 80,
   "metadata": {},
   "outputs": [],
   "source": [
    "model=tf.keras.models.Sequential()\n",
    "model.add(tf.keras.layers.Flatten())\n",
    "model.add(tf.keras.layers.Dense(128,activation=tf.nn.relu))\n",
    "model.add(tf.keras.layers.Dense(64,activation=tf.nn.relu))\n",
    "model.add(tf.keras.layers.Dense(128,activation=tf.nn.relu))\n",
    "model.add(tf.keras.layers.Dense(10,activation=tf.nn.softmax))"
   ]
  },
  {
   "cell_type": "code",
   "execution_count": 81,
   "metadata": {},
   "outputs": [],
   "source": [
    "model.compile(optimizer= 'adam' , loss= 'sparse_categorical_crossentropy' , metrics=['accuracy'])"
   ]
  },
  {
   "cell_type": "code",
   "execution_count": 82,
   "metadata": {},
   "outputs": [
    {
     "name": "stdout",
     "output_type": "stream",
     "text": [
      "Train on 675 samples, validate on 225 samples\n",
      "Epoch 1/10\n",
      "675/675 [==============================] - ETA: 8s - loss: 2.3032 - acc: 0.0000e+0 - ETA: 4s - loss: 2.2680 - acc: 0.1719    - ETA: 3s - loss: 2.2089 - acc: 0.229 - ETA: 2s - loss: 2.1460 - acc: 0.218 - ETA: 2s - loss: 2.0968 - acc: 0.212 - ETA: 1s - loss: 2.0565 - acc: 0.218 - ETA: 1s - loss: 1.9980 - acc: 0.218 - ETA: 1s - loss: 1.9409 - acc: 0.226 - ETA: 1s - loss: 1.8583 - acc: 0.253 - ETA: 1s - loss: 1.8147 - acc: 0.256 - ETA: 0s - loss: 1.7680 - acc: 0.258 - ETA: 0s - loss: 1.7583 - acc: 0.260 - ETA: 0s - loss: 1.7245 - acc: 0.264 - ETA: 0s - loss: 1.6535 - acc: 0.287 - ETA: 0s - loss: 1.6432 - acc: 0.279 - ETA: 0s - loss: 1.6238 - acc: 0.283 - ETA: 0s - loss: 1.6037 - acc: 0.289 - ETA: 0s - loss: 1.5825 - acc: 0.296 - ETA: 0s - loss: 1.5728 - acc: 0.298 - ETA: 0s - loss: 1.5609 - acc: 0.294 - 2s 3ms/sample - loss: 1.5593 - acc: 0.2948 - val_loss: 1.2602 - val_acc: 0.2756\n",
      "Epoch 2/10\n",
      "675/675 [==============================] - ETA: 0s - loss: 1.3039 - acc: 0.250 - ETA: 1s - loss: 1.3046 - acc: 0.265 - ETA: 1s - loss: 1.3304 - acc: 0.291 - ETA: 1s - loss: 1.3374 - acc: 0.281 - ETA: 1s - loss: 1.3345 - acc: 0.293 - ETA: 0s - loss: 1.3274 - acc: 0.328 - ETA: 0s - loss: 1.3126 - acc: 0.348 - ETA: 0s - loss: 1.3074 - acc: 0.339 - ETA: 0s - loss: 1.3015 - acc: 0.340 - ETA: 0s - loss: 1.2956 - acc: 0.343 - ETA: 0s - loss: 1.2984 - acc: 0.340 - ETA: 0s - loss: 1.3051 - acc: 0.333 - ETA: 0s - loss: 1.3068 - acc: 0.328 - ETA: 0s - loss: 1.3002 - acc: 0.320 - ETA: 0s - loss: 1.3029 - acc: 0.318 - ETA: 0s - loss: 1.3024 - acc: 0.316 - ETA: 0s - loss: 1.2921 - acc: 0.328 - ETA: 0s - loss: 1.2862 - acc: 0.333 - ETA: 0s - loss: 1.3065 - acc: 0.328 - 1s 2ms/sample - loss: 1.3061 - acc: 0.3289 - val_loss: 1.2456 - val_acc: 0.3911\n",
      "Epoch 3/10\n",
      "675/675 [==============================] - ETA: 1s - loss: 1.3135 - acc: 0.468 - ETA: 1s - loss: 1.2845 - acc: 0.390 - ETA: 1s - loss: 1.2978 - acc: 0.312 - ETA: 1s - loss: 1.2847 - acc: 0.328 - ETA: 0s - loss: 1.3067 - acc: 0.343 - ETA: 0s - loss: 1.3077 - acc: 0.328 - ETA: 0s - loss: 1.3083 - acc: 0.317 - ETA: 0s - loss: 1.3025 - acc: 0.355 - ETA: 0s - loss: 1.2925 - acc: 0.361 - ETA: 0s - loss: 1.3017 - acc: 0.353 - ETA: 0s - loss: 1.2945 - acc: 0.363 - ETA: 0s - loss: 1.2855 - acc: 0.375 - ETA: 0s - loss: 1.2869 - acc: 0.370 - ETA: 0s - loss: 1.2861 - acc: 0.368 - ETA: 0s - loss: 1.2726 - acc: 0.369 - ETA: 0s - loss: 1.2762 - acc: 0.375 - ETA: 0s - loss: 1.2763 - acc: 0.369 - ETA: 0s - loss: 1.2742 - acc: 0.370 - ETA: 0s - loss: 1.2714 - acc: 0.373 - ETA: 0s - loss: 1.2731 - acc: 0.366 - 1s 2ms/sample - loss: 1.2724 - acc: 0.3659 - val_loss: 1.2279 - val_acc: 0.4089\n",
      "Epoch 4/10\n",
      "675/675 [==============================] - ETA: 1s - loss: 1.1999 - acc: 0.343 - ETA: 1s - loss: 1.2525 - acc: 0.328 - ETA: 1s - loss: 1.2757 - acc: 0.322 - ETA: 1s - loss: 1.2934 - acc: 0.335 - ETA: 1s - loss: 1.2510 - acc: 0.368 - ETA: 1s - loss: 1.2519 - acc: 0.380 - ETA: 0s - loss: 1.2561 - acc: 0.392 - ETA: 0s - loss: 1.2616 - acc: 0.378 - ETA: 0s - loss: 1.2600 - acc: 0.396 - ETA: 0s - loss: 1.2555 - acc: 0.411 - ETA: 0s - loss: 1.2603 - acc: 0.401 - ETA: 0s - loss: 1.2595 - acc: 0.389 - ETA: 0s - loss: 1.2617 - acc: 0.386 - ETA: 0s - loss: 1.2556 - acc: 0.389 - ETA: 0s - loss: 1.2521 - acc: 0.395 - ETA: 0s - loss: 1.2525 - acc: 0.398 - ETA: 0s - loss: 1.2506 - acc: 0.398 - ETA: 0s - loss: 1.2546 - acc: 0.394 - 1s 2ms/sample - loss: 1.2537 - acc: 0.3956 - val_loss: 1.2067 - val_acc: 0.3956\n",
      "Epoch 5/10\n",
      "675/675 [==============================] - ETA: 0s - loss: 1.2294 - acc: 0.343 - ETA: 0s - loss: 1.1373 - acc: 0.500 - ETA: 0s - loss: 1.1864 - acc: 0.445 - ETA: 0s - loss: 1.2040 - acc: 0.421 - ETA: 0s - loss: 1.2143 - acc: 0.415 - ETA: 0s - loss: 1.2363 - acc: 0.416 - ETA: 0s - loss: 1.2361 - acc: 0.412 - ETA: 0s - loss: 1.2349 - acc: 0.409 - ETA: 0s - loss: 1.2420 - acc: 0.406 - ETA: 0s - loss: 1.2350 - acc: 0.417 - ETA: 0s - loss: 1.2273 - acc: 0.427 - ETA: 0s - loss: 1.2390 - acc: 0.423 - ETA: 0s - loss: 1.2418 - acc: 0.419 - ETA: 0s - loss: 1.2357 - acc: 0.428 - ETA: 0s - loss: 1.2298 - acc: 0.436 - 1s 2ms/sample - loss: 1.2314 - acc: 0.4356 - val_loss: 1.2077 - val_acc: 0.4178\n",
      "Epoch 6/10\n",
      "675/675 [==============================] - ETA: 0s - loss: 1.2751 - acc: 0.406 - ETA: 1s - loss: 1.2803 - acc: 0.333 - ETA: 1s - loss: 1.2707 - acc: 0.328 - ETA: 1s - loss: 1.2672 - acc: 0.331 - ETA: 1s - loss: 1.2363 - acc: 0.369 - ETA: 0s - loss: 1.2392 - acc: 0.371 - ETA: 0s - loss: 1.2423 - acc: 0.364 - ETA: 0s - loss: 1.2509 - acc: 0.353 - ETA: 0s - loss: 1.2334 - acc: 0.375 - ETA: 0s - loss: 1.2407 - acc: 0.361 - ETA: 0s - loss: 1.2469 - acc: 0.354 - ETA: 0s - loss: 1.2434 - acc: 0.361 - ETA: 0s - loss: 1.2348 - acc: 0.365 - ETA: 0s - loss: 1.2279 - acc: 0.378 - ETA: 0s - loss: 1.2228 - acc: 0.388 - ETA: 0s - loss: 1.2260 - acc: 0.390 - ETA: 0s - loss: 1.2234 - acc: 0.395 - 1s 2ms/sample - loss: 1.2234 - acc: 0.3956 - val_loss: 1.2348 - val_acc: 0.3956\n",
      "Epoch 7/10\n",
      "675/675 [==============================] - ETA: 0s - loss: 1.1174 - acc: 0.468 - ETA: 0s - loss: 1.1418 - acc: 0.453 - ETA: 0s - loss: 1.1646 - acc: 0.429 - ETA: 0s - loss: 1.1698 - acc: 0.431 - ETA: 0s - loss: 1.1576 - acc: 0.447 - ETA: 0s - loss: 1.1886 - acc: 0.468 - ETA: 0s - loss: 1.1857 - acc: 0.458 - ETA: 0s - loss: 1.1734 - acc: 0.478 - ETA: 0s - loss: 1.1675 - acc: 0.483 - ETA: 0s - loss: 1.1649 - acc: 0.487 - ETA: 0s - loss: 1.1637 - acc: 0.490 - ETA: 0s - loss: 1.1598 - acc: 0.486 - ETA: 0s - loss: 1.1611 - acc: 0.487 - ETA: 0s - loss: 1.1619 - acc: 0.484 - ETA: 0s - loss: 1.1631 - acc: 0.472 - ETA: 0s - loss: 1.1721 - acc: 0.460 - ETA: 0s - loss: 1.1643 - acc: 0.470 - 1s 2ms/sample - loss: 1.1638 - acc: 0.4696 - val_loss: 1.1742 - val_acc: 0.4533\n",
      "Epoch 8/10\n",
      "675/675 [==============================] - ETA: 0s - loss: 1.0114 - acc: 0.500 - ETA: 1s - loss: 1.0383 - acc: 0.562 - ETA: 1s - loss: 1.1028 - acc: 0.489 - ETA: 1s - loss: 1.1278 - acc: 0.484 - ETA: 0s - loss: 1.1521 - acc: 0.487 - ETA: 0s - loss: 1.1590 - acc: 0.484 - ETA: 0s - loss: 1.1609 - acc: 0.473 - ETA: 0s - loss: 1.1520 - acc: 0.484 - ETA: 0s - loss: 1.1394 - acc: 0.503 - ETA: 0s - loss: 1.1342 - acc: 0.500 - ETA: 0s - loss: 1.1389 - acc: 0.491 - ETA: 0s - loss: 1.1294 - acc: 0.502 - ETA: 0s - loss: 1.1184 - acc: 0.529 - ETA: 0s - loss: 1.1327 - acc: 0.516 - ETA: 0s - loss: 1.1276 - acc: 0.516 - ETA: 0s - loss: 1.1251 - acc: 0.520 - 1s 2ms/sample - loss: 1.1244 - acc: 0.5215 - val_loss: 1.1709 - val_acc: 0.4356\n",
      "Epoch 9/10\n",
      "675/675 [==============================] - ETA: 1s - loss: 1.0972 - acc: 0.500 - ETA: 1s - loss: 1.1401 - acc: 0.468 - ETA: 1s - loss: 1.1192 - acc: 0.479 - ETA: 1s - loss: 1.1259 - acc: 0.484 - ETA: 1s - loss: 1.1371 - acc: 0.468 - ETA: 0s - loss: 1.1459 - acc: 0.468 - ETA: 0s - loss: 1.1257 - acc: 0.484 - ETA: 0s - loss: 1.1157 - acc: 0.500 - ETA: 0s - loss: 1.1051 - acc: 0.521 - ETA: 0s - loss: 1.1037 - acc: 0.519 - ETA: 0s - loss: 1.0910 - acc: 0.533 - ETA: 0s - loss: 1.0835 - acc: 0.540 - ETA: 0s - loss: 1.0794 - acc: 0.543 - ETA: 0s - loss: 1.0857 - acc: 0.534 - ETA: 0s - loss: 1.0948 - acc: 0.522 - ETA: 0s - loss: 1.0926 - acc: 0.529 - ETA: 0s - loss: 1.0943 - acc: 0.525 - ETA: 0s - loss: 1.0942 - acc: 0.525 - 1s 2ms/sample - loss: 1.0911 - acc: 0.5274 - val_loss: 1.2368 - val_acc: 0.4044\n",
      "Epoch 10/10\n",
      "675/675 [==============================] - ETA: 0s - loss: 1.0569 - acc: 0.531 - ETA: 1s - loss: 1.0765 - acc: 0.500 - ETA: 1s - loss: 1.0757 - acc: 0.510 - ETA: 1s - loss: 1.1348 - acc: 0.484 - ETA: 1s - loss: 1.1070 - acc: 0.518 - ETA: 1s - loss: 1.1058 - acc: 0.520 - ETA: 0s - loss: 1.0863 - acc: 0.550 - ETA: 0s - loss: 1.0890 - acc: 0.541 - ETA: 0s - loss: 1.0785 - acc: 0.556 - ETA: 0s - loss: 1.0827 - acc: 0.559 - ETA: 0s - loss: 1.0865 - acc: 0.552 - ETA: 0s - loss: 1.0815 - acc: 0.546 - ETA: 0s - loss: 1.0688 - acc: 0.541 - ETA: 0s - loss: 1.0701 - acc: 0.534 - ETA: 0s - loss: 1.0759 - acc: 0.536 - ETA: 0s - loss: 1.0771 - acc: 0.532 - ETA: 0s - loss: 1.0695 - acc: 0.540 - ETA: 0s - loss: 1.0747 - acc: 0.531 - 1s 2ms/sample - loss: 1.0724 - acc: 0.5333 - val_loss: 1.3448 - val_acc: 0.4311\n"
     ]
    }
   ],
   "source": [
    "model.compile(optimizer='adam',\n",
    "              loss='sparse_categorical_crossentropy',\n",
    "              metrics=['accuracy'])\n",
    "\n",
    "history = model.fit(xtrain, ytrain, epochs=10, \n",
    "                    validation_data=(xtest,ytest))"
   ]
  },
  {
   "cell_type": "code",
   "execution_count": null,
   "metadata": {},
   "outputs": [],
   "source": [
    "#history=model.fit(xtrain,ytrain,epochs=50)"
   ]
  },
  {
   "cell_type": "code",
   "execution_count": 83,
   "metadata": {},
   "outputs": [
    {
     "name": "stdout",
     "output_type": "stream",
     "text": [
      "225/225 [==============================] - ETA: 0s - loss: 1.3053 - acc: 0.375 - ETA: 0s - loss: 1.3480 - acc: 0.443 - 0s 528us/sample - loss: 1.3448 - acc: 0.4311\n"
     ]
    }
   ],
   "source": [
    "val_loss, val_acc=model.evaluate(xtest,ytest)"
   ]
  },
  {
   "cell_type": "code",
   "execution_count": 84,
   "metadata": {},
   "outputs": [
    {
     "name": "stdout",
     "output_type": "stream",
     "text": [
      "1.3447686936457952 0.4311111\n"
     ]
    }
   ],
   "source": [
    "print(val_loss,val_acc)"
   ]
  },
  {
   "cell_type": "code",
   "execution_count": 85,
   "metadata": {},
   "outputs": [],
   "source": [
    "pred=model.predict([xtest])"
   ]
  },
  {
   "cell_type": "code",
   "execution_count": 94,
   "metadata": {},
   "outputs": [
    {
     "name": "stdout",
     "output_type": "stream",
     "text": [
      "3\n"
     ]
    }
   ],
   "source": [
    "print(np.argmax(pred[15]))"
   ]
  },
  {
   "cell_type": "code",
   "execution_count": 95,
   "metadata": {},
   "outputs": [
    {
     "data": {
      "text/plain": [
       "array([2])"
      ]
     },
     "execution_count": 95,
     "metadata": {},
     "output_type": "execute_result"
    }
   ],
   "source": [
    "ytest[15]"
   ]
  },
  {
   "cell_type": "code",
   "execution_count": 96,
   "metadata": {},
   "outputs": [
    {
     "data": {
      "image/png": "[encoded data removed]",
      "text/plain": [
       "<Figure size 432x288 with 1 Axes>"
      ]
     },
     "metadata": {
      "needs_background": "light"
     },
     "output_type": "display_data"
    }
   ],
   "source": [
    "# Plot training & validation accuracy values\n",
    "plt.plot(history.history['acc'])\n",
    "plt.plot(history.history['val_acc'])\n",
    "plt.title('Model accuracy')\n",
    "plt.ylabel('Accuracy')\n",
    "plt.xlabel('Epoch')\n",
    "plt.legend(['Train', 'Test'], loc='upper left')\n",
    "plt.show()"
   ]
  },
  {
   "cell_type": "code",
   "execution_count": 97,
   "metadata": {},
   "outputs": [
    {
     "name": "stdout",
     "output_type": "stream",
     "text": [
      "225/225 - 0s - loss: 1.3448 - acc: 0.4311\n"
     ]
    },
    {
     "data": {
      "image/png": "[encoded data removed]",
      "text/plain": [
       "<Figure size 432x288 with 1 Axes>"
      ]
     },
     "metadata": {
      "needs_background": "light"
     },
     "output_type": "display_data"
    }
   ],
   "source": [
    "plt.plot(history.history['acc'], label='accuracy')\n",
    "plt.plot(history.history['val_acc'], label = 'val_accuracy')\n",
    "plt.xlabel('Epoch')\n",
    "plt.ylabel('Accuracy')\n",
    "plt.ylim([0.5, 1])\n",
    "plt.legend(loc='lower right')\n",
    "\n",
    "test_loss, test_acc = model.evaluate(xtest, ytest, verbose=2)"
   ]
  },
  {
   "cell_type": "code",
   "execution_count": 98,
   "metadata": {},
   "outputs": [
    {
     "data": {
      "image/png": "[encoded data removed]",
      "text/plain": [
       "<Figure size 432x288 with 1 Axes>"
      ]
     },
     "metadata": {
      "needs_background": "light"
     },
     "output_type": "display_data"
    }
   ],
   "source": [
    "# Plot training & validation loss values\n",
    "plt.plot(history.history['loss'])\n",
    "plt.plot(history.history['val_loss'])\n",
    "plt.title('Model loss')\n",
    "plt.ylabel('Loss')\n",
    "plt.xlabel('Epoch')\n",
    "plt.legend(['Train', 'Test'], loc='upper left')\n",
    "plt.show()"
   ]
  },
  {
   "cell_type": "code",
   "execution_count": 84,
   "metadata": {},
   "outputs": [
    {
     "name": "stdout",
     "output_type": "stream",
     "text": [
      "(2, 2, 4)\n"
     ]
    }
   ],
   "source": [
    "a=np.array([[[4,6,7,8],[3,7,9,10]],\n",
    "            [[7,8,9,12],[3,9,0,2]]])\n",
    "#a.transpose(2,0,1).reshape(3,-1)\n",
    "#b=a.reshape(4,3)\n",
    "#b=b.transpose()\n",
    "print(a.shape)"
   ]
  },
  {
   "cell_type": "code",
   "execution_count": 48,
   "metadata": {},
   "outputs": [],
   "source": [
    "new_img = img.reshape((img.shape[0]*img.shape[1]), img.shape[2])\n",
    "new_img = new_img.transpose()"
   ]
  },
  {
   "cell_type": "code",
   "execution_count": 114,
   "metadata": {},
   "outputs": [],
   "source": [
    "a=np.array([[[1,2],[2,3]],\n",
    "           [[3,4],[5,6]]])"
   ]
  },
  {
   "cell_type": "code",
   "execution_count": 116,
   "metadata": {},
   "outputs": [
    {
     "name": "stdout",
     "output_type": "stream",
     "text": [
      "[[1, 2, 2, 3], [3, 4, 5, 6]]\n"
     ]
    }
   ],
   "source": [
    "b=[]\n",
    "for i in range(len(a)):\n",
    "    b.append(list(a[i].flatten()))\n",
    "print(b)"
   ]
  },
  {
   "cell_type": "code",
   "execution_count": null,
   "metadata": {},
   "outputs": [],
   "source": []
  }
 ],
 "metadata": {
  "kernelspec": {
   "display_name": "Python 3",
   "language": "python",
   "name": "python3"
  },
  "language_info": {
   "codemirror_mode": {
    "name": "ipython",
    "version": 3
   },
   "file_extension": ".py",
   "mimetype": "text/x-python",
   "name": "python",
   "nbconvert_exporter": "python",
   "pygments_lexer": "ipython3",
   "version": "3.7.4"
  }
 },
 "nbformat": 4,
 "nbformat_minor": 2
}
