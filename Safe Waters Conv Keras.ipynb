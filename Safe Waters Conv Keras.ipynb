{
 "cells": [
  {
   "cell_type": "code",
   "execution_count": 1,
   "metadata": {},
   "outputs": [],
   "source": [
    "import cv2\n",
    "import os\n",
    "from tqdm import tqdm"
   ]
  },
  {
   "cell_type": "code",
   "execution_count": 2,
   "metadata": {},
   "outputs": [
    {
     "name": "stderr",
     "output_type": "stream",
     "text": [
      "Using TensorFlow backend.\n"
     ]
    }
   ],
   "source": [
    "import numpy as np\n",
    "from random import shuffle\n",
    "from keras.constraints import maxnorm"
   ]
  },
  {
   "cell_type": "code",
   "execution_count": 3,
   "metadata": {},
   "outputs": [],
   "source": [
    "import tensorflow as tf"
   ]
  },
  {
   "cell_type": "code",
   "execution_count": 4,
   "metadata": {},
   "outputs": [],
   "source": [
    "import keras\n",
    "from keras.datasets import mnist\n",
    "from keras.models import Sequential\n",
    "from keras.layers import Dense, Dropout, Flatten\n",
    "from keras.layers import Conv2D, MaxPooling2D\n",
    "from keras import backend as K\n",
    "from keras.preprocessing.image import ImageDataGenerator"
   ]
  },
  {
   "cell_type": "code",
   "execution_count": 5,
   "metadata": {},
   "outputs": [],
   "source": [
    "TRAIN_DIR=r'D:\\ML\\Safe Waters\\Project-Safe-Waters-v1-master\\IBM Machine Learning\\10K_Model_Test\\mine2'\n",
    "#TEST_DIR=r'D:\\ML\\Safe Waters\\Project-Safe-Waters-v1-master\\IBM Machine Learning\\10K_Model_Test\\mine\\Test'"
   ]
  },
  {
   "cell_type": "code",
   "execution_count": 6,
   "metadata": {},
   "outputs": [],
   "source": [
    "IMG_SIZE=64\n",
    "LR=1e-3\n",
    "\n",
    "MODEL_NAME='safewaters-{}-{}.model'.format(LR,'2conv-basic')"
   ]
  },
  {
   "cell_type": "code",
   "execution_count": 7,
   "metadata": {},
   "outputs": [],
   "source": [
    "file1 = open(r\"D:\\ML\\Safe Waters\\Project-Safe-Waters-v1-master\\IBM Machine Learning\\10K_Model_Test\\Labels\\grab_1000to9999.txt\",\"r+\")\n",
    "s=file1.readlines()\n",
    "#print(s[0])"
   ]
  },
  {
   "cell_type": "code",
   "execution_count": 8,
   "metadata": {},
   "outputs": [],
   "source": [
    "def label_img(img,j):\n",
    "    label1=s[j].split('-')[0]\n",
    "    label2=s[j].split('-')[1]\n",
    "    img1=img.split('.')[0]\n",
    "    \n",
    "    if(label1==img1):\n",
    "        if (label2=='knee deep\\n'):\n",
    "            return(1)\n",
    "        elif (label2=='waist deep\\n'):\n",
    "            return(2)\n",
    "        elif (label2=='feet'):\n",
    "            return(3)\n",
    "        elif (label2=='dangerously deep\\n'):\n",
    "            return(4)\n",
    "        else:\n",
    "            return(0)"
   ]
  },
  {
   "cell_type": "code",
   "execution_count": 9,
   "metadata": {},
   "outputs": [],
   "source": [
    "def create_train_data():\n",
    "    training_data=[]\n",
    "    k=0\n",
    "    for img in tqdm(os.listdir(TRAIN_DIR)):\n",
    "        label=label_img(img,k)\n",
    "        k=k+1\n",
    "        path=os.path.join(TRAIN_DIR, img)\n",
    "        img=cv2.imread(path,cv2.IMREAD_GRAYSCALE)\n",
    "        img=cv2.resize(img,(IMG_SIZE,IMG_SIZE))\n",
    "        training_data.append([np.array(img),[label]])\n",
    "    shuffle(training_data)\n",
    "    return training_data"
   ]
  },
  {
   "cell_type": "code",
   "execution_count": 10,
   "metadata": {},
   "outputs": [
    {
     "name": "stderr",
     "output_type": "stream",
     "text": [
      "100%|█████████████████████████████████████████████████████████████████████████████| 9000/9000 [00:35<00:00, 252.24it/s]\n"
     ]
    }
   ],
   "source": [
    "train_data=create_train_data()"
   ]
  },
  {
   "cell_type": "code",
   "execution_count": 11,
   "metadata": {},
   "outputs": [
    {
     "data": {
      "text/plain": [
       "(9000, 2)"
      ]
     },
     "execution_count": 11,
     "metadata": {},
     "output_type": "execute_result"
    }
   ],
   "source": [
    "np.array(train_data).shape"
   ]
  },
  {
   "cell_type": "code",
   "execution_count": 12,
   "metadata": {},
   "outputs": [],
   "source": [
    "x=[]\n",
    "z=[]\n",
    "for i in range(len(train_data)):\n",
    "    x.append(train_data[i][0])\n",
    "    z.append(train_data[i][1])"
   ]
  },
  {
   "cell_type": "code",
   "execution_count": 13,
   "metadata": {},
   "outputs": [],
   "source": [
    "y=[]\n",
    "for i in z:\n",
    "    for j in i:\n",
    "        y.append(int(j))\n"
   ]
  },
  {
   "cell_type": "code",
   "execution_count": 14,
   "metadata": {},
   "outputs": [],
   "source": [
    "x=np.array(x)\n",
    "y=np.array(y)"
   ]
  },
  {
   "cell_type": "code",
   "execution_count": 15,
   "metadata": {},
   "outputs": [
    {
     "data": {
      "text/plain": [
       "(9000, 64, 64)"
      ]
     },
     "execution_count": 15,
     "metadata": {},
     "output_type": "execute_result"
    }
   ],
   "source": [
    "x.shape"
   ]
  },
  {
   "cell_type": "code",
   "execution_count": 16,
   "metadata": {},
   "outputs": [],
   "source": [
    "from sklearn.model_selection import train_test_split"
   ]
  },
  {
   "cell_type": "code",
   "execution_count": 17,
   "metadata": {},
   "outputs": [],
   "source": [
    "xtrain,xtest,ytrain,ytest=train_test_split(x,y)"
   ]
  },
  {
   "cell_type": "code",
   "execution_count": 18,
   "metadata": {},
   "outputs": [
    {
     "name": "stdout",
     "output_type": "stream",
     "text": [
      "(6750, 64, 64) (6750,) (2250, 64, 64) (2250,)\n"
     ]
    }
   ],
   "source": [
    "print(xtrain.shape,ytrain.shape,xtest.shape,ytest.shape)"
   ]
  },
  {
   "cell_type": "code",
   "execution_count": 19,
   "metadata": {},
   "outputs": [],
   "source": [
    "batch_size = 128\n",
    "num_classes = 1\n",
    "\n",
    "# input image dimensions\n",
    "img_rows, img_cols = 64,64"
   ]
  },
  {
   "cell_type": "code",
   "execution_count": 23,
   "metadata": {},
   "outputs": [],
   "source": [
    "if K.image_data_format() == 'channels_first':\n",
    "    xtrain = xtrain.reshape(xtrain.shape[0], 1, img_rows, img_cols)\n",
    "    xtest = xtest.reshape(xtest.shape[0], 1, img_rows, img_cols)\n",
    "    input_shape = (1, img_rows, img_cols)\n",
    "else:\n",
    "    xtrain = xtrain.reshape(xtrain.shape[0], img_rows, img_cols, 1)\n",
    "    xtest = xtest.reshape(xtest.shape[0], img_rows, img_cols, 1)\n",
    "    input_shape = (img_rows, img_cols, 1)"
   ]
  },
  {
   "cell_type": "code",
   "execution_count": 24,
   "metadata": {},
   "outputs": [
    {
     "name": "stdout",
     "output_type": "stream",
     "text": [
      "(6750, 64, 64, 1) (6750,) (2250, 64, 64, 1) (2250,)\n"
     ]
    }
   ],
   "source": [
    "print(xtrain.shape,ytrain.shape,xtest.shape,ytest.shape)"
   ]
  },
  {
   "cell_type": "code",
   "execution_count": 25,
   "metadata": {},
   "outputs": [
    {
     "name": "stdout",
     "output_type": "stream",
     "text": [
      "xtrain shape: (6750, 64, 64, 1)\n",
      "ytrain shape: (6750,)\n",
      "6750 train samples\n",
      "2250 test samples\n"
     ]
    }
   ],
   "source": [
    "xtrain = xtrain.astype('float32')\n",
    "xtest = xtest.astype('float32')\n",
    "xtrain /= 255\n",
    "xtest /= 255\n",
    "print('xtrain shape:', xtrain.shape)\n",
    "print('ytrain shape:', ytrain.shape)\n",
    "print(xtrain.shape[0], 'train samples')\n",
    "print(xtest.shape[0], 'test samples')"
   ]
  },
  {
   "cell_type": "code",
   "execution_count": 26,
   "metadata": {},
   "outputs": [
    {
     "data": {
      "text/plain": [
       "(6750,)"
      ]
     },
     "execution_count": 26,
     "metadata": {},
     "output_type": "execute_result"
    }
   ],
   "source": [
    "ytrain.shape"
   ]
  },
  {
   "cell_type": "code",
   "execution_count": 27,
   "metadata": {},
   "outputs": [],
   "source": [
    "xtrain=tf.keras.utils.normalize(xtrain,axis=1)\n",
    "xtest=tf.keras.utils.normalize(xtest,axis=1)"
   ]
  },
  {
   "cell_type": "code",
   "execution_count": 28,
   "metadata": {},
   "outputs": [],
   "source": [
    "#from keras.utils import to_categorical\n",
    "#y_binary = to_categorical(y_int)\n",
    "ytrain = keras.utils.to_categorical(ytrain,5)\n",
    "ytest = keras.utils.to_categorical(ytest,5)\n",
    "\n",
    "#y_train = np_utils.to_categorical(y_train)\n",
    "#y_test = np_utils.to_categorical(y_test)\n",
    "#num_classes = y_test.shape[1]"
   ]
  },
  {
   "cell_type": "code",
   "execution_count": 29,
   "metadata": {},
   "outputs": [
    {
     "data": {
      "text/plain": [
       "(6750, 5)"
      ]
     },
     "execution_count": 29,
     "metadata": {},
     "output_type": "execute_result"
    }
   ],
   "source": [
    "ytrain.shape"
   ]
  },
  {
   "cell_type": "code",
   "execution_count": 67,
   "metadata": {},
   "outputs": [],
   "source": [
    "model = Sequential()\n",
    "model.add(Conv2D(32, (3, 3), activation='relu', input_shape=(64,64,1)))\n",
    "model.add(Conv2D(32, (3, 3), activation='relu'))\n",
    "model.add(MaxPooling2D(pool_size=(2, 2)))\n",
    "model.add(Dropout(0.25)) \n",
    "\n",
    "model.add(Conv2D(64, (3, 3), activation='relu'))\n",
    "model.add(Conv2D(64, (3, 3), activation='relu'))\n",
    "model.add(MaxPooling2D(pool_size=(2, 2)))\n",
    "model.add(Dropout(0.25))\n",
    "\n",
    "model.add(Conv2D(64, (3, 3), activation='relu'))\n",
    "model.add(Conv2D(64, (3, 3), activation='relu'))\n",
    "model.add(MaxPooling2D(pool_size=(2, 2)))\n",
    "model.add(Dropout(0.25))\n",
    "\n",
    "model.add(Flatten())\n",
    "model.add(Dense(256, activation='relu'))\n",
    "model.add(Dropout(0.5))\n",
    "model.add(Dense(5, activation='softmax'))\n",
    "\n",
    "model.compile(loss=keras.losses.categorical_crossentropy,optimizer=keras.optimizers.Adadelta(),metrics=['accuracy'])\n",
    "#model.compile(loss='binary_crossentropy', optimizer='rmsprop', metrics=['accuracy'])\n",
    "#model.fit(xtrain, ytrain, batch_size=32, epochs=2)\n",
    "#model.summary()\n",
    "#model.fit(xtrain, ytrain,batch_size=128,epochs=2,verbose=1,validation_data=(xtest, ytest))"
   ]
  },
  {
   "cell_type": "code",
   "execution_count": 77,
   "metadata": {},
   "outputs": [
    {
     "name": "stdout",
     "output_type": "stream",
     "text": [
      "Train on 6750 samples, validate on 2250 samples\n",
      "Epoch 1/10\n"
     ]
    },
    {
     "name": "stdout",
     "output_type": "stream",
     "text": [
      "6688/6750 [============================>.] - ETA: 1:39 - loss: 0.8780 - acc: 0.625 - ETA: 1:42 - loss: 0.8918 - acc: 0.593 - ETA: 1:39 - loss: 0.9588 - acc: 0.552 - ETA: 1:37 - loss: 0.9579 - acc: 0.593 - ETA: 1:36 - loss: 0.9391 - acc: 0.587 - ETA: 1:35 - loss: 0.9018 - acc: 0.604 - ETA: 1:35 - loss: 0.8668 - acc: 0.638 - ETA: 1:36 - loss: 0.8324 - acc: 0.664 - ETA: 1:35 - loss: 0.8222 - acc: 0.673 - ETA: 1:34 - loss: 0.8073 - acc: 0.684 - ETA: 1:33 - loss: 0.7865 - acc: 0.687 - ETA: 1:33 - loss: 0.8148 - acc: 0.666 - ETA: 1:32 - loss: 0.8134 - acc: 0.661 - ETA: 1:32 - loss: 0.8234 - acc: 0.654 - ETA: 1:32 - loss: 0.8578 - acc: 0.637 - ETA: 1:32 - loss: 0.8740 - acc: 0.623 - ETA: 1:32 - loss: 0.8828 - acc: 0.617 - ETA: 1:31 - loss: 0.8912 - acc: 0.609 - ETA: 1:29 - loss: 0.8872 - acc: 0.610 - ETA: 1:27 - loss: 0.8874 - acc: 0.607 - ETA: 1:26 - loss: 0.8918 - acc: 0.608 - ETA: 1:24 - loss: 0.8918 - acc: 0.609 - ETA: 1:23 - loss: 0.8955 - acc: 0.607 - ETA: 1:22 - loss: 0.8983 - acc: 0.608 - ETA: 1:21 - loss: 0.9138 - acc: 0.603 - ETA: 1:20 - loss: 0.9173 - acc: 0.601 - ETA: 1:19 - loss: 0.9149 - acc: 0.597 - ETA: 1:18 - loss: 0.9187 - acc: 0.594 - ETA: 1:17 - loss: 0.9145 - acc: 0.595 - ETA: 1:17 - loss: 0.9172 - acc: 0.595 - ETA: 1:17 - loss: 0.9123 - acc: 0.596 - ETA: 1:16 - loss: 0.9093 - acc: 0.597 - ETA: 1:16 - loss: 0.9041 - acc: 0.599 - ETA: 1:16 - loss: 0.9054 - acc: 0.601 - ETA: 1:15 - loss: 0.8961 - acc: 0.605 - ETA: 1:15 - loss: 0.8949 - acc: 0.605 - ETA: 1:15 - loss: 0.8908 - acc: 0.608 - ETA: 1:14 - loss: 0.8881 - acc: 0.611 - ETA: 1:14 - loss: 0.8900 - acc: 0.611 - ETA: 1:14 - loss: 0.8878 - acc: 0.612 - ETA: 1:13 - loss: 0.8952 - acc: 0.610 - ETA: 1:13 - loss: 0.8963 - acc: 0.609 - ETA: 1:13 - loss: 0.8910 - acc: 0.614 - ETA: 1:12 - loss: 0.8920 - acc: 0.611 - ETA: 1:12 - loss: 0.8911 - acc: 0.614 - ETA: 1:12 - loss: 0.8914 - acc: 0.614 - ETA: 1:12 - loss: 0.8858 - acc: 0.618 - ETA: 1:11 - loss: 0.8878 - acc: 0.618 - ETA: 1:11 - loss: 0.8843 - acc: 0.619 - ETA: 1:11 - loss: 0.8861 - acc: 0.617 - ETA: 1:10 - loss: 0.8860 - acc: 0.616 - ETA: 1:10 - loss: 0.8858 - acc: 0.616 - ETA: 1:10 - loss: 0.8864 - acc: 0.615 - ETA: 1:09 - loss: 0.8891 - acc: 0.614 - ETA: 1:09 - loss: 0.8908 - acc: 0.611 - ETA: 1:09 - loss: 0.8893 - acc: 0.613 - ETA: 1:08 - loss: 0.8929 - acc: 0.612 - ETA: 1:08 - loss: 0.8934 - acc: 0.611 - ETA: 1:07 - loss: 0.8935 - acc: 0.611 - ETA: 1:07 - loss: 0.8910 - acc: 0.614 - ETA: 1:07 - loss: 0.8851 - acc: 0.618 - ETA: 1:06 - loss: 0.8882 - acc: 0.619 - ETA: 1:06 - loss: 0.8884 - acc: 0.620 - ETA: 1:05 - loss: 0.8890 - acc: 0.619 - ETA: 1:05 - loss: 0.8879 - acc: 0.618 - ETA: 1:05 - loss: 0.8849 - acc: 0.619 - ETA: 1:04 - loss: 0.8856 - acc: 0.619 - ETA: 1:04 - loss: 0.8873 - acc: 0.619 - ETA: 1:03 - loss: 0.8873 - acc: 0.618 - ETA: 1:03 - loss: 0.8893 - acc: 0.618 - ETA: 1:02 - loss: 0.8870 - acc: 0.620 - ETA: 1:02 - loss: 0.8852 - acc: 0.620 - ETA: 1:01 - loss: 0.8871 - acc: 0.620 - ETA: 1:01 - loss: 0.8889 - acc: 0.620 - ETA: 1:01 - loss: 0.8859 - acc: 0.622 - ETA: 1:00 - loss: 0.8887 - acc: 0.621 - ETA: 1:00 - loss: 0.8885 - acc: 0.620 - ETA: 1:00 - loss: 0.8879 - acc: 0.621 - ETA: 59s - loss: 0.8847 - acc: 0.622 - ETA: 59s - loss: 0.8873 - acc: 0.62 - ETA: 58s - loss: 0.8872 - acc: 0.61 - ETA: 58s - loss: 0.8914 - acc: 0.62 - ETA: 58s - loss: 0.8926 - acc: 0.61 - ETA: 57s - loss: 0.8916 - acc: 0.61 - ETA: 57s - loss: 0.8904 - acc: 0.62 - ETA: 56s - loss: 0.8907 - acc: 0.62 - ETA: 56s - loss: 0.8902 - acc: 0.62 - ETA: 55s - loss: 0.8881 - acc: 0.62 - ETA: 55s - loss: 0.8890 - acc: 0.62 - ETA: 54s - loss: 0.8876 - acc: 0.62 - ETA: 54s - loss: 0.8868 - acc: 0.62 - ETA: 54s - loss: 0.8875 - acc: 0.61 - ETA: 53s - loss: 0.8849 - acc: 0.62 - ETA: 53s - loss: 0.8826 - acc: 0.62 - ETA: 52s - loss: 0.8843 - acc: 0.62 - ETA: 52s - loss: 0.8819 - acc: 0.62 - ETA: 52s - loss: 0.8844 - acc: 0.62 - ETA: 51s - loss: 0.8820 - acc: 0.62 - ETA: 51s - loss: 0.8816 - acc: 0.62 - ETA: 50s - loss: 0.8801 - acc: 0.62 - ETA: 50s - loss: 0.8835 - acc: 0.62 - ETA: 50s - loss: 0.8855 - acc: 0.62 - ETA: 49s - loss: 0.8844 - acc: 0.62 - ETA: 49s - loss: 0.8833 - acc: 0.62 - ETA: 48s - loss: 0.8822 - acc: 0.62 - ETA: 47s - loss: 0.8820 - acc: 0.62 - ETA: 47s - loss: 0.8814 - acc: 0.62 - ETA: 46s - loss: 0.8799 - acc: 0.62 - ETA: 46s - loss: 0.8800 - acc: 0.62 - ETA: 45s - loss: 0.8804 - acc: 0.62 - ETA: 45s - loss: 0.8786 - acc: 0.62 - ETA: 44s - loss: 0.8780 - acc: 0.62 - ETA: 44s - loss: 0.8784 - acc: 0.62 - ETA: 43s - loss: 0.8789 - acc: 0.62 - ETA: 43s - loss: 0.8798 - acc: 0.62 - ETA: 42s - loss: 0.8797 - acc: 0.62 - ETA: 42s - loss: 0.8784 - acc: 0.62 - ETA: 41s - loss: 0.8781 - acc: 0.62 - ETA: 41s - loss: 0.8789 - acc: 0.62 - ETA: 40s - loss: 0.8776 - acc: 0.62 - ETA: 40s - loss: 0.8765 - acc: 0.62 - ETA: 39s - loss: 0.8763 - acc: 0.62 - ETA: 39s - loss: 0.8740 - acc: 0.62 - ETA: 39s - loss: 0.8727 - acc: 0.62 - ETA: 38s - loss: 0.8711 - acc: 0.62 - ETA: 38s - loss: 0.8740 - acc: 0.62 - ETA: 37s - loss: 0.8742 - acc: 0.62 - ETA: 37s - loss: 0.8729 - acc: 0.62 - ETA: 36s - loss: 0.8736 - acc: 0.62 - ETA: 36s - loss: 0.8737 - acc: 0.62 - ETA: 36s - loss: 0.8755 - acc: 0.62 - ETA: 35s - loss: 0.8764 - acc: 0.62 - ETA: 35s - loss: 0.8753 - acc: 0.62 - ETA: 34s - loss: 0.8736 - acc: 0.62 - ETA: 34s - loss: 0.8726 - acc: 0.63 - ETA: 33s - loss: 0.8702 - acc: 0.63 - ETA: 33s - loss: 0.8694 - acc: 0.63 - ETA: 32s - loss: 0.8705 - acc: 0.63 - ETA: 32s - loss: 0.8691 - acc: 0.63 - ETA: 32s - loss: 0.8675 - acc: 0.63 - ETA: 31s - loss: 0.8672 - acc: 0.63 - ETA: 31s - loss: 0.8675 - acc: 0.63 - ETA: 30s - loss: 0.8687 - acc: 0.63 - ETA: 30s - loss: 0.8678 - acc: 0.63 - ETA: 29s - loss: 0.8679 - acc: 0.63 - ETA: 29s - loss: 0.8685 - acc: 0.63 - ETA: 28s - loss: 0.8678 - acc: 0.63 - ETA: 28s - loss: 0.8676 - acc: 0.63 - ETA: 27s - loss: 0.8675 - acc: 0.63 - ETA: 27s - loss: 0.8670 - acc: 0.63 - ETA: 26s - loss: 0.8666 - acc: 0.63 - ETA: 26s - loss: 0.8667 - acc: 0.63 - ETA: 25s - loss: 0.8670 - acc: 0.63 - ETA: 25s - loss: 0.8665 - acc: 0.63 - ETA: 24s - loss: 0.8666 - acc: 0.63 - ETA: 24s - loss: 0.8652 - acc: 0.63 - ETA: 23s - loss: 0.8672 - acc: 0.63 - ETA: 23s - loss: 0.8671 - acc: 0.63 - ETA: 22s - loss: 0.8681 - acc: 0.63 - ETA: 22s - loss: 0.8678 - acc: 0.63 - ETA: 22s - loss: 0.8678 - acc: 0.63 - ETA: 21s - loss: 0.8700 - acc: 0.63 - ETA: 21s - loss: 0.8697 - acc: 0.63 - ETA: 20s - loss: 0.8687 - acc: 0.63 - ETA: 20s - loss: 0.8683 - acc: 0.63 - ETA: 19s - loss: 0.8674 - acc: 0.63 - ETA: 19s - loss: 0.8667 - acc: 0.63 - ETA: 18s - loss: 0.8654 - acc: 0.63 - ETA: 18s - loss: 0.8660 - acc: 0.63 - ETA: 18s - loss: 0.8660 - acc: 0.63 - ETA: 17s - loss: 0.8654 - acc: 0.63 - ETA: 17s - loss: 0.8649 - acc: 0.63 - ETA: 16s - loss: 0.8643 - acc: 0.63 - ETA: 16s - loss: 0.8644 - acc: 0.63 - ETA: 15s - loss: 0.8655 - acc: 0.63 - ETA: 15s - loss: 0.8653 - acc: 0.63 - ETA: 15s - loss: 0.8657 - acc: 0.63 - ETA: 14s - loss: 0.8646 - acc: 0.63 - ETA: 14s - loss: 0.8645 - acc: 0.63 - ETA: 13s - loss: 0.8640 - acc: 0.63 - ETA: 13s - loss: 0.8635 - acc: 0.63 - ETA: 12s - loss: 0.8636 - acc: 0.63 - ETA: 12s - loss: 0.8655 - acc: 0.63 - ETA: 11s - loss: 0.8662 - acc: 0.63 - ETA: 11s - loss: 0.8668 - acc: 0.63 - ETA: 11s - loss: 0.8661 - acc: 0.63 - ETA: 10s - loss: 0.8658 - acc: 0.63 - ETA: 10s - loss: 0.8658 - acc: 0.63 - ETA: 9s - loss: 0.8659 - acc: 0.6338 - ETA: 9s - loss: 0.8659 - acc: 0.634 - ETA: 8s - loss: 0.8665 - acc: 0.633 - ETA: 8s - loss: 0.8665 - acc: 0.633 - ETA: 8s - loss: 0.8669 - acc: 0.633 - ETA: 7s - loss: 0.8686 - acc: 0.633 - ETA: 7s - loss: 0.8683 - acc: 0.633 - ETA: 6s - loss: 0.8691 - acc: 0.633 - ETA: 6s - loss: 0.8683 - acc: 0.633 - ETA: 5s - loss: 0.8680 - acc: 0.633 - ETA: 5s - loss: 0.8686 - acc: 0.633 - ETA: 4s - loss: 0.8691 - acc: 0.633 - ETA: 4s - loss: 0.8693 - acc: 0.633 - ETA: 4s - loss: 0.8688 - acc: 0.633 - ETA: 3s - loss: 0.8690 - acc: 0.633 - ETA: 3s - loss: 0.8688 - acc: 0.633 - ETA: 2s - loss: 0.8684 - acc: 0.632 - ETA: 2s - loss: 0.8676 - acc: 0.633 - ETA: 1s - loss: 0.8668 - acc: 0.633 - ETA: 1s - loss: 0.8662 - acc: 0.633 - ETA: 0s - loss: 0.8678 - acc: 0.6336750/6750 [==============================] - ETA: 0s - loss: 0.8686 - acc: 0.632 - 104s 15ms/step - loss: 0.8694 - acc: 0.6321 - val_loss: 0.9797 - val_acc: 0.5684\n",
      "Epoch 2/10\n"
     ]
    },
    {
     "name": "stdout",
     "output_type": "stream",
     "text": [
      "6720/6750 [============================>.] - ETA: 1:43 - loss: 0.9930 - acc: 0.500 - ETA: 1:43 - loss: 0.9364 - acc: 0.578 - ETA: 1:42 - loss: 0.9163 - acc: 0.593 - ETA: 1:43 - loss: 0.8850 - acc: 0.617 - ETA: 1:41 - loss: 0.9037 - acc: 0.606 - ETA: 1:39 - loss: 0.9151 - acc: 0.599 - ETA: 1:40 - loss: 0.9039 - acc: 0.602 - ETA: 1:39 - loss: 0.9034 - acc: 0.597 - ETA: 1:38 - loss: 0.8953 - acc: 0.600 - ETA: 1:38 - loss: 0.8857 - acc: 0.606 - ETA: 1:37 - loss: 0.8569 - acc: 0.630 - ETA: 1:36 - loss: 0.8500 - acc: 0.630 - ETA: 1:35 - loss: 0.8662 - acc: 0.634 - ETA: 1:34 - loss: 0.8544 - acc: 0.638 - ETA: 1:34 - loss: 0.8646 - acc: 0.637 - ETA: 1:33 - loss: 0.8661 - acc: 0.630 - ETA: 1:33 - loss: 0.8681 - acc: 0.628 - ETA: 1:32 - loss: 0.8641 - acc: 0.631 - ETA: 1:32 - loss: 0.8653 - acc: 0.633 - ETA: 1:32 - loss: 0.8606 - acc: 0.631 - ETA: 1:32 - loss: 0.8500 - acc: 0.639 - ETA: 1:31 - loss: 0.8457 - acc: 0.642 - ETA: 1:31 - loss: 0.8510 - acc: 0.642 - ETA: 1:31 - loss: 0.8543 - acc: 0.639 - ETA: 1:30 - loss: 0.8540 - acc: 0.635 - ETA: 1:30 - loss: 0.8694 - acc: 0.628 - ETA: 1:30 - loss: 0.8689 - acc: 0.626 - ETA: 1:29 - loss: 0.8678 - acc: 0.628 - ETA: 1:28 - loss: 0.8619 - acc: 0.631 - ETA: 1:28 - loss: 0.8663 - acc: 0.632 - ETA: 1:27 - loss: 0.8631 - acc: 0.637 - ETA: 1:27 - loss: 0.8593 - acc: 0.641 - ETA: 1:26 - loss: 0.8530 - acc: 0.643 - ETA: 1:26 - loss: 0.8518 - acc: 0.646 - ETA: 1:25 - loss: 0.8500 - acc: 0.648 - ETA: 1:25 - loss: 0.8488 - acc: 0.648 - ETA: 1:24 - loss: 0.8406 - acc: 0.649 - ETA: 1:23 - loss: 0.8343 - acc: 0.653 - ETA: 1:23 - loss: 0.8343 - acc: 0.650 - ETA: 1:22 - loss: 0.8386 - acc: 0.646 - ETA: 1:22 - loss: 0.8393 - acc: 0.647 - ETA: 1:21 - loss: 0.8410 - acc: 0.647 - ETA: 1:21 - loss: 0.8391 - acc: 0.648 - ETA: 1:21 - loss: 0.8443 - acc: 0.644 - ETA: 1:20 - loss: 0.8419 - acc: 0.645 - ETA: 1:19 - loss: 0.8387 - acc: 0.646 - ETA: 1:19 - loss: 0.8395 - acc: 0.643 - ETA: 1:18 - loss: 0.8369 - acc: 0.643 - ETA: 1:18 - loss: 0.8391 - acc: 0.642 - ETA: 1:17 - loss: 0.8391 - acc: 0.641 - ETA: 1:17 - loss: 0.8403 - acc: 0.639 - ETA: 1:16 - loss: 0.8421 - acc: 0.637 - ETA: 1:16 - loss: 0.8431 - acc: 0.636 - ETA: 1:15 - loss: 0.8430 - acc: 0.634 - ETA: 1:15 - loss: 0.8459 - acc: 0.633 - ETA: 1:14 - loss: 0.8470 - acc: 0.633 - ETA: 1:14 - loss: 0.8475 - acc: 0.633 - ETA: 1:13 - loss: 0.8472 - acc: 0.634 - ETA: 1:13 - loss: 0.8462 - acc: 0.635 - ETA: 1:12 - loss: 0.8471 - acc: 0.636 - ETA: 1:12 - loss: 0.8461 - acc: 0.637 - ETA: 1:12 - loss: 0.8444 - acc: 0.637 - ETA: 1:11 - loss: 0.8412 - acc: 0.637 - ETA: 1:11 - loss: 0.8397 - acc: 0.638 - ETA: 1:10 - loss: 0.8378 - acc: 0.639 - ETA: 1:10 - loss: 0.8359 - acc: 0.640 - ETA: 1:09 - loss: 0.8379 - acc: 0.637 - ETA: 1:08 - loss: 0.8379 - acc: 0.638 - ETA: 1:08 - loss: 0.8358 - acc: 0.639 - ETA: 1:07 - loss: 0.8341 - acc: 0.640 - ETA: 1:07 - loss: 0.8312 - acc: 0.643 - ETA: 1:07 - loss: 0.8327 - acc: 0.642 - ETA: 1:06 - loss: 0.8338 - acc: 0.642 - ETA: 1:06 - loss: 0.8399 - acc: 0.641 - ETA: 1:05 - loss: 0.8415 - acc: 0.641 - ETA: 1:05 - loss: 0.8415 - acc: 0.642 - ETA: 1:04 - loss: 0.8430 - acc: 0.643 - ETA: 1:03 - loss: 0.8425 - acc: 0.643 - ETA: 1:03 - loss: 0.8416 - acc: 0.643 - ETA: 1:03 - loss: 0.8411 - acc: 0.644 - ETA: 1:02 - loss: 0.8421 - acc: 0.644 - ETA: 1:02 - loss: 0.8403 - acc: 0.646 - ETA: 1:01 - loss: 0.8395 - acc: 0.645 - ETA: 1:01 - loss: 0.8373 - acc: 0.646 - ETA: 1:00 - loss: 0.8357 - acc: 0.646 - ETA: 1:00 - loss: 0.8349 - acc: 0.645 - ETA: 59s - loss: 0.8384 - acc: 0.645 - ETA: 59s - loss: 0.8400 - acc: 0.64 - ETA: 58s - loss: 0.8378 - acc: 0.64 - ETA: 57s - loss: 0.8359 - acc: 0.64 - ETA: 57s - loss: 0.8366 - acc: 0.64 - ETA: 56s - loss: 0.8344 - acc: 0.64 - ETA: 56s - loss: 0.8344 - acc: 0.64 - ETA: 55s - loss: 0.8376 - acc: 0.64 - ETA: 55s - loss: 0.8411 - acc: 0.64 - ETA: 54s - loss: 0.8427 - acc: 0.64 - ETA: 54s - loss: 0.8430 - acc: 0.64 - ETA: 53s - loss: 0.8457 - acc: 0.64 - ETA: 53s - loss: 0.8457 - acc: 0.64 - ETA: 52s - loss: 0.8470 - acc: 0.64 - ETA: 52s - loss: 0.8471 - acc: 0.64 - ETA: 52s - loss: 0.8474 - acc: 0.63 - ETA: 51s - loss: 0.8472 - acc: 0.63 - ETA: 51s - loss: 0.8474 - acc: 0.63 - ETA: 50s - loss: 0.8491 - acc: 0.63 - ETA: 50s - loss: 0.8488 - acc: 0.63 - ETA: 49s - loss: 0.8484 - acc: 0.63 - ETA: 49s - loss: 0.8495 - acc: 0.63 - ETA: 48s - loss: 0.8494 - acc: 0.63 - ETA: 48s - loss: 0.8522 - acc: 0.63 - ETA: 47s - loss: 0.8512 - acc: 0.63 - ETA: 47s - loss: 0.8533 - acc: 0.63 - ETA: 46s - loss: 0.8536 - acc: 0.63 - ETA: 46s - loss: 0.8546 - acc: 0.63 - ETA: 46s - loss: 0.8552 - acc: 0.63 - ETA: 45s - loss: 0.8550 - acc: 0.63 - ETA: 45s - loss: 0.8544 - acc: 0.63 - ETA: 44s - loss: 0.8534 - acc: 0.63 - ETA: 44s - loss: 0.8528 - acc: 0.63 - ETA: 43s - loss: 0.8554 - acc: 0.63 - ETA: 43s - loss: 0.8553 - acc: 0.63 - ETA: 42s - loss: 0.8548 - acc: 0.63 - ETA: 42s - loss: 0.8555 - acc: 0.63 - ETA: 41s - loss: 0.8530 - acc: 0.64 - ETA: 41s - loss: 0.8523 - acc: 0.64 - ETA: 40s - loss: 0.8525 - acc: 0.64 - ETA: 40s - loss: 0.8522 - acc: 0.64 - ETA: 39s - loss: 0.8526 - acc: 0.63 - ETA: 39s - loss: 0.8525 - acc: 0.63 - ETA: 39s - loss: 0.8530 - acc: 0.63 - ETA: 38s - loss: 0.8524 - acc: 0.63 - ETA: 38s - loss: 0.8514 - acc: 0.63 - ETA: 37s - loss: 0.8522 - acc: 0.63 - ETA: 37s - loss: 0.8520 - acc: 0.64 - ETA: 36s - loss: 0.8523 - acc: 0.64 - ETA: 36s - loss: 0.8530 - acc: 0.63 - ETA: 35s - loss: 0.8539 - acc: 0.63 - ETA: 35s - loss: 0.8524 - acc: 0.63 - ETA: 34s - loss: 0.8529 - acc: 0.64 - ETA: 34s - loss: 0.8523 - acc: 0.64 - ETA: 33s - loss: 0.8522 - acc: 0.64 - ETA: 33s - loss: 0.8512 - acc: 0.64 - ETA: 32s - loss: 0.8502 - acc: 0.64 - ETA: 32s - loss: 0.8497 - acc: 0.64 - ETA: 31s - loss: 0.8512 - acc: 0.63 - ETA: 31s - loss: 0.8516 - acc: 0.63 - ETA: 30s - loss: 0.8504 - acc: 0.63 - ETA: 30s - loss: 0.8489 - acc: 0.63 - ETA: 29s - loss: 0.8482 - acc: 0.63 - ETA: 29s - loss: 0.8501 - acc: 0.63 - ETA: 29s - loss: 0.8504 - acc: 0.63 - ETA: 28s - loss: 0.8508 - acc: 0.63 - ETA: 28s - loss: 0.8506 - acc: 0.63 - ETA: 27s - loss: 0.8496 - acc: 0.63 - ETA: 27s - loss: 0.8491 - acc: 0.63 - ETA: 26s - loss: 0.8505 - acc: 0.63 - ETA: 26s - loss: 0.8499 - acc: 0.63 - ETA: 25s - loss: 0.8519 - acc: 0.63 - ETA: 25s - loss: 0.8514 - acc: 0.63 - ETA: 24s - loss: 0.8519 - acc: 0.63 - ETA: 24s - loss: 0.8525 - acc: 0.63 - ETA: 23s - loss: 0.8513 - acc: 0.63 - ETA: 23s - loss: 0.8506 - acc: 0.63 - ETA: 22s - loss: 0.8524 - acc: 0.63 - ETA: 22s - loss: 0.8530 - acc: 0.63 - ETA: 21s - loss: 0.8533 - acc: 0.63 - ETA: 21s - loss: 0.8529 - acc: 0.63 - ETA: 20s - loss: 0.8530 - acc: 0.63 - ETA: 20s - loss: 0.8540 - acc: 0.63 - ETA: 19s - loss: 0.8529 - acc: 0.63 - ETA: 19s - loss: 0.8531 - acc: 0.63 - ETA: 18s - loss: 0.8535 - acc: 0.63 - ETA: 18s - loss: 0.8537 - acc: 0.63 - ETA: 18s - loss: 0.8524 - acc: 0.63 - ETA: 17s - loss: 0.8527 - acc: 0.63 - ETA: 17s - loss: 0.8524 - acc: 0.63 - ETA: 16s - loss: 0.8531 - acc: 0.63 - ETA: 16s - loss: 0.8540 - acc: 0.63 - ETA: 15s - loss: 0.8542 - acc: 0.63 - ETA: 15s - loss: 0.8549 - acc: 0.63 - ETA: 14s - loss: 0.8550 - acc: 0.63 - ETA: 14s - loss: 0.8564 - acc: 0.63 - ETA: 13s - loss: 0.8560 - acc: 0.63 - ETA: 13s - loss: 0.8561 - acc: 0.63 - ETA: 12s - loss: 0.8561 - acc: 0.63 - ETA: 12s - loss: 0.8565 - acc: 0.63 - ETA: 11s - loss: 0.8559 - acc: 0.63 - ETA: 11s - loss: 0.8551 - acc: 0.63 - ETA: 10s - loss: 0.8550 - acc: 0.63 - ETA: 10s - loss: 0.8538 - acc: 0.63 - ETA: 9s - loss: 0.8525 - acc: 0.6348 - ETA: 9s - loss: 0.8515 - acc: 0.634 - ETA: 8s - loss: 0.8519 - acc: 0.633 - ETA: 8s - loss: 0.8512 - acc: 0.633 - ETA: 7s - loss: 0.8505 - acc: 0.633 - ETA: 7s - loss: 0.8503 - acc: 0.633 - ETA: 6s - loss: 0.8515 - acc: 0.632 - ETA: 6s - loss: 0.8516 - acc: 0.632 - ETA: 5s - loss: 0.8522 - acc: 0.632 - ETA: 5s - loss: 0.8512 - acc: 0.633 - ETA: 4s - loss: 0.8525 - acc: 0.632 - ETA: 4s - loss: 0.8524 - acc: 0.632 - ETA: 3s - loss: 0.8521 - acc: 0.632 - ETA: 3s - loss: 0.8519 - acc: 0.633 - ETA: 2s - loss: 0.8510 - acc: 0.632 - ETA: 2s - loss: 0.8506 - acc: 0.633 - ETA: 1s - loss: 0.8501 - acc: 0.633 - ETA: 1s - loss: 0.8501 - acc: 0.632 - ETA: 0s - loss: 0.8504 - acc: 0.632 - ETA: 0s - loss: 0.8509 - acc: 0.6321"
     ]
    },
    {
     "name": "stdout",
     "output_type": "stream",
     "text": [
      "6750/6750 [==============================] - 113s 17ms/step - loss: 0.8504 - acc: 0.6324 - val_loss: 0.9328 - val_acc: 0.5991\n",
      "Epoch 3/10\n"
     ]
    },
    {
     "name": "stdout",
     "output_type": "stream",
     "text": [
      "6720/6750 [============================>.] - ETA: 1:45 - loss: 0.8495 - acc: 0.593 - ETA: 1:45 - loss: 0.8901 - acc: 0.593 - ETA: 1:45 - loss: 0.8629 - acc: 0.614 - ETA: 1:43 - loss: 0.8456 - acc: 0.625 - ETA: 1:41 - loss: 0.8737 - acc: 0.625 - ETA: 1:41 - loss: 0.8624 - acc: 0.640 - ETA: 1:42 - loss: 0.8381 - acc: 0.638 - ETA: 1:42 - loss: 0.8585 - acc: 0.617 - ETA: 1:41 - loss: 0.8576 - acc: 0.621 - ETA: 1:40 - loss: 0.8456 - acc: 0.625 - ETA: 1:40 - loss: 0.8536 - acc: 0.630 - ETA: 1:39 - loss: 0.8500 - acc: 0.630 - ETA: 1:38 - loss: 0.8609 - acc: 0.622 - ETA: 1:37 - loss: 0.8423 - acc: 0.633 - ETA: 1:36 - loss: 0.8320 - acc: 0.639 - ETA: 1:36 - loss: 0.8462 - acc: 0.638 - ETA: 1:36 - loss: 0.8465 - acc: 0.637 - ETA: 1:36 - loss: 0.8489 - acc: 0.631 - ETA: 1:36 - loss: 0.8499 - acc: 0.639 - ETA: 1:36 - loss: 0.8507 - acc: 0.632 - ETA: 1:35 - loss: 0.8504 - acc: 0.635 - ETA: 1:34 - loss: 0.8651 - acc: 0.630 - ETA: 1:33 - loss: 0.8647 - acc: 0.631 - ETA: 1:33 - loss: 0.8608 - acc: 0.632 - ETA: 1:32 - loss: 0.8520 - acc: 0.637 - ETA: 1:31 - loss: 0.8570 - acc: 0.637 - ETA: 1:31 - loss: 0.8562 - acc: 0.636 - ETA: 1:31 - loss: 0.8490 - acc: 0.642 - ETA: 1:30 - loss: 0.8532 - acc: 0.636 - ETA: 1:30 - loss: 0.8562 - acc: 0.634 - ETA: 1:29 - loss: 0.8480 - acc: 0.638 - ETA: 1:29 - loss: 0.8480 - acc: 0.640 - ETA: 1:28 - loss: 0.8596 - acc: 0.635 - ETA: 1:28 - loss: 0.8548 - acc: 0.638 - ETA: 1:28 - loss: 0.8538 - acc: 0.640 - ETA: 1:27 - loss: 0.8549 - acc: 0.640 - ETA: 1:26 - loss: 0.8584 - acc: 0.638 - ETA: 1:26 - loss: 0.8569 - acc: 0.638 - ETA: 1:26 - loss: 0.8541 - acc: 0.638 - ETA: 1:25 - loss: 0.8474 - acc: 0.642 - ETA: 1:25 - loss: 0.8511 - acc: 0.640 - ETA: 1:24 - loss: 0.8467 - acc: 0.644 - ETA: 1:23 - loss: 0.8526 - acc: 0.641 - ETA: 1:23 - loss: 0.8527 - acc: 0.639 - ETA: 1:22 - loss: 0.8531 - acc: 0.639 - ETA: 1:22 - loss: 0.8511 - acc: 0.642 - ETA: 1:21 - loss: 0.8482 - acc: 0.644 - ETA: 1:21 - loss: 0.8505 - acc: 0.643 - ETA: 1:20 - loss: 0.8505 - acc: 0.641 - ETA: 1:20 - loss: 0.8506 - acc: 0.642 - ETA: 1:19 - loss: 0.8498 - acc: 0.643 - ETA: 1:19 - loss: 0.8441 - acc: 0.647 - ETA: 1:18 - loss: 0.8401 - acc: 0.648 - ETA: 1:18 - loss: 0.8409 - acc: 0.647 - ETA: 1:17 - loss: 0.8410 - acc: 0.644 - ETA: 1:17 - loss: 0.8436 - acc: 0.643 - ETA: 1:16 - loss: 0.8419 - acc: 0.643 - ETA: 1:16 - loss: 0.8431 - acc: 0.643 - ETA: 1:15 - loss: 0.8455 - acc: 0.641 - ETA: 1:15 - loss: 0.8450 - acc: 0.641 - ETA: 1:14 - loss: 0.8460 - acc: 0.641 - ETA: 1:13 - loss: 0.8465 - acc: 0.642 - ETA: 1:13 - loss: 0.8447 - acc: 0.642 - ETA: 1:13 - loss: 0.8424 - acc: 0.642 - ETA: 1:12 - loss: 0.8428 - acc: 0.641 - ETA: 1:11 - loss: 0.8378 - acc: 0.645 - ETA: 1:11 - loss: 0.8388 - acc: 0.644 - ETA: 1:11 - loss: 0.8365 - acc: 0.644 - ETA: 1:10 - loss: 0.8344 - acc: 0.645 - ETA: 1:09 - loss: 0.8356 - acc: 0.644 - ETA: 1:09 - loss: 0.8357 - acc: 0.643 - ETA: 1:08 - loss: 0.8341 - acc: 0.643 - ETA: 1:08 - loss: 0.8355 - acc: 0.642 - ETA: 1:07 - loss: 0.8331 - acc: 0.643 - ETA: 1:07 - loss: 0.8370 - acc: 0.640 - ETA: 1:06 - loss: 0.8378 - acc: 0.641 - ETA: 1:06 - loss: 0.8400 - acc: 0.640 - ETA: 1:05 - loss: 0.8402 - acc: 0.640 - ETA: 1:05 - loss: 0.8378 - acc: 0.640 - ETA: 1:04 - loss: 0.8364 - acc: 0.641 - ETA: 1:04 - loss: 0.8370 - acc: 0.641 - ETA: 1:03 - loss: 0.8351 - acc: 0.642 - ETA: 1:03 - loss: 0.8317 - acc: 0.645 - ETA: 1:02 - loss: 0.8306 - acc: 0.646 - ETA: 1:02 - loss: 0.8297 - acc: 0.646 - ETA: 1:02 - loss: 0.8309 - acc: 0.646 - ETA: 1:01 - loss: 0.8333 - acc: 0.646 - ETA: 1:01 - loss: 0.8321 - acc: 0.648 - ETA: 1:00 - loss: 0.8295 - acc: 0.649 - ETA: 1:00 - loss: 0.8295 - acc: 0.650 - ETA: 59s - loss: 0.8286 - acc: 0.649 - ETA: 59s - loss: 0.8290 - acc: 0.65 - ETA: 58s - loss: 0.8288 - acc: 0.65 - ETA: 58s - loss: 0.8289 - acc: 0.64 - ETA: 57s - loss: 0.8276 - acc: 0.64 - ETA: 57s - loss: 0.8269 - acc: 0.64 - ETA: 56s - loss: 0.8267 - acc: 0.64 - ETA: 56s - loss: 0.8284 - acc: 0.64 - ETA: 55s - loss: 0.8270 - acc: 0.64 - ETA: 55s - loss: 0.8270 - acc: 0.64 - ETA: 54s - loss: 0.8284 - acc: 0.64 - ETA: 54s - loss: 0.8298 - acc: 0.64 - ETA: 53s - loss: 0.8297 - acc: 0.64 - ETA: 53s - loss: 0.8279 - acc: 0.64 - ETA: 52s - loss: 0.8286 - acc: 0.64 - ETA: 52s - loss: 0.8277 - acc: 0.64 - ETA: 51s - loss: 0.8284 - acc: 0.64 - ETA: 51s - loss: 0.8325 - acc: 0.64 - ETA: 50s - loss: 0.8335 - acc: 0.64 - ETA: 50s - loss: 0.8329 - acc: 0.64 - ETA: 49s - loss: 0.8318 - acc: 0.64 - ETA: 49s - loss: 0.8311 - acc: 0.64 - ETA: 48s - loss: 0.8303 - acc: 0.64 - ETA: 48s - loss: 0.8281 - acc: 0.64 - ETA: 47s - loss: 0.8280 - acc: 0.64 - ETA: 47s - loss: 0.8280 - acc: 0.64 - ETA: 46s - loss: 0.8302 - acc: 0.64 - ETA: 46s - loss: 0.8309 - acc: 0.64 - ETA: 45s - loss: 0.8301 - acc: 0.64 - ETA: 45s - loss: 0.8304 - acc: 0.64 - ETA: 44s - loss: 0.8291 - acc: 0.64 - ETA: 44s - loss: 0.8271 - acc: 0.64 - ETA: 43s - loss: 0.8270 - acc: 0.64 - ETA: 43s - loss: 0.8267 - acc: 0.64 - ETA: 42s - loss: 0.8267 - acc: 0.64 - ETA: 42s - loss: 0.8265 - acc: 0.64 - ETA: 41s - loss: 0.8271 - acc: 0.64 - ETA: 41s - loss: 0.8267 - acc: 0.64 - ETA: 40s - loss: 0.8252 - acc: 0.64 - ETA: 40s - loss: 0.8248 - acc: 0.64 - ETA: 39s - loss: 0.8270 - acc: 0.64 - ETA: 39s - loss: 0.8285 - acc: 0.64 - ETA: 38s - loss: 0.8283 - acc: 0.64 - ETA: 38s - loss: 0.8286 - acc: 0.64 - ETA: 37s - loss: 0.8270 - acc: 0.64 - ETA: 37s - loss: 0.8263 - acc: 0.64 - ETA: 36s - loss: 0.8262 - acc: 0.64 - ETA: 36s - loss: 0.8266 - acc: 0.64 - ETA: 35s - loss: 0.8261 - acc: 0.64 - ETA: 35s - loss: 0.8256 - acc: 0.64 - ETA: 34s - loss: 0.8260 - acc: 0.64 - ETA: 34s - loss: 0.8257 - acc: 0.64 - ETA: 33s - loss: 0.8236 - acc: 0.64 - ETA: 33s - loss: 0.8233 - acc: 0.64 - ETA: 32s - loss: 0.8236 - acc: 0.64 - ETA: 32s - loss: 0.8246 - acc: 0.64 - ETA: 31s - loss: 0.8240 - acc: 0.64 - ETA: 31s - loss: 0.8265 - acc: 0.64 - ETA: 30s - loss: 0.8245 - acc: 0.64 - ETA: 30s - loss: 0.8242 - acc: 0.64 - ETA: 29s - loss: 0.8249 - acc: 0.64 - ETA: 29s - loss: 0.8235 - acc: 0.64 - ETA: 28s - loss: 0.8255 - acc: 0.64 - ETA: 28s - loss: 0.8244 - acc: 0.64 - ETA: 27s - loss: 0.8246 - acc: 0.64 - ETA: 27s - loss: 0.8256 - acc: 0.64 - ETA: 26s - loss: 0.8256 - acc: 0.64 - ETA: 26s - loss: 0.8261 - acc: 0.64 - ETA: 25s - loss: 0.8265 - acc: 0.64 - ETA: 25s - loss: 0.8254 - acc: 0.64 - ETA: 24s - loss: 0.8245 - acc: 0.64 - ETA: 24s - loss: 0.8241 - acc: 0.64 - ETA: 23s - loss: 0.8239 - acc: 0.64 - ETA: 23s - loss: 0.8228 - acc: 0.65 - ETA: 22s - loss: 0.8233 - acc: 0.64 - ETA: 22s - loss: 0.8226 - acc: 0.65 - ETA: 21s - loss: 0.8220 - acc: 0.65 - ETA: 21s - loss: 0.8221 - acc: 0.65 - ETA: 20s - loss: 0.8215 - acc: 0.65 - ETA: 20s - loss: 0.8217 - acc: 0.65 - ETA: 19s - loss: 0.8220 - acc: 0.65 - ETA: 19s - loss: 0.8228 - acc: 0.65 - ETA: 18s - loss: 0.8230 - acc: 0.65 - ETA: 18s - loss: 0.8236 - acc: 0.65 - ETA: 17s - loss: 0.8236 - acc: 0.65 - ETA: 17s - loss: 0.8249 - acc: 0.65 - ETA: 16s - loss: 0.8260 - acc: 0.65 - ETA: 16s - loss: 0.8262 - acc: 0.65 - ETA: 15s - loss: 0.8268 - acc: 0.65 - ETA: 15s - loss: 0.8269 - acc: 0.65 - ETA: 14s - loss: 0.8268 - acc: 0.65 - ETA: 14s - loss: 0.8273 - acc: 0.65 - ETA: 13s - loss: 0.8277 - acc: 0.65 - ETA: 13s - loss: 0.8281 - acc: 0.65 - ETA: 12s - loss: 0.8280 - acc: 0.65 - ETA: 12s - loss: 0.8276 - acc: 0.65 - ETA: 11s - loss: 0.8276 - acc: 0.65 - ETA: 11s - loss: 0.8267 - acc: 0.65 - ETA: 10s - loss: 0.8260 - acc: 0.65 - ETA: 10s - loss: 0.8258 - acc: 0.65 - ETA: 9s - loss: 0.8268 - acc: 0.6525 - ETA: 9s - loss: 0.8270 - acc: 0.651 - ETA: 8s - loss: 0.8260 - acc: 0.651 - ETA: 8s - loss: 0.8271 - acc: 0.651 - ETA: 7s - loss: 0.8286 - acc: 0.651 - ETA: 7s - loss: 0.8292 - acc: 0.651 - ETA: 6s - loss: 0.8301 - acc: 0.650 - ETA: 6s - loss: 0.8300 - acc: 0.650 - ETA: 5s - loss: 0.8302 - acc: 0.650 - ETA: 5s - loss: 0.8299 - acc: 0.651 - ETA: 4s - loss: 0.8298 - acc: 0.651 - ETA: 4s - loss: 0.8301 - acc: 0.650 - ETA: 3s - loss: 0.8297 - acc: 0.651 - ETA: 3s - loss: 0.8309 - acc: 0.651 - ETA: 2s - loss: 0.8311 - acc: 0.651 - ETA: 2s - loss: 0.8315 - acc: 0.650 - ETA: 1s - loss: 0.8319 - acc: 0.649 - ETA: 1s - loss: 0.8318 - acc: 0.649 - ETA: 0s - loss: 0.8320 - acc: 0.649 - ETA: 0s - loss: 0.8324 - acc: 0.64976750/6750 [==============================] - 115s 17ms/step - loss: 0.8325 - acc: 0.6499 - val_loss: 0.9023 - val_acc: 0.6151\n",
      "Epoch 4/10\n"
     ]
    },
    {
     "name": "stdout",
     "output_type": "stream",
     "text": [
      "6750/6750 [==============================] - ETA: 1:52 - loss: 0.8086 - acc: 0.750 - ETA: 1:44 - loss: 0.8000 - acc: 0.687 - ETA: 1:43 - loss: 0.8642 - acc: 0.656 - ETA: 1:43 - loss: 0.8403 - acc: 0.656 - ETA: 1:42 - loss: 0.8279 - acc: 0.662 - ETA: 1:43 - loss: 0.8266 - acc: 0.666 - ETA: 1:39 - loss: 0.8298 - acc: 0.656 - ETA: 1:36 - loss: 0.8346 - acc: 0.636 - ETA: 1:35 - loss: 0.8274 - acc: 0.645 - ETA: 1:33 - loss: 0.8163 - acc: 0.637 - ETA: 1:34 - loss: 0.8074 - acc: 0.647 - ETA: 1:33 - loss: 0.8248 - acc: 0.645 - ETA: 1:33 - loss: 0.8137 - acc: 0.649 - ETA: 1:32 - loss: 0.8111 - acc: 0.645 - ETA: 1:31 - loss: 0.8318 - acc: 0.631 - ETA: 1:31 - loss: 0.8435 - acc: 0.621 - ETA: 1:29 - loss: 0.8402 - acc: 0.623 - ETA: 1:27 - loss: 0.8383 - acc: 0.621 - ETA: 1:25 - loss: 0.8365 - acc: 0.621 - ETA: 1:23 - loss: 0.8376 - acc: 0.621 - ETA: 1:22 - loss: 0.8382 - acc: 0.623 - ETA: 1:21 - loss: 0.8335 - acc: 0.622 - ETA: 1:21 - loss: 0.8393 - acc: 0.622 - ETA: 1:20 - loss: 0.8355 - acc: 0.623 - ETA: 1:20 - loss: 0.8376 - acc: 0.620 - ETA: 1:20 - loss: 0.8306 - acc: 0.627 - ETA: 1:19 - loss: 0.8260 - acc: 0.629 - ETA: 1:17 - loss: 0.8211 - acc: 0.630 - ETA: 1:17 - loss: 0.8162 - acc: 0.635 - ETA: 1:16 - loss: 0.8166 - acc: 0.633 - ETA: 1:16 - loss: 0.8173 - acc: 0.632 - ETA: 1:15 - loss: 0.8202 - acc: 0.627 - ETA: 1:15 - loss: 0.8165 - acc: 0.632 - ETA: 1:15 - loss: 0.8154 - acc: 0.631 - ETA: 1:15 - loss: 0.8098 - acc: 0.639 - ETA: 1:15 - loss: 0.8144 - acc: 0.639 - ETA: 1:14 - loss: 0.8119 - acc: 0.638 - ETA: 1:14 - loss: 0.8082 - acc: 0.640 - ETA: 1:14 - loss: 0.8110 - acc: 0.637 - ETA: 1:14 - loss: 0.8073 - acc: 0.640 - ETA: 1:13 - loss: 0.8070 - acc: 0.641 - ETA: 1:13 - loss: 0.8054 - acc: 0.642 - ETA: 1:13 - loss: 0.8067 - acc: 0.640 - ETA: 1:13 - loss: 0.8094 - acc: 0.638 - ETA: 1:13 - loss: 0.8124 - acc: 0.636 - ETA: 1:12 - loss: 0.8174 - acc: 0.634 - ETA: 1:12 - loss: 0.8145 - acc: 0.635 - ETA: 1:12 - loss: 0.8141 - acc: 0.636 - ETA: 1:11 - loss: 0.8170 - acc: 0.635 - ETA: 1:11 - loss: 0.8166 - acc: 0.636 - ETA: 1:10 - loss: 0.8121 - acc: 0.639 - ETA: 1:10 - loss: 0.8115 - acc: 0.641 - ETA: 1:09 - loss: 0.8122 - acc: 0.642 - ETA: 1:09 - loss: 0.8119 - acc: 0.642 - ETA: 1:09 - loss: 0.8142 - acc: 0.642 - ETA: 1:08 - loss: 0.8145 - acc: 0.641 - ETA: 1:08 - loss: 0.8243 - acc: 0.637 - ETA: 1:08 - loss: 0.8230 - acc: 0.639 - ETA: 1:07 - loss: 0.8216 - acc: 0.641 - ETA: 1:07 - loss: 0.8231 - acc: 0.641 - ETA: 1:06 - loss: 0.8207 - acc: 0.644 - ETA: 1:06 - loss: 0.8180 - acc: 0.645 - ETA: 1:06 - loss: 0.8165 - acc: 0.645 - ETA: 1:05 - loss: 0.8150 - acc: 0.647 - ETA: 1:05 - loss: 0.8141 - acc: 0.647 - ETA: 1:04 - loss: 0.8148 - acc: 0.647 - ETA: 1:04 - loss: 0.8135 - acc: 0.647 - ETA: 1:04 - loss: 0.8117 - acc: 0.648 - ETA: 1:03 - loss: 0.8093 - acc: 0.649 - ETA: 1:03 - loss: 0.8074 - acc: 0.650 - ETA: 1:03 - loss: 0.8086 - acc: 0.649 - ETA: 1:02 - loss: 0.8083 - acc: 0.649 - ETA: 1:02 - loss: 0.8145 - acc: 0.646 - ETA: 1:01 - loss: 0.8127 - acc: 0.648 - ETA: 1:01 - loss: 0.8147 - acc: 0.647 - ETA: 1:01 - loss: 0.8131 - acc: 0.647 - ETA: 1:01 - loss: 0.8139 - acc: 0.646 - ETA: 1:00 - loss: 0.8121 - acc: 0.648 - ETA: 1:00 - loss: 0.8110 - acc: 0.648 - ETA: 59s - loss: 0.8102 - acc: 0.650 - ETA: 59s - loss: 0.8075 - acc: 0.65 - ETA: 58s - loss: 0.8054 - acc: 0.65 - ETA: 58s - loss: 0.8089 - acc: 0.65 - ETA: 58s - loss: 0.8105 - acc: 0.65 - ETA: 57s - loss: 0.8114 - acc: 0.65 - ETA: 57s - loss: 0.8130 - acc: 0.64 - ETA: 56s - loss: 0.8155 - acc: 0.64 - ETA: 56s - loss: 0.8156 - acc: 0.64 - ETA: 56s - loss: 0.8169 - acc: 0.64 - ETA: 55s - loss: 0.8156 - acc: 0.64 - ETA: 55s - loss: 0.8132 - acc: 0.64 - ETA: 54s - loss: 0.8122 - acc: 0.64 - ETA: 54s - loss: 0.8108 - acc: 0.64 - ETA: 53s - loss: 0.8112 - acc: 0.64 - ETA: 53s - loss: 0.8106 - acc: 0.64 - ETA: 52s - loss: 0.8103 - acc: 0.65 - ETA: 52s - loss: 0.8121 - acc: 0.65 - ETA: 52s - loss: 0.8098 - acc: 0.65 - ETA: 51s - loss: 0.8101 - acc: 0.65 - ETA: 51s - loss: 0.8097 - acc: 0.65 - ETA: 50s - loss: 0.8112 - acc: 0.65 - ETA: 50s - loss: 0.8121 - acc: 0.65 - ETA: 50s - loss: 0.8117 - acc: 0.65 - ETA: 49s - loss: 0.8112 - acc: 0.65 - ETA: 49s - loss: 0.8102 - acc: 0.64 - ETA: 48s - loss: 0.8095 - acc: 0.65 - ETA: 48s - loss: 0.8113 - acc: 0.65 - ETA: 47s - loss: 0.8110 - acc: 0.65 - ETA: 47s - loss: 0.8146 - acc: 0.64 - ETA: 46s - loss: 0.8131 - acc: 0.65 - ETA: 46s - loss: 0.8129 - acc: 0.65 - ETA: 45s - loss: 0.8137 - acc: 0.64 - ETA: 45s - loss: 0.8151 - acc: 0.64 - ETA: 45s - loss: 0.8159 - acc: 0.64 - ETA: 44s - loss: 0.8162 - acc: 0.65 - ETA: 44s - loss: 0.8163 - acc: 0.65 - ETA: 43s - loss: 0.8159 - acc: 0.64 - ETA: 43s - loss: 0.8165 - acc: 0.64 - ETA: 42s - loss: 0.8168 - acc: 0.64 - ETA: 42s - loss: 0.8158 - acc: 0.65 - ETA: 41s - loss: 0.8150 - acc: 0.65 - ETA: 41s - loss: 0.8155 - acc: 0.65 - ETA: 40s - loss: 0.8164 - acc: 0.64 - ETA: 40s - loss: 0.8165 - acc: 0.64 - ETA: 40s - loss: 0.8179 - acc: 0.64 - ETA: 39s - loss: 0.8174 - acc: 0.64 - ETA: 39s - loss: 0.8172 - acc: 0.64 - ETA: 38s - loss: 0.8223 - acc: 0.64 - ETA: 38s - loss: 0.8220 - acc: 0.64 - ETA: 37s - loss: 0.8212 - acc: 0.64 - ETA: 37s - loss: 0.8213 - acc: 0.64 - ETA: 36s - loss: 0.8213 - acc: 0.64 - ETA: 36s - loss: 0.8230 - acc: 0.64 - ETA: 35s - loss: 0.8240 - acc: 0.64 - ETA: 35s - loss: 0.8236 - acc: 0.64 - ETA: 35s - loss: 0.8234 - acc: 0.64 - ETA: 34s - loss: 0.8222 - acc: 0.64 - ETA: 34s - loss: 0.8225 - acc: 0.64 - ETA: 33s - loss: 0.8235 - acc: 0.64 - ETA: 33s - loss: 0.8239 - acc: 0.64 - ETA: 32s - loss: 0.8235 - acc: 0.64 - ETA: 32s - loss: 0.8241 - acc: 0.64 - ETA: 31s - loss: 0.8240 - acc: 0.64 - ETA: 31s - loss: 0.8226 - acc: 0.64 - ETA: 30s - loss: 0.8227 - acc: 0.64 - ETA: 30s - loss: 0.8225 - acc: 0.64 - ETA: 29s - loss: 0.8232 - acc: 0.64 - ETA: 29s - loss: 0.8232 - acc: 0.64 - ETA: 29s - loss: 0.8256 - acc: 0.64 - ETA: 28s - loss: 0.8259 - acc: 0.64 - ETA: 28s - loss: 0.8266 - acc: 0.64 - ETA: 27s - loss: 0.8257 - acc: 0.64 - ETA: 27s - loss: 0.8263 - acc: 0.64 - ETA: 26s - loss: 0.8266 - acc: 0.64 - ETA: 26s - loss: 0.8254 - acc: 0.64 - ETA: 25s - loss: 0.8264 - acc: 0.64 - ETA: 25s - loss: 0.8267 - acc: 0.64 - ETA: 24s - loss: 0.8266 - acc: 0.64 - ETA: 24s - loss: 0.8265 - acc: 0.64 - ETA: 23s - loss: 0.8277 - acc: 0.64 - ETA: 23s - loss: 0.8287 - acc: 0.64 - ETA: 23s - loss: 0.8283 - acc: 0.64 - ETA: 22s - loss: 0.8279 - acc: 0.64 - ETA: 22s - loss: 0.8296 - acc: 0.64 - ETA: 21s - loss: 0.8299 - acc: 0.64 - ETA: 21s - loss: 0.8296 - acc: 0.64 - ETA: 20s - loss: 0.8313 - acc: 0.64 - ETA: 20s - loss: 0.8319 - acc: 0.64 - ETA: 19s - loss: 0.8321 - acc: 0.64 - ETA: 19s - loss: 0.8323 - acc: 0.64 - ETA: 18s - loss: 0.8316 - acc: 0.64 - ETA: 18s - loss: 0.8327 - acc: 0.64 - ETA: 17s - loss: 0.8321 - acc: 0.64 - ETA: 17s - loss: 0.8310 - acc: 0.64 - ETA: 16s - loss: 0.8309 - acc: 0.64 - ETA: 16s - loss: 0.8313 - acc: 0.64 - ETA: 16s - loss: 0.8304 - acc: 0.64 - ETA: 15s - loss: 0.8299 - acc: 0.64 - ETA: 15s - loss: 0.8300 - acc: 0.64 - ETA: 14s - loss: 0.8299 - acc: 0.64 - ETA: 14s - loss: 0.8295 - acc: 0.64 - ETA: 13s - loss: 0.8290 - acc: 0.64 - ETA: 13s - loss: 0.8287 - acc: 0.64 - ETA: 12s - loss: 0.8287 - acc: 0.64 - ETA: 12s - loss: 0.8278 - acc: 0.64 - ETA: 11s - loss: 0.8276 - acc: 0.64 - ETA: 11s - loss: 0.8272 - acc: 0.64 - ETA: 10s - loss: 0.8268 - acc: 0.64 - ETA: 10s - loss: 0.8258 - acc: 0.64 - ETA: 9s - loss: 0.8251 - acc: 0.6462 - ETA: 9s - loss: 0.8261 - acc: 0.645 - ETA: 8s - loss: 0.8253 - acc: 0.646 - ETA: 8s - loss: 0.8271 - acc: 0.645 - ETA: 8s - loss: 0.8276 - acc: 0.645 - ETA: 7s - loss: 0.8284 - acc: 0.645 - ETA: 7s - loss: 0.8276 - acc: 0.645 - ETA: 6s - loss: 0.8290 - acc: 0.645 - ETA: 6s - loss: 0.8295 - acc: 0.645 - ETA: 5s - loss: 0.8294 - acc: 0.645 - ETA: 5s - loss: 0.8286 - acc: 0.645 - ETA: 4s - loss: 0.8278 - acc: 0.645 - ETA: 4s - loss: 0.8269 - acc: 0.646 - ETA: 3s - loss: 0.8269 - acc: 0.645 - ETA: 3s - loss: 0.8257 - acc: 0.646 - ETA: 2s - loss: 0.8256 - acc: 0.646 - ETA: 2s - loss: 0.8269 - acc: 0.646 - ETA: 1s - loss: 0.8269 - acc: 0.646 - ETA: 1s - loss: 0.8266 - acc: 0.646 - ETA: 0s - loss: 0.8264 - acc: 0.646 - ETA: 0s - loss: 0.8262 - acc: 0.646 - 110s 16ms/step - loss: 0.8266 - acc: 0.6462 - val_loss: 0.9114 - val_acc: 0.6156\n"
     ]
    },
    {
     "name": "stdout",
     "output_type": "stream",
     "text": [
      "Epoch 5/10\n"
     ]
    },
    {
     "name": "stdout",
     "output_type": "stream",
     "text": [
      "6720/6750 [============================>.] - ETA: 1:43 - loss: 0.8724 - acc: 0.625 - ETA: 1:44 - loss: 0.7525 - acc: 0.750 - ETA: 1:44 - loss: 0.8098 - acc: 0.697 - ETA: 1:41 - loss: 0.8413 - acc: 0.664 - ETA: 1:38 - loss: 0.8216 - acc: 0.656 - ETA: 1:39 - loss: 0.7993 - acc: 0.682 - ETA: 1:37 - loss: 0.7706 - acc: 0.683 - ETA: 1:37 - loss: 0.7844 - acc: 0.671 - ETA: 1:37 - loss: 0.7648 - acc: 0.680 - ETA: 1:36 - loss: 0.7784 - acc: 0.665 - ETA: 1:35 - loss: 0.7682 - acc: 0.673 - ETA: 1:35 - loss: 0.7745 - acc: 0.679 - ETA: 1:34 - loss: 0.7757 - acc: 0.675 - ETA: 1:34 - loss: 0.7861 - acc: 0.671 - ETA: 1:34 - loss: 0.7918 - acc: 0.670 - ETA: 1:33 - loss: 0.7916 - acc: 0.675 - ETA: 1:33 - loss: 0.7915 - acc: 0.676 - ETA: 1:32 - loss: 0.7868 - acc: 0.680 - ETA: 1:32 - loss: 0.7875 - acc: 0.679 - ETA: 1:31 - loss: 0.7873 - acc: 0.676 - ETA: 1:31 - loss: 0.7847 - acc: 0.678 - ETA: 1:31 - loss: 0.7794 - acc: 0.677 - ETA: 1:31 - loss: 0.7773 - acc: 0.676 - ETA: 1:30 - loss: 0.7809 - acc: 0.677 - ETA: 1:29 - loss: 0.7904 - acc: 0.673 - ETA: 1:29 - loss: 0.7930 - acc: 0.671 - ETA: 1:29 - loss: 0.7952 - acc: 0.670 - ETA: 1:28 - loss: 0.7985 - acc: 0.667 - ETA: 1:28 - loss: 0.7985 - acc: 0.664 - ETA: 1:27 - loss: 0.7866 - acc: 0.670 - ETA: 1:26 - loss: 0.7868 - acc: 0.674 - ETA: 1:26 - loss: 0.7864 - acc: 0.674 - ETA: 1:25 - loss: 0.7813 - acc: 0.674 - ETA: 1:25 - loss: 0.7835 - acc: 0.675 - ETA: 1:24 - loss: 0.7926 - acc: 0.672 - ETA: 1:24 - loss: 0.7967 - acc: 0.671 - ETA: 1:24 - loss: 0.7985 - acc: 0.668 - ETA: 1:23 - loss: 0.7979 - acc: 0.667 - ETA: 1:22 - loss: 0.7983 - acc: 0.666 - ETA: 1:22 - loss: 0.7938 - acc: 0.668 - ETA: 1:22 - loss: 0.8029 - acc: 0.665 - ETA: 1:21 - loss: 0.8040 - acc: 0.663 - ETA: 1:21 - loss: 0.8073 - acc: 0.660 - ETA: 1:20 - loss: 0.8086 - acc: 0.660 - ETA: 1:20 - loss: 0.8064 - acc: 0.661 - ETA: 1:19 - loss: 0.7997 - acc: 0.665 - ETA: 1:19 - loss: 0.8103 - acc: 0.664 - ETA: 1:18 - loss: 0.8092 - acc: 0.665 - ETA: 1:18 - loss: 0.8070 - acc: 0.665 - ETA: 1:18 - loss: 0.8031 - acc: 0.665 - ETA: 1:17 - loss: 0.8005 - acc: 0.667 - ETA: 1:16 - loss: 0.7991 - acc: 0.667 - ETA: 1:16 - loss: 0.7979 - acc: 0.668 - ETA: 1:15 - loss: 0.7950 - acc: 0.669 - ETA: 1:15 - loss: 0.8036 - acc: 0.664 - ETA: 1:14 - loss: 0.8069 - acc: 0.661 - ETA: 1:14 - loss: 0.8048 - acc: 0.662 - ETA: 1:13 - loss: 0.8021 - acc: 0.664 - ETA: 1:13 - loss: 0.7999 - acc: 0.665 - ETA: 1:12 - loss: 0.8019 - acc: 0.664 - ETA: 1:12 - loss: 0.8033 - acc: 0.663 - ETA: 1:11 - loss: 0.8009 - acc: 0.666 - ETA: 1:10 - loss: 0.8009 - acc: 0.667 - ETA: 1:10 - loss: 0.8004 - acc: 0.668 - ETA: 1:10 - loss: 0.8006 - acc: 0.668 - ETA: 1:09 - loss: 0.7992 - acc: 0.670 - ETA: 1:09 - loss: 0.8029 - acc: 0.667 - ETA: 1:08 - loss: 0.8029 - acc: 0.666 - ETA: 1:08 - loss: 0.7995 - acc: 0.666 - ETA: 1:07 - loss: 0.8045 - acc: 0.664 - ETA: 1:07 - loss: 0.8037 - acc: 0.665 - ETA: 1:06 - loss: 0.8080 - acc: 0.663 - ETA: 1:06 - loss: 0.8101 - acc: 0.661 - ETA: 1:05 - loss: 0.8083 - acc: 0.664 - ETA: 1:05 - loss: 0.8065 - acc: 0.664 - ETA: 1:04 - loss: 0.8036 - acc: 0.665 - ETA: 1:04 - loss: 0.8071 - acc: 0.664 - ETA: 1:03 - loss: 0.8067 - acc: 0.664 - ETA: 1:03 - loss: 0.8069 - acc: 0.664 - ETA: 1:02 - loss: 0.8067 - acc: 0.664 - ETA: 1:02 - loss: 0.8076 - acc: 0.664 - ETA: 1:01 - loss: 0.8094 - acc: 0.662 - ETA: 1:01 - loss: 0.8068 - acc: 0.662 - ETA: 1:00 - loss: 0.8062 - acc: 0.663 - ETA: 1:00 - loss: 0.8050 - acc: 0.664 - ETA: 1:00 - loss: 0.8062 - acc: 0.664 - ETA: 59s - loss: 0.8039 - acc: 0.664 - ETA: 59s - loss: 0.8060 - acc: 0.66 - ETA: 58s - loss: 0.8065 - acc: 0.66 - ETA: 58s - loss: 0.8050 - acc: 0.66 - ETA: 57s - loss: 0.8020 - acc: 0.66 - ETA: 57s - loss: 0.8002 - acc: 0.66 - ETA: 56s - loss: 0.8015 - acc: 0.66 - ETA: 56s - loss: 0.8004 - acc: 0.66 - ETA: 55s - loss: 0.8003 - acc: 0.66 - ETA: 55s - loss: 0.8011 - acc: 0.66 - ETA: 54s - loss: 0.8023 - acc: 0.66 - ETA: 54s - loss: 0.8038 - acc: 0.66 - ETA: 53s - loss: 0.8038 - acc: 0.66 - ETA: 53s - loss: 0.8042 - acc: 0.66 - ETA: 52s - loss: 0.8041 - acc: 0.66 - ETA: 52s - loss: 0.8038 - acc: 0.66 - ETA: 51s - loss: 0.8018 - acc: 0.66 - ETA: 51s - loss: 0.8027 - acc: 0.66 - ETA: 50s - loss: 0.8023 - acc: 0.66 - ETA: 50s - loss: 0.8021 - acc: 0.66 - ETA: 49s - loss: 0.8003 - acc: 0.66 - ETA: 49s - loss: 0.7991 - acc: 0.66 - ETA: 49s - loss: 0.7969 - acc: 0.66 - ETA: 48s - loss: 0.7956 - acc: 0.66 - ETA: 48s - loss: 0.7959 - acc: 0.66 - ETA: 47s - loss: 0.7950 - acc: 0.66 - ETA: 47s - loss: 0.7945 - acc: 0.66 - ETA: 46s - loss: 0.7960 - acc: 0.66 - ETA: 46s - loss: 0.7983 - acc: 0.66 - ETA: 45s - loss: 0.7980 - acc: 0.66 - ETA: 45s - loss: 0.7961 - acc: 0.66 - ETA: 44s - loss: 0.7963 - acc: 0.66 - ETA: 44s - loss: 0.7971 - acc: 0.66 - ETA: 43s - loss: 0.7996 - acc: 0.65 - ETA: 43s - loss: 0.8009 - acc: 0.65 - ETA: 42s - loss: 0.8013 - acc: 0.65 - ETA: 42s - loss: 0.8016 - acc: 0.65 - ETA: 41s - loss: 0.8025 - acc: 0.65 - ETA: 41s - loss: 0.8017 - acc: 0.65 - ETA: 40s - loss: 0.8014 - acc: 0.65 - ETA: 40s - loss: 0.8010 - acc: 0.65 - ETA: 39s - loss: 0.8017 - acc: 0.65 - ETA: 39s - loss: 0.8031 - acc: 0.65 - ETA: 38s - loss: 0.8032 - acc: 0.65 - ETA: 38s - loss: 0.8022 - acc: 0.65 - ETA: 37s - loss: 0.8010 - acc: 0.65 - ETA: 37s - loss: 0.8010 - acc: 0.65 - ETA: 36s - loss: 0.7998 - acc: 0.66 - ETA: 36s - loss: 0.7980 - acc: 0.66 - ETA: 36s - loss: 0.8015 - acc: 0.66 - ETA: 35s - loss: 0.8026 - acc: 0.65 - ETA: 35s - loss: 0.8024 - acc: 0.65 - ETA: 34s - loss: 0.8020 - acc: 0.65 - ETA: 34s - loss: 0.8016 - acc: 0.65 - ETA: 33s - loss: 0.8028 - acc: 0.65 - ETA: 33s - loss: 0.8028 - acc: 0.65 - ETA: 32s - loss: 0.8021 - acc: 0.66 - ETA: 32s - loss: 0.8031 - acc: 0.65 - ETA: 31s - loss: 0.8025 - acc: 0.66 - ETA: 31s - loss: 0.8017 - acc: 0.66 - ETA: 30s - loss: 0.8014 - acc: 0.66 - ETA: 30s - loss: 0.8002 - acc: 0.66 - ETA: 29s - loss: 0.7997 - acc: 0.66 - ETA: 29s - loss: 0.8001 - acc: 0.66 - ETA: 28s - loss: 0.7993 - acc: 0.66 - ETA: 28s - loss: 0.7987 - acc: 0.66 - ETA: 27s - loss: 0.7975 - acc: 0.66 - ETA: 27s - loss: 0.7965 - acc: 0.66 - ETA: 26s - loss: 0.7979 - acc: 0.66 - ETA: 26s - loss: 0.7976 - acc: 0.66 - ETA: 25s - loss: 0.7980 - acc: 0.66 - ETA: 25s - loss: 0.8000 - acc: 0.66 - ETA: 25s - loss: 0.8008 - acc: 0.66 - ETA: 24s - loss: 0.8009 - acc: 0.66 - ETA: 24s - loss: 0.7996 - acc: 0.66 - ETA: 23s - loss: 0.7994 - acc: 0.66 - ETA: 23s - loss: 0.8000 - acc: 0.66 - ETA: 22s - loss: 0.8014 - acc: 0.66 - ETA: 22s - loss: 0.8008 - acc: 0.66 - ETA: 21s - loss: 0.8023 - acc: 0.66 - ETA: 21s - loss: 0.8024 - acc: 0.66 - ETA: 20s - loss: 0.8026 - acc: 0.66 - ETA: 20s - loss: 0.8030 - acc: 0.66 - ETA: 19s - loss: 0.8029 - acc: 0.66 - ETA: 19s - loss: 0.8038 - acc: 0.66 - ETA: 18s - loss: 0.8039 - acc: 0.66 - ETA: 18s - loss: 0.8037 - acc: 0.66 - ETA: 17s - loss: 0.8030 - acc: 0.66 - ETA: 17s - loss: 0.8035 - acc: 0.66 - ETA: 16s - loss: 0.8026 - acc: 0.66 - ETA: 16s - loss: 0.8020 - acc: 0.66 - ETA: 15s - loss: 0.8032 - acc: 0.66 - ETA: 15s - loss: 0.8038 - acc: 0.66 - ETA: 14s - loss: 0.8037 - acc: 0.66 - ETA: 14s - loss: 0.8042 - acc: 0.66 - ETA: 13s - loss: 0.8036 - acc: 0.66 - ETA: 13s - loss: 0.8036 - acc: 0.66 - ETA: 13s - loss: 0.8025 - acc: 0.66 - ETA: 12s - loss: 0.8038 - acc: 0.66 - ETA: 12s - loss: 0.8053 - acc: 0.66 - ETA: 11s - loss: 0.8060 - acc: 0.66 - ETA: 11s - loss: 0.8053 - acc: 0.66 - ETA: 10s - loss: 0.8057 - acc: 0.66 - ETA: 10s - loss: 0.8072 - acc: 0.66 - ETA: 9s - loss: 0.8065 - acc: 0.6621 - ETA: 9s - loss: 0.8076 - acc: 0.661 - ETA: 8s - loss: 0.8071 - acc: 0.661 - ETA: 8s - loss: 0.8077 - acc: 0.660 - ETA: 7s - loss: 0.8076 - acc: 0.661 - ETA: 7s - loss: 0.8067 - acc: 0.661 - ETA: 6s - loss: 0.8081 - acc: 0.661 - ETA: 6s - loss: 0.8068 - acc: 0.661 - ETA: 5s - loss: 0.8061 - acc: 0.661 - ETA: 5s - loss: 0.8058 - acc: 0.661 - ETA: 4s - loss: 0.8046 - acc: 0.662 - ETA: 4s - loss: 0.8045 - acc: 0.663 - ETA: 3s - loss: 0.8032 - acc: 0.664 - ETA: 3s - loss: 0.8049 - acc: 0.663 - ETA: 2s - loss: 0.8056 - acc: 0.663 - ETA: 2s - loss: 0.8054 - acc: 0.663 - ETA: 1s - loss: 0.8046 - acc: 0.663 - ETA: 1s - loss: 0.8032 - acc: 0.664 - ETA: 0s - loss: 0.8033 - acc: 0.663 - ETA: 0s - loss: 0.8035 - acc: 0.6636750/6750 [==============================] - 111s 16ms/step - loss: 0.8047 - acc: 0.6636 - val_loss: 0.9387 - val_acc: 0.6258\n",
      "Epoch 6/10\n"
     ]
    },
    {
     "name": "stdout",
     "output_type": "stream",
     "text": [
      "6720/6750 [============================>.] - ETA: 1:47 - loss: 0.9676 - acc: 0.562 - ETA: 1:46 - loss: 0.8736 - acc: 0.609 - ETA: 1:41 - loss: 0.8324 - acc: 0.625 - ETA: 1:39 - loss: 0.7805 - acc: 0.664 - ETA: 1:40 - loss: 0.7520 - acc: 0.681 - ETA: 1:39 - loss: 0.7483 - acc: 0.671 - ETA: 1:38 - loss: 0.7582 - acc: 0.647 - ETA: 1:37 - loss: 0.7691 - acc: 0.644 - ETA: 1:37 - loss: 0.7791 - acc: 0.638 - ETA: 1:36 - loss: 0.7682 - acc: 0.653 - ETA: 1:35 - loss: 0.7859 - acc: 0.644 - ETA: 1:35 - loss: 0.7904 - acc: 0.648 - ETA: 1:35 - loss: 0.7894 - acc: 0.649 - ETA: 1:35 - loss: 0.7633 - acc: 0.665 - ETA: 1:34 - loss: 0.7564 - acc: 0.666 - ETA: 1:33 - loss: 0.7422 - acc: 0.675 - ETA: 1:33 - loss: 0.7375 - acc: 0.678 - ETA: 1:32 - loss: 0.7549 - acc: 0.680 - ETA: 1:32 - loss: 0.7547 - acc: 0.679 - ETA: 1:31 - loss: 0.7409 - acc: 0.687 - ETA: 1:31 - loss: 0.7418 - acc: 0.687 - ETA: 1:30 - loss: 0.7556 - acc: 0.681 - ETA: 1:30 - loss: 0.7580 - acc: 0.686 - ETA: 1:30 - loss: 0.7618 - acc: 0.681 - ETA: 1:29 - loss: 0.7678 - acc: 0.673 - ETA: 1:28 - loss: 0.7747 - acc: 0.670 - ETA: 1:28 - loss: 0.7894 - acc: 0.665 - ETA: 1:28 - loss: 0.7918 - acc: 0.665 - ETA: 1:27 - loss: 0.7856 - acc: 0.670 - ETA: 1:27 - loss: 0.7862 - acc: 0.666 - ETA: 1:26 - loss: 0.7873 - acc: 0.665 - ETA: 1:26 - loss: 0.7869 - acc: 0.668 - ETA: 1:25 - loss: 0.7848 - acc: 0.668 - ETA: 1:25 - loss: 0.7862 - acc: 0.668 - ETA: 1:25 - loss: 0.7848 - acc: 0.670 - ETA: 1:24 - loss: 0.7832 - acc: 0.668 - ETA: 1:24 - loss: 0.7802 - acc: 0.669 - ETA: 1:23 - loss: 0.7866 - acc: 0.667 - ETA: 1:23 - loss: 0.7912 - acc: 0.666 - ETA: 1:22 - loss: 0.7928 - acc: 0.664 - ETA: 1:22 - loss: 0.7958 - acc: 0.663 - ETA: 1:21 - loss: 0.7978 - acc: 0.663 - ETA: 1:21 - loss: 0.7950 - acc: 0.665 - ETA: 1:20 - loss: 0.7904 - acc: 0.667 - ETA: 1:20 - loss: 0.7868 - acc: 0.670 - ETA: 1:19 - loss: 0.7862 - acc: 0.671 - ETA: 1:19 - loss: 0.7876 - acc: 0.670 - ETA: 1:18 - loss: 0.7906 - acc: 0.668 - ETA: 1:18 - loss: 0.7913 - acc: 0.669 - ETA: 1:18 - loss: 0.7881 - acc: 0.671 - ETA: 1:17 - loss: 0.7918 - acc: 0.669 - ETA: 1:16 - loss: 0.7902 - acc: 0.670 - ETA: 1:16 - loss: 0.7900 - acc: 0.671 - ETA: 1:15 - loss: 0.7923 - acc: 0.670 - ETA: 1:15 - loss: 0.7919 - acc: 0.670 - ETA: 1:14 - loss: 0.7913 - acc: 0.669 - ETA: 1:14 - loss: 0.7909 - acc: 0.671 - ETA: 1:13 - loss: 0.7855 - acc: 0.673 - ETA: 1:13 - loss: 0.7875 - acc: 0.671 - ETA: 1:12 - loss: 0.7859 - acc: 0.672 - ETA: 1:12 - loss: 0.7862 - acc: 0.671 - ETA: 1:11 - loss: 0.7901 - acc: 0.669 - ETA: 1:11 - loss: 0.7898 - acc: 0.668 - ETA: 1:10 - loss: 0.7897 - acc: 0.668 - ETA: 1:10 - loss: 0.7920 - acc: 0.667 - ETA: 1:10 - loss: 0.7941 - acc: 0.665 - ETA: 1:09 - loss: 0.7965 - acc: 0.664 - ETA: 1:09 - loss: 0.7942 - acc: 0.665 - ETA: 1:08 - loss: 0.7888 - acc: 0.668 - ETA: 1:08 - loss: 0.7863 - acc: 0.669 - ETA: 1:07 - loss: 0.7842 - acc: 0.669 - ETA: 1:07 - loss: 0.7794 - acc: 0.672 - ETA: 1:06 - loss: 0.7797 - acc: 0.672 - ETA: 1:06 - loss: 0.7755 - acc: 0.675 - ETA: 1:05 - loss: 0.7765 - acc: 0.675 - ETA: 1:05 - loss: 0.7747 - acc: 0.675 - ETA: 1:04 - loss: 0.7782 - acc: 0.672 - ETA: 1:04 - loss: 0.7769 - acc: 0.673 - ETA: 1:04 - loss: 0.7770 - acc: 0.672 - ETA: 1:03 - loss: 0.7789 - acc: 0.671 - ETA: 1:02 - loss: 0.7792 - acc: 0.670 - ETA: 1:02 - loss: 0.7799 - acc: 0.668 - ETA: 1:01 - loss: 0.7797 - acc: 0.668 - ETA: 1:01 - loss: 0.7800 - acc: 0.669 - ETA: 1:00 - loss: 0.7787 - acc: 0.669 - ETA: 1:00 - loss: 0.7790 - acc: 0.669 - ETA: 59s - loss: 0.7773 - acc: 0.669 - ETA: 59s - loss: 0.7776 - acc: 0.66 - ETA: 58s - loss: 0.7769 - acc: 0.66 - ETA: 58s - loss: 0.7748 - acc: 0.67 - ETA: 57s - loss: 0.7747 - acc: 0.67 - ETA: 57s - loss: 0.7761 - acc: 0.66 - ETA: 56s - loss: 0.7763 - acc: 0.66 - ETA: 56s - loss: 0.7759 - acc: 0.66 - ETA: 56s - loss: 0.7779 - acc: 0.66 - ETA: 55s - loss: 0.7774 - acc: 0.66 - ETA: 55s - loss: 0.7759 - acc: 0.66 - ETA: 54s - loss: 0.7732 - acc: 0.67 - ETA: 54s - loss: 0.7733 - acc: 0.67 - ETA: 53s - loss: 0.7724 - acc: 0.67 - ETA: 53s - loss: 0.7741 - acc: 0.66 - ETA: 52s - loss: 0.7748 - acc: 0.66 - ETA: 52s - loss: 0.7787 - acc: 0.66 - ETA: 51s - loss: 0.7814 - acc: 0.66 - ETA: 51s - loss: 0.7825 - acc: 0.66 - ETA: 50s - loss: 0.7831 - acc: 0.66 - ETA: 50s - loss: 0.7826 - acc: 0.66 - ETA: 49s - loss: 0.7807 - acc: 0.66 - ETA: 49s - loss: 0.7805 - acc: 0.66 - ETA: 49s - loss: 0.7813 - acc: 0.66 - ETA: 48s - loss: 0.7821 - acc: 0.66 - ETA: 48s - loss: 0.7820 - acc: 0.66 - ETA: 47s - loss: 0.7818 - acc: 0.66 - ETA: 47s - loss: 0.7827 - acc: 0.66 - ETA: 46s - loss: 0.7843 - acc: 0.66 - ETA: 46s - loss: 0.7837 - acc: 0.66 - ETA: 45s - loss: 0.7850 - acc: 0.66 - ETA: 45s - loss: 0.7850 - acc: 0.66 - ETA: 44s - loss: 0.7852 - acc: 0.66 - ETA: 44s - loss: 0.7848 - acc: 0.66 - ETA: 43s - loss: 0.7851 - acc: 0.66 - ETA: 43s - loss: 0.7851 - acc: 0.66 - ETA: 42s - loss: 0.7847 - acc: 0.66 - ETA: 42s - loss: 0.7854 - acc: 0.66 - ETA: 41s - loss: 0.7863 - acc: 0.66 - ETA: 41s - loss: 0.7852 - acc: 0.66 - ETA: 40s - loss: 0.7865 - acc: 0.66 - ETA: 40s - loss: 0.7890 - acc: 0.66 - ETA: 39s - loss: 0.7902 - acc: 0.66 - ETA: 39s - loss: 0.7889 - acc: 0.66 - ETA: 38s - loss: 0.7881 - acc: 0.66 - ETA: 38s - loss: 0.7867 - acc: 0.66 - ETA: 37s - loss: 0.7874 - acc: 0.66 - ETA: 37s - loss: 0.7889 - acc: 0.66 - ETA: 36s - loss: 0.7890 - acc: 0.66 - ETA: 36s - loss: 0.7880 - acc: 0.66 - ETA: 35s - loss: 0.7883 - acc: 0.66 - ETA: 35s - loss: 0.7906 - acc: 0.66 - ETA: 34s - loss: 0.7909 - acc: 0.66 - ETA: 34s - loss: 0.7901 - acc: 0.66 - ETA: 33s - loss: 0.7914 - acc: 0.66 - ETA: 33s - loss: 0.7906 - acc: 0.66 - ETA: 32s - loss: 0.7894 - acc: 0.66 - ETA: 32s - loss: 0.7891 - acc: 0.66 - ETA: 31s - loss: 0.7904 - acc: 0.66 - ETA: 31s - loss: 0.7913 - acc: 0.66 - ETA: 31s - loss: 0.7930 - acc: 0.66 - ETA: 30s - loss: 0.7923 - acc: 0.66 - ETA: 30s - loss: 0.7923 - acc: 0.66 - ETA: 29s - loss: 0.7925 - acc: 0.66 - ETA: 29s - loss: 0.7930 - acc: 0.66 - ETA: 28s - loss: 0.7917 - acc: 0.66 - ETA: 28s - loss: 0.7915 - acc: 0.66 - ETA: 27s - loss: 0.7921 - acc: 0.66 - ETA: 27s - loss: 0.7923 - acc: 0.66 - ETA: 26s - loss: 0.7916 - acc: 0.66 - ETA: 26s - loss: 0.7907 - acc: 0.66 - ETA: 25s - loss: 0.7905 - acc: 0.66 - ETA: 25s - loss: 0.7919 - acc: 0.66 - ETA: 24s - loss: 0.7914 - acc: 0.66 - ETA: 24s - loss: 0.7915 - acc: 0.66 - ETA: 23s - loss: 0.7916 - acc: 0.66 - ETA: 23s - loss: 0.7943 - acc: 0.66 - ETA: 22s - loss: 0.7937 - acc: 0.66 - ETA: 22s - loss: 0.7926 - acc: 0.66 - ETA: 21s - loss: 0.7931 - acc: 0.66 - ETA: 21s - loss: 0.7936 - acc: 0.66 - ETA: 20s - loss: 0.7931 - acc: 0.66 - ETA: 20s - loss: 0.7916 - acc: 0.66 - ETA: 19s - loss: 0.7920 - acc: 0.66 - ETA: 19s - loss: 0.7918 - acc: 0.66 - ETA: 18s - loss: 0.7922 - acc: 0.66 - ETA: 18s - loss: 0.7919 - acc: 0.66 - ETA: 17s - loss: 0.7911 - acc: 0.66 - ETA: 17s - loss: 0.7926 - acc: 0.66 - ETA: 16s - loss: 0.7934 - acc: 0.66 - ETA: 16s - loss: 0.7931 - acc: 0.66 - ETA: 15s - loss: 0.7928 - acc: 0.66 - ETA: 15s - loss: 0.7935 - acc: 0.66 - ETA: 14s - loss: 0.7930 - acc: 0.66 - ETA: 14s - loss: 0.7913 - acc: 0.66 - ETA: 13s - loss: 0.7920 - acc: 0.66 - ETA: 13s - loss: 0.7911 - acc: 0.66 - ETA: 13s - loss: 0.7908 - acc: 0.66 - ETA: 12s - loss: 0.7913 - acc: 0.66 - ETA: 12s - loss: 0.7919 - acc: 0.66 - ETA: 11s - loss: 0.7919 - acc: 0.66 - ETA: 11s - loss: 0.7928 - acc: 0.66 - ETA: 10s - loss: 0.7928 - acc: 0.66 - ETA: 10s - loss: 0.7919 - acc: 0.66 - ETA: 9s - loss: 0.7934 - acc: 0.6651 - ETA: 9s - loss: 0.7941 - acc: 0.665 - ETA: 8s - loss: 0.7937 - acc: 0.665 - ETA: 8s - loss: 0.7943 - acc: 0.664 - ETA: 7s - loss: 0.7943 - acc: 0.665 - ETA: 7s - loss: 0.7949 - acc: 0.665 - ETA: 6s - loss: 0.7947 - acc: 0.665 - ETA: 6s - loss: 0.7952 - acc: 0.665 - ETA: 5s - loss: 0.7940 - acc: 0.666 - ETA: 5s - loss: 0.7943 - acc: 0.665 - ETA: 4s - loss: 0.7939 - acc: 0.665 - ETA: 4s - loss: 0.7928 - acc: 0.666 - ETA: 3s - loss: 0.7930 - acc: 0.666 - ETA: 3s - loss: 0.7934 - acc: 0.665 - ETA: 2s - loss: 0.7935 - acc: 0.665 - ETA: 2s - loss: 0.7930 - acc: 0.666 - ETA: 1s - loss: 0.7924 - acc: 0.666 - ETA: 1s - loss: 0.7933 - acc: 0.665 - ETA: 0s - loss: 0.7934 - acc: 0.665 - ETA: 0s - loss: 0.7948 - acc: 0.6646"
     ]
    },
    {
     "name": "stdout",
     "output_type": "stream",
     "text": [
      "6750/6750 [==============================] - 109s 16ms/step - loss: 0.7941 - acc: 0.6647 - val_loss: 0.9139 - val_acc: 0.6333\n",
      "Epoch 7/10\n"
     ]
    },
    {
     "name": "stdout",
     "output_type": "stream",
     "text": [
      "6720/6750 [============================>.] - ETA: 1:36 - loss: 0.6734 - acc: 0.781 - ETA: 1:32 - loss: 0.6878 - acc: 0.703 - ETA: 1:35 - loss: 0.8163 - acc: 0.656 - ETA: 1:36 - loss: 0.8743 - acc: 0.632 - ETA: 1:34 - loss: 0.8115 - acc: 0.662 - ETA: 1:34 - loss: 0.7815 - acc: 0.666 - ETA: 1:34 - loss: 0.7520 - acc: 0.687 - ETA: 1:33 - loss: 0.7770 - acc: 0.675 - ETA: 1:33 - loss: 0.7819 - acc: 0.684 - ETA: 1:33 - loss: 0.7851 - acc: 0.678 - ETA: 1:32 - loss: 0.7943 - acc: 0.676 - ETA: 1:32 - loss: 0.7942 - acc: 0.677 - ETA: 1:31 - loss: 0.8211 - acc: 0.668 - ETA: 1:31 - loss: 0.8092 - acc: 0.676 - ETA: 1:31 - loss: 0.8141 - acc: 0.668 - ETA: 1:31 - loss: 0.8302 - acc: 0.666 - ETA: 1:31 - loss: 0.8240 - acc: 0.671 - ETA: 1:30 - loss: 0.8168 - acc: 0.673 - ETA: 1:30 - loss: 0.8229 - acc: 0.672 - ETA: 1:29 - loss: 0.8254 - acc: 0.667 - ETA: 1:29 - loss: 0.8275 - acc: 0.660 - ETA: 1:29 - loss: 0.8264 - acc: 0.659 - ETA: 1:29 - loss: 0.8340 - acc: 0.654 - ETA: 1:28 - loss: 0.8357 - acc: 0.651 - ETA: 1:28 - loss: 0.8433 - acc: 0.651 - ETA: 1:27 - loss: 0.8411 - acc: 0.653 - ETA: 1:27 - loss: 0.8330 - acc: 0.658 - ETA: 1:27 - loss: 0.8271 - acc: 0.659 - ETA: 1:26 - loss: 0.8304 - acc: 0.659 - ETA: 1:26 - loss: 0.8263 - acc: 0.661 - ETA: 1:26 - loss: 0.8248 - acc: 0.661 - ETA: 1:25 - loss: 0.8247 - acc: 0.663 - ETA: 1:25 - loss: 0.8238 - acc: 0.665 - ETA: 1:24 - loss: 0.8217 - acc: 0.666 - ETA: 1:24 - loss: 0.8155 - acc: 0.668 - ETA: 1:24 - loss: 0.8100 - acc: 0.670 - ETA: 1:23 - loss: 0.8101 - acc: 0.670 - ETA: 1:23 - loss: 0.8060 - acc: 0.673 - ETA: 1:22 - loss: 0.8072 - acc: 0.672 - ETA: 1:22 - loss: 0.8036 - acc: 0.672 - ETA: 1:21 - loss: 0.7998 - acc: 0.672 - ETA: 1:21 - loss: 0.7963 - acc: 0.674 - ETA: 1:20 - loss: 0.7877 - acc: 0.679 - ETA: 1:20 - loss: 0.7883 - acc: 0.678 - ETA: 1:19 - loss: 0.7877 - acc: 0.677 - ETA: 1:19 - loss: 0.7878 - acc: 0.676 - ETA: 1:19 - loss: 0.7883 - acc: 0.676 - ETA: 1:18 - loss: 0.7878 - acc: 0.677 - ETA: 1:18 - loss: 0.7880 - acc: 0.676 - ETA: 1:17 - loss: 0.7853 - acc: 0.676 - ETA: 1:16 - loss: 0.7839 - acc: 0.677 - ETA: 1:16 - loss: 0.7839 - acc: 0.677 - ETA: 1:16 - loss: 0.7836 - acc: 0.679 - ETA: 1:15 - loss: 0.7832 - acc: 0.678 - ETA: 1:15 - loss: 0.7877 - acc: 0.676 - ETA: 1:15 - loss: 0.7876 - acc: 0.676 - ETA: 1:14 - loss: 0.7868 - acc: 0.677 - ETA: 1:13 - loss: 0.7890 - acc: 0.675 - ETA: 1:13 - loss: 0.7865 - acc: 0.676 - ETA: 1:13 - loss: 0.7837 - acc: 0.678 - ETA: 1:12 - loss: 0.7782 - acc: 0.681 - ETA: 1:12 - loss: 0.7762 - acc: 0.684 - ETA: 1:11 - loss: 0.7784 - acc: 0.682 - ETA: 1:11 - loss: 0.7757 - acc: 0.683 - ETA: 1:10 - loss: 0.7752 - acc: 0.683 - ETA: 1:10 - loss: 0.7755 - acc: 0.682 - ETA: 1:09 - loss: 0.7747 - acc: 0.683 - ETA: 1:09 - loss: 0.7729 - acc: 0.682 - ETA: 1:08 - loss: 0.7698 - acc: 0.683 - ETA: 1:08 - loss: 0.7718 - acc: 0.683 - ETA: 1:07 - loss: 0.7731 - acc: 0.681 - ETA: 1:07 - loss: 0.7707 - acc: 0.682 - ETA: 1:06 - loss: 0.7742 - acc: 0.681 - ETA: 1:06 - loss: 0.7772 - acc: 0.679 - ETA: 1:05 - loss: 0.7779 - acc: 0.679 - ETA: 1:05 - loss: 0.7741 - acc: 0.680 - ETA: 1:04 - loss: 0.7763 - acc: 0.679 - ETA: 1:04 - loss: 0.7748 - acc: 0.678 - ETA: 1:03 - loss: 0.7735 - acc: 0.678 - ETA: 1:03 - loss: 0.7750 - acc: 0.676 - ETA: 1:02 - loss: 0.7724 - acc: 0.679 - ETA: 1:02 - loss: 0.7720 - acc: 0.679 - ETA: 1:01 - loss: 0.7716 - acc: 0.678 - ETA: 1:01 - loss: 0.7719 - acc: 0.678 - ETA: 1:00 - loss: 0.7746 - acc: 0.679 - ETA: 1:00 - loss: 0.7754 - acc: 0.679 - ETA: 1:00 - loss: 0.7762 - acc: 0.680 - ETA: 59s - loss: 0.7766 - acc: 0.680 - ETA: 59s - loss: 0.7750 - acc: 0.68 - ETA: 58s - loss: 0.7742 - acc: 0.68 - ETA: 58s - loss: 0.7747 - acc: 0.68 - ETA: 57s - loss: 0.7757 - acc: 0.68 - ETA: 57s - loss: 0.7751 - acc: 0.68 - ETA: 56s - loss: 0.7752 - acc: 0.68 - ETA: 56s - loss: 0.7747 - acc: 0.68 - ETA: 55s - loss: 0.7744 - acc: 0.68 - ETA: 55s - loss: 0.7732 - acc: 0.68 - ETA: 54s - loss: 0.7729 - acc: 0.68 - ETA: 54s - loss: 0.7743 - acc: 0.68 - ETA: 53s - loss: 0.7739 - acc: 0.68 - ETA: 53s - loss: 0.7737 - acc: 0.68 - ETA: 52s - loss: 0.7753 - acc: 0.68 - ETA: 52s - loss: 0.7748 - acc: 0.68 - ETA: 51s - loss: 0.7762 - acc: 0.68 - ETA: 51s - loss: 0.7775 - acc: 0.67 - ETA: 50s - loss: 0.7756 - acc: 0.67 - ETA: 50s - loss: 0.7759 - acc: 0.67 - ETA: 49s - loss: 0.7757 - acc: 0.67 - ETA: 49s - loss: 0.7783 - acc: 0.67 - ETA: 48s - loss: 0.7790 - acc: 0.67 - ETA: 48s - loss: 0.7784 - acc: 0.67 - ETA: 47s - loss: 0.7782 - acc: 0.67 - ETA: 47s - loss: 0.7752 - acc: 0.68 - ETA: 46s - loss: 0.7745 - acc: 0.68 - ETA: 46s - loss: 0.7754 - acc: 0.67 - ETA: 45s - loss: 0.7771 - acc: 0.67 - ETA: 45s - loss: 0.7766 - acc: 0.67 - ETA: 44s - loss: 0.7749 - acc: 0.67 - ETA: 44s - loss: 0.7745 - acc: 0.67 - ETA: 44s - loss: 0.7737 - acc: 0.68 - ETA: 43s - loss: 0.7728 - acc: 0.68 - ETA: 43s - loss: 0.7732 - acc: 0.68 - ETA: 42s - loss: 0.7738 - acc: 0.68 - ETA: 42s - loss: 0.7745 - acc: 0.68 - ETA: 41s - loss: 0.7756 - acc: 0.67 - ETA: 41s - loss: 0.7740 - acc: 0.68 - ETA: 40s - loss: 0.7728 - acc: 0.68 - ETA: 40s - loss: 0.7732 - acc: 0.68 - ETA: 39s - loss: 0.7728 - acc: 0.68 - ETA: 39s - loss: 0.7739 - acc: 0.68 - ETA: 38s - loss: 0.7768 - acc: 0.67 - ETA: 38s - loss: 0.7773 - acc: 0.67 - ETA: 37s - loss: 0.7783 - acc: 0.67 - ETA: 37s - loss: 0.7776 - acc: 0.67 - ETA: 36s - loss: 0.7785 - acc: 0.67 - ETA: 36s - loss: 0.7788 - acc: 0.67 - ETA: 35s - loss: 0.7770 - acc: 0.67 - ETA: 35s - loss: 0.7776 - acc: 0.67 - ETA: 34s - loss: 0.7774 - acc: 0.67 - ETA: 34s - loss: 0.7770 - acc: 0.67 - ETA: 33s - loss: 0.7780 - acc: 0.67 - ETA: 33s - loss: 0.7771 - acc: 0.67 - ETA: 32s - loss: 0.7779 - acc: 0.67 - ETA: 32s - loss: 0.7773 - acc: 0.67 - ETA: 32s - loss: 0.7764 - acc: 0.67 - ETA: 31s - loss: 0.7755 - acc: 0.67 - ETA: 31s - loss: 0.7759 - acc: 0.67 - ETA: 30s - loss: 0.7753 - acc: 0.67 - ETA: 30s - loss: 0.7725 - acc: 0.67 - ETA: 29s - loss: 0.7718 - acc: 0.67 - ETA: 29s - loss: 0.7742 - acc: 0.67 - ETA: 28s - loss: 0.7740 - acc: 0.67 - ETA: 28s - loss: 0.7742 - acc: 0.67 - ETA: 27s - loss: 0.7737 - acc: 0.67 - ETA: 27s - loss: 0.7727 - acc: 0.68 - ETA: 26s - loss: 0.7735 - acc: 0.68 - ETA: 26s - loss: 0.7731 - acc: 0.67 - ETA: 25s - loss: 0.7735 - acc: 0.67 - ETA: 25s - loss: 0.7746 - acc: 0.67 - ETA: 24s - loss: 0.7743 - acc: 0.67 - ETA: 24s - loss: 0.7751 - acc: 0.67 - ETA: 23s - loss: 0.7757 - acc: 0.67 - ETA: 23s - loss: 0.7767 - acc: 0.67 - ETA: 22s - loss: 0.7774 - acc: 0.67 - ETA: 22s - loss: 0.7761 - acc: 0.67 - ETA: 21s - loss: 0.7750 - acc: 0.67 - ETA: 21s - loss: 0.7745 - acc: 0.67 - ETA: 20s - loss: 0.7740 - acc: 0.67 - ETA: 20s - loss: 0.7731 - acc: 0.67 - ETA: 19s - loss: 0.7728 - acc: 0.67 - ETA: 19s - loss: 0.7733 - acc: 0.67 - ETA: 18s - loss: 0.7728 - acc: 0.67 - ETA: 18s - loss: 0.7722 - acc: 0.67 - ETA: 17s - loss: 0.7736 - acc: 0.67 - ETA: 17s - loss: 0.7745 - acc: 0.67 - ETA: 16s - loss: 0.7760 - acc: 0.67 - ETA: 16s - loss: 0.7758 - acc: 0.67 - ETA: 15s - loss: 0.7762 - acc: 0.67 - ETA: 15s - loss: 0.7763 - acc: 0.67 - ETA: 15s - loss: 0.7758 - acc: 0.67 - ETA: 14s - loss: 0.7749 - acc: 0.67 - ETA: 14s - loss: 0.7750 - acc: 0.67 - ETA: 13s - loss: 0.7753 - acc: 0.67 - ETA: 13s - loss: 0.7744 - acc: 0.67 - ETA: 12s - loss: 0.7740 - acc: 0.67 - ETA: 12s - loss: 0.7735 - acc: 0.67 - ETA: 11s - loss: 0.7735 - acc: 0.67 - ETA: 11s - loss: 0.7738 - acc: 0.67 - ETA: 10s - loss: 0.7735 - acc: 0.67 - ETA: 10s - loss: 0.7734 - acc: 0.67 - ETA: 9s - loss: 0.7752 - acc: 0.6769 - ETA: 9s - loss: 0.7761 - acc: 0.676 - ETA: 8s - loss: 0.7762 - acc: 0.676 - ETA: 8s - loss: 0.7757 - acc: 0.676 - ETA: 7s - loss: 0.7763 - acc: 0.676 - ETA: 7s - loss: 0.7757 - acc: 0.677 - ETA: 6s - loss: 0.7749 - acc: 0.677 - ETA: 6s - loss: 0.7751 - acc: 0.677 - ETA: 5s - loss: 0.7757 - acc: 0.677 - ETA: 5s - loss: 0.7759 - acc: 0.677 - ETA: 4s - loss: 0.7757 - acc: 0.676 - ETA: 4s - loss: 0.7767 - acc: 0.676 - ETA: 3s - loss: 0.7762 - acc: 0.676 - ETA: 3s - loss: 0.7760 - acc: 0.676 - ETA: 2s - loss: 0.7756 - acc: 0.676 - ETA: 2s - loss: 0.7760 - acc: 0.676 - ETA: 1s - loss: 0.7761 - acc: 0.676 - ETA: 1s - loss: 0.7755 - acc: 0.676 - ETA: 0s - loss: 0.7761 - acc: 0.675 - ETA: 0s - loss: 0.7763 - acc: 0.67576750/6750 [==============================] - 112s 17ms/step - loss: 0.7768 - acc: 0.6754 - val_loss: 0.8872 - val_acc: 0.6347\n",
      "Epoch 8/10\n"
     ]
    },
    {
     "name": "stdout",
     "output_type": "stream",
     "text": [
      "6720/6750 [============================>.] - ETA: 1:52 - loss: 0.5140 - acc: 0.781 - ETA: 1:51 - loss: 0.6015 - acc: 0.734 - ETA: 1:47 - loss: 0.6923 - acc: 0.677 - ETA: 1:44 - loss: 0.7047 - acc: 0.671 - ETA: 1:43 - loss: 0.7061 - acc: 0.668 - ETA: 1:43 - loss: 0.7138 - acc: 0.682 - ETA: 1:42 - loss: 0.7082 - acc: 0.678 - ETA: 1:41 - loss: 0.7241 - acc: 0.675 - ETA: 1:41 - loss: 0.7201 - acc: 0.680 - ETA: 1:41 - loss: 0.7242 - acc: 0.681 - ETA: 1:40 - loss: 0.7250 - acc: 0.684 - ETA: 1:40 - loss: 0.7435 - acc: 0.671 - ETA: 1:40 - loss: 0.7442 - acc: 0.665 - ETA: 1:39 - loss: 0.7546 - acc: 0.660 - ETA: 1:39 - loss: 0.7576 - acc: 0.658 - ETA: 1:37 - loss: 0.7700 - acc: 0.656 - ETA: 1:37 - loss: 0.7787 - acc: 0.650 - ETA: 1:36 - loss: 0.7793 - acc: 0.649 - ETA: 1:36 - loss: 0.7766 - acc: 0.651 - ETA: 1:35 - loss: 0.7629 - acc: 0.660 - ETA: 1:34 - loss: 0.7608 - acc: 0.659 - ETA: 1:33 - loss: 0.7686 - acc: 0.652 - ETA: 1:33 - loss: 0.7637 - acc: 0.657 - ETA: 1:32 - loss: 0.7614 - acc: 0.660 - ETA: 1:31 - loss: 0.7530 - acc: 0.665 - ETA: 1:30 - loss: 0.7480 - acc: 0.667 - ETA: 1:30 - loss: 0.7490 - acc: 0.669 - ETA: 1:29 - loss: 0.7485 - acc: 0.670 - ETA: 1:29 - loss: 0.7509 - acc: 0.669 - ETA: 1:28 - loss: 0.7495 - acc: 0.668 - ETA: 1:28 - loss: 0.7528 - acc: 0.666 - ETA: 1:28 - loss: 0.7509 - acc: 0.668 - ETA: 1:27 - loss: 0.7545 - acc: 0.666 - ETA: 1:27 - loss: 0.7485 - acc: 0.671 - ETA: 1:26 - loss: 0.7455 - acc: 0.673 - ETA: 1:26 - loss: 0.7464 - acc: 0.672 - ETA: 1:25 - loss: 0.7463 - acc: 0.670 - ETA: 1:25 - loss: 0.7486 - acc: 0.671 - ETA: 1:24 - loss: 0.7496 - acc: 0.673 - ETA: 1:24 - loss: 0.7494 - acc: 0.676 - ETA: 1:23 - loss: 0.7444 - acc: 0.681 - ETA: 1:23 - loss: 0.7472 - acc: 0.682 - ETA: 1:22 - loss: 0.7482 - acc: 0.683 - ETA: 1:22 - loss: 0.7462 - acc: 0.683 - ETA: 1:21 - loss: 0.7472 - acc: 0.683 - ETA: 1:21 - loss: 0.7450 - acc: 0.685 - ETA: 1:20 - loss: 0.7434 - acc: 0.685 - ETA: 1:20 - loss: 0.7425 - acc: 0.686 - ETA: 1:19 - loss: 0.7454 - acc: 0.684 - ETA: 1:19 - loss: 0.7449 - acc: 0.685 - ETA: 1:18 - loss: 0.7458 - acc: 0.685 - ETA: 1:18 - loss: 0.7451 - acc: 0.685 - ETA: 1:17 - loss: 0.7486 - acc: 0.682 - ETA: 1:17 - loss: 0.7505 - acc: 0.680 - ETA: 1:16 - loss: 0.7508 - acc: 0.680 - ETA: 1:15 - loss: 0.7582 - acc: 0.676 - ETA: 1:15 - loss: 0.7609 - acc: 0.676 - ETA: 1:14 - loss: 0.7620 - acc: 0.674 - ETA: 1:14 - loss: 0.7667 - acc: 0.672 - ETA: 1:13 - loss: 0.7689 - acc: 0.671 - ETA: 1:13 - loss: 0.7666 - acc: 0.673 - ETA: 1:12 - loss: 0.7647 - acc: 0.673 - ETA: 1:12 - loss: 0.7665 - acc: 0.671 - ETA: 1:11 - loss: 0.7658 - acc: 0.671 - ETA: 1:11 - loss: 0.7670 - acc: 0.670 - ETA: 1:11 - loss: 0.7657 - acc: 0.670 - ETA: 1:10 - loss: 0.7716 - acc: 0.668 - ETA: 1:10 - loss: 0.7725 - acc: 0.668 - ETA: 1:09 - loss: 0.7729 - acc: 0.668 - ETA: 1:09 - loss: 0.7719 - acc: 0.668 - ETA: 1:08 - loss: 0.7735 - acc: 0.667 - ETA: 1:08 - loss: 0.7745 - acc: 0.666 - ETA: 1:07 - loss: 0.7742 - acc: 0.667 - ETA: 1:07 - loss: 0.7761 - acc: 0.666 - ETA: 1:06 - loss: 0.7778 - acc: 0.666 - ETA: 1:06 - loss: 0.7791 - acc: 0.664 - ETA: 1:05 - loss: 0.7795 - acc: 0.664 - ETA: 1:05 - loss: 0.7780 - acc: 0.665 - ETA: 1:04 - loss: 0.7786 - acc: 0.664 - ETA: 1:04 - loss: 0.7796 - acc: 0.662 - ETA: 1:03 - loss: 0.7772 - acc: 0.663 - ETA: 1:03 - loss: 0.7779 - acc: 0.662 - ETA: 1:02 - loss: 0.7758 - acc: 0.663 - ETA: 1:02 - loss: 0.7766 - acc: 0.662 - ETA: 1:01 - loss: 0.7759 - acc: 0.663 - ETA: 1:01 - loss: 0.7760 - acc: 0.662 - ETA: 1:00 - loss: 0.7773 - acc: 0.661 - ETA: 1:00 - loss: 0.7778 - acc: 0.662 - ETA: 59s - loss: 0.7767 - acc: 0.664 - ETA: 59s - loss: 0.7754 - acc: 0.66 - ETA: 58s - loss: 0.7759 - acc: 0.66 - ETA: 58s - loss: 0.7758 - acc: 0.66 - ETA: 57s - loss: 0.7748 - acc: 0.66 - ETA: 57s - loss: 0.7782 - acc: 0.65 - ETA: 56s - loss: 0.7762 - acc: 0.66 - ETA: 56s - loss: 0.7769 - acc: 0.66 - ETA: 55s - loss: 0.7767 - acc: 0.66 - ETA: 55s - loss: 0.7783 - acc: 0.66 - ETA: 54s - loss: 0.7785 - acc: 0.66 - ETA: 54s - loss: 0.7782 - acc: 0.66 - ETA: 53s - loss: 0.7774 - acc: 0.66 - ETA: 53s - loss: 0.7766 - acc: 0.66 - ETA: 52s - loss: 0.7756 - acc: 0.66 - ETA: 52s - loss: 0.7749 - acc: 0.66 - ETA: 51s - loss: 0.7758 - acc: 0.66 - ETA: 51s - loss: 0.7776 - acc: 0.66 - ETA: 50s - loss: 0.7788 - acc: 0.66 - ETA: 50s - loss: 0.7765 - acc: 0.66 - ETA: 49s - loss: 0.7778 - acc: 0.66 - ETA: 49s - loss: 0.7787 - acc: 0.66 - ETA: 48s - loss: 0.7797 - acc: 0.66 - ETA: 48s - loss: 0.7798 - acc: 0.66 - ETA: 47s - loss: 0.7776 - acc: 0.66 - ETA: 47s - loss: 0.7757 - acc: 0.66 - ETA: 46s - loss: 0.7756 - acc: 0.66 - ETA: 46s - loss: 0.7749 - acc: 0.66 - ETA: 45s - loss: 0.7765 - acc: 0.66 - ETA: 45s - loss: 0.7765 - acc: 0.66 - ETA: 44s - loss: 0.7753 - acc: 0.66 - ETA: 44s - loss: 0.7753 - acc: 0.66 - ETA: 43s - loss: 0.7745 - acc: 0.66 - ETA: 43s - loss: 0.7721 - acc: 0.66 - ETA: 42s - loss: 0.7701 - acc: 0.66 - ETA: 42s - loss: 0.7726 - acc: 0.66 - ETA: 41s - loss: 0.7764 - acc: 0.66 - ETA: 41s - loss: 0.7757 - acc: 0.66 - ETA: 40s - loss: 0.7747 - acc: 0.66 - ETA: 40s - loss: 0.7774 - acc: 0.66 - ETA: 39s - loss: 0.7772 - acc: 0.66 - ETA: 39s - loss: 0.7784 - acc: 0.66 - ETA: 38s - loss: 0.7777 - acc: 0.66 - ETA: 38s - loss: 0.7768 - acc: 0.66 - ETA: 37s - loss: 0.7781 - acc: 0.66 - ETA: 37s - loss: 0.7776 - acc: 0.66 - ETA: 36s - loss: 0.7754 - acc: 0.66 - ETA: 36s - loss: 0.7745 - acc: 0.66 - ETA: 35s - loss: 0.7756 - acc: 0.66 - ETA: 35s - loss: 0.7759 - acc: 0.66 - ETA: 34s - loss: 0.7740 - acc: 0.67 - ETA: 34s - loss: 0.7737 - acc: 0.67 - ETA: 33s - loss: 0.7739 - acc: 0.67 - ETA: 33s - loss: 0.7752 - acc: 0.66 - ETA: 32s - loss: 0.7741 - acc: 0.67 - ETA: 32s - loss: 0.7768 - acc: 0.66 - ETA: 31s - loss: 0.7773 - acc: 0.66 - ETA: 31s - loss: 0.7770 - acc: 0.66 - ETA: 30s - loss: 0.7774 - acc: 0.66 - ETA: 30s - loss: 0.7784 - acc: 0.66 - ETA: 29s - loss: 0.7783 - acc: 0.66 - ETA: 29s - loss: 0.7785 - acc: 0.66 - ETA: 28s - loss: 0.7797 - acc: 0.66 - ETA: 28s - loss: 0.7794 - acc: 0.66 - ETA: 27s - loss: 0.7798 - acc: 0.66 - ETA: 27s - loss: 0.7810 - acc: 0.66 - ETA: 26s - loss: 0.7795 - acc: 0.66 - ETA: 26s - loss: 0.7799 - acc: 0.66 - ETA: 25s - loss: 0.7788 - acc: 0.67 - ETA: 25s - loss: 0.7774 - acc: 0.67 - ETA: 24s - loss: 0.7777 - acc: 0.67 - ETA: 24s - loss: 0.7795 - acc: 0.66 - ETA: 23s - loss: 0.7786 - acc: 0.66 - ETA: 23s - loss: 0.7784 - acc: 0.66 - ETA: 23s - loss: 0.7771 - acc: 0.67 - ETA: 22s - loss: 0.7761 - acc: 0.67 - ETA: 22s - loss: 0.7759 - acc: 0.67 - ETA: 21s - loss: 0.7763 - acc: 0.67 - ETA: 21s - loss: 0.7749 - acc: 0.67 - ETA: 20s - loss: 0.7746 - acc: 0.67 - ETA: 20s - loss: 0.7751 - acc: 0.67 - ETA: 19s - loss: 0.7727 - acc: 0.67 - ETA: 19s - loss: 0.7721 - acc: 0.67 - ETA: 18s - loss: 0.7714 - acc: 0.67 - ETA: 18s - loss: 0.7723 - acc: 0.67 - ETA: 17s - loss: 0.7722 - acc: 0.67 - ETA: 17s - loss: 0.7728 - acc: 0.67 - ETA: 16s - loss: 0.7727 - acc: 0.67 - ETA: 16s - loss: 0.7725 - acc: 0.67 - ETA: 15s - loss: 0.7725 - acc: 0.67 - ETA: 15s - loss: 0.7725 - acc: 0.67 - ETA: 14s - loss: 0.7728 - acc: 0.67 - ETA: 14s - loss: 0.7720 - acc: 0.67 - ETA: 13s - loss: 0.7717 - acc: 0.67 - ETA: 13s - loss: 0.7716 - acc: 0.67 - ETA: 12s - loss: 0.7712 - acc: 0.67 - ETA: 12s - loss: 0.7713 - acc: 0.67 - ETA: 11s - loss: 0.7718 - acc: 0.67 - ETA: 11s - loss: 0.7709 - acc: 0.67 - ETA: 11s - loss: 0.7696 - acc: 0.67 - ETA: 10s - loss: 0.7697 - acc: 0.67 - ETA: 10s - loss: 0.7693 - acc: 0.67 - ETA: 9s - loss: 0.7699 - acc: 0.6756 - ETA: 9s - loss: 0.7710 - acc: 0.674 - ETA: 8s - loss: 0.7709 - acc: 0.674 - ETA: 8s - loss: 0.7712 - acc: 0.674 - ETA: 7s - loss: 0.7729 - acc: 0.674 - ETA: 7s - loss: 0.7724 - acc: 0.674 - ETA: 6s - loss: 0.7738 - acc: 0.674 - ETA: 6s - loss: 0.7731 - acc: 0.675 - ETA: 5s - loss: 0.7729 - acc: 0.675 - ETA: 5s - loss: 0.7725 - acc: 0.675 - ETA: 4s - loss: 0.7728 - acc: 0.675 - ETA: 4s - loss: 0.7746 - acc: 0.675 - ETA: 3s - loss: 0.7748 - acc: 0.675 - ETA: 3s - loss: 0.7744 - acc: 0.675 - ETA: 2s - loss: 0.7744 - acc: 0.675 - ETA: 2s - loss: 0.7744 - acc: 0.675 - ETA: 1s - loss: 0.7741 - acc: 0.675 - ETA: 1s - loss: 0.7737 - acc: 0.675 - ETA: 0s - loss: 0.7731 - acc: 0.675 - ETA: 0s - loss: 0.7727 - acc: 0.6754"
     ]
    },
    {
     "name": "stdout",
     "output_type": "stream",
     "text": [
      "6750/6750 [==============================] - 111s 16ms/step - loss: 0.7722 - acc: 0.6754 - val_loss: 0.8840 - val_acc: 0.6356\n",
      "Epoch 9/10\n"
     ]
    },
    {
     "name": "stdout",
     "output_type": "stream",
     "text": [
      "6720/6750 [============================>.] - ETA: 1:45 - loss: 0.8127 - acc: 0.625 - ETA: 1:48 - loss: 0.7035 - acc: 0.671 - ETA: 1:44 - loss: 0.8278 - acc: 0.666 - ETA: 1:44 - loss: 0.8302 - acc: 0.687 - ETA: 1:42 - loss: 0.7997 - acc: 0.700 - ETA: 1:40 - loss: 0.7721 - acc: 0.692 - ETA: 1:40 - loss: 0.7786 - acc: 0.687 - ETA: 1:40 - loss: 0.7886 - acc: 0.683 - ETA: 1:40 - loss: 0.7615 - acc: 0.694 - ETA: 1:38 - loss: 0.7391 - acc: 0.706 - ETA: 1:36 - loss: 0.7221 - acc: 0.710 - ETA: 1:35 - loss: 0.7342 - acc: 0.703 - ETA: 1:35 - loss: 0.7325 - acc: 0.699 - ETA: 1:35 - loss: 0.7272 - acc: 0.703 - ETA: 1:34 - loss: 0.7231 - acc: 0.708 - ETA: 1:34 - loss: 0.7253 - acc: 0.707 - ETA: 1:33 - loss: 0.7339 - acc: 0.696 - ETA: 1:32 - loss: 0.7400 - acc: 0.701 - ETA: 1:31 - loss: 0.7439 - acc: 0.697 - ETA: 1:30 - loss: 0.7363 - acc: 0.701 - ETA: 1:30 - loss: 0.7367 - acc: 0.700 - ETA: 1:30 - loss: 0.7357 - acc: 0.701 - ETA: 1:30 - loss: 0.7319 - acc: 0.705 - ETA: 1:30 - loss: 0.7262 - acc: 0.710 - ETA: 1:29 - loss: 0.7285 - acc: 0.710 - ETA: 1:29 - loss: 0.7315 - acc: 0.703 - ETA: 1:28 - loss: 0.7360 - acc: 0.696 - ETA: 1:28 - loss: 0.7372 - acc: 0.696 - ETA: 1:28 - loss: 0.7321 - acc: 0.699 - ETA: 1:27 - loss: 0.7278 - acc: 0.702 - ETA: 1:27 - loss: 0.7219 - acc: 0.703 - ETA: 1:26 - loss: 0.7298 - acc: 0.698 - ETA: 1:26 - loss: 0.7278 - acc: 0.697 - ETA: 1:26 - loss: 0.7285 - acc: 0.697 - ETA: 1:25 - loss: 0.7254 - acc: 0.698 - ETA: 1:25 - loss: 0.7192 - acc: 0.700 - ETA: 1:24 - loss: 0.7219 - acc: 0.701 - ETA: 1:24 - loss: 0.7175 - acc: 0.703 - ETA: 1:23 - loss: 0.7265 - acc: 0.700 - ETA: 1:23 - loss: 0.7217 - acc: 0.702 - ETA: 1:22 - loss: 0.7200 - acc: 0.702 - ETA: 1:22 - loss: 0.7220 - acc: 0.702 - ETA: 1:21 - loss: 0.7285 - acc: 0.699 - ETA: 1:20 - loss: 0.7292 - acc: 0.699 - ETA: 1:20 - loss: 0.7284 - acc: 0.698 - ETA: 1:20 - loss: 0.7292 - acc: 0.699 - ETA: 1:19 - loss: 0.7303 - acc: 0.699 - ETA: 1:18 - loss: 0.7294 - acc: 0.699 - ETA: 1:18 - loss: 0.7274 - acc: 0.701 - ETA: 1:17 - loss: 0.7293 - acc: 0.701 - ETA: 1:17 - loss: 0.7311 - acc: 0.700 - ETA: 1:16 - loss: 0.7328 - acc: 0.698 - ETA: 1:16 - loss: 0.7331 - acc: 0.699 - ETA: 1:15 - loss: 0.7344 - acc: 0.699 - ETA: 1:15 - loss: 0.7331 - acc: 0.700 - ETA: 1:14 - loss: 0.7332 - acc: 0.697 - ETA: 1:14 - loss: 0.7339 - acc: 0.698 - ETA: 1:13 - loss: 0.7351 - acc: 0.697 - ETA: 1:13 - loss: 0.7335 - acc: 0.698 - ETA: 1:12 - loss: 0.7304 - acc: 0.698 - ETA: 1:12 - loss: 0.7336 - acc: 0.696 - ETA: 1:12 - loss: 0.7367 - acc: 0.695 - ETA: 1:11 - loss: 0.7339 - acc: 0.695 - ETA: 1:11 - loss: 0.7311 - acc: 0.696 - ETA: 1:10 - loss: 0.7286 - acc: 0.696 - ETA: 1:10 - loss: 0.7273 - acc: 0.696 - ETA: 1:09 - loss: 0.7251 - acc: 0.697 - ETA: 1:09 - loss: 0.7247 - acc: 0.699 - ETA: 1:08 - loss: 0.7291 - acc: 0.697 - ETA: 1:08 - loss: 0.7321 - acc: 0.698 - ETA: 1:07 - loss: 0.7324 - acc: 0.698 - ETA: 1:07 - loss: 0.7338 - acc: 0.698 - ETA: 1:06 - loss: 0.7374 - acc: 0.696 - ETA: 1:06 - loss: 0.7409 - acc: 0.695 - ETA: 1:05 - loss: 0.7412 - acc: 0.695 - ETA: 1:05 - loss: 0.7414 - acc: 0.694 - ETA: 1:05 - loss: 0.7420 - acc: 0.695 - ETA: 1:04 - loss: 0.7441 - acc: 0.695 - ETA: 1:03 - loss: 0.7428 - acc: 0.696 - ETA: 1:03 - loss: 0.7428 - acc: 0.696 - ETA: 1:02 - loss: 0.7438 - acc: 0.696 - ETA: 1:02 - loss: 0.7422 - acc: 0.695 - ETA: 1:01 - loss: 0.7405 - acc: 0.696 - ETA: 1:01 - loss: 0.7416 - acc: 0.696 - ETA: 1:01 - loss: 0.7422 - acc: 0.696 - ETA: 1:00 - loss: 0.7426 - acc: 0.695 - ETA: 1:00 - loss: 0.7383 - acc: 0.696 - ETA: 59s - loss: 0.7395 - acc: 0.695 - ETA: 59s - loss: 0.7409 - acc: 0.69 - ETA: 58s - loss: 0.7436 - acc: 0.69 - ETA: 58s - loss: 0.7463 - acc: 0.69 - ETA: 57s - loss: 0.7478 - acc: 0.69 - ETA: 57s - loss: 0.7487 - acc: 0.69 - ETA: 56s - loss: 0.7480 - acc: 0.69 - ETA: 56s - loss: 0.7481 - acc: 0.69 - ETA: 55s - loss: 0.7485 - acc: 0.69 - ETA: 55s - loss: 0.7482 - acc: 0.69 - ETA: 54s - loss: 0.7503 - acc: 0.69 - ETA: 54s - loss: 0.7518 - acc: 0.69 - ETA: 53s - loss: 0.7521 - acc: 0.69 - ETA: 53s - loss: 0.7534 - acc: 0.69 - ETA: 52s - loss: 0.7547 - acc: 0.69 - ETA: 52s - loss: 0.7569 - acc: 0.68 - ETA: 51s - loss: 0.7558 - acc: 0.68 - ETA: 51s - loss: 0.7577 - acc: 0.68 - ETA: 50s - loss: 0.7587 - acc: 0.68 - ETA: 50s - loss: 0.7582 - acc: 0.68 - ETA: 49s - loss: 0.7581 - acc: 0.68 - ETA: 49s - loss: 0.7564 - acc: 0.68 - ETA: 49s - loss: 0.7547 - acc: 0.68 - ETA: 48s - loss: 0.7529 - acc: 0.69 - ETA: 48s - loss: 0.7519 - acc: 0.69 - ETA: 47s - loss: 0.7503 - acc: 0.69 - ETA: 47s - loss: 0.7532 - acc: 0.69 - ETA: 46s - loss: 0.7535 - acc: 0.69 - ETA: 46s - loss: 0.7560 - acc: 0.68 - ETA: 45s - loss: 0.7550 - acc: 0.68 - ETA: 45s - loss: 0.7553 - acc: 0.68 - ETA: 44s - loss: 0.7536 - acc: 0.68 - ETA: 44s - loss: 0.7523 - acc: 0.69 - ETA: 43s - loss: 0.7534 - acc: 0.68 - ETA: 43s - loss: 0.7531 - acc: 0.68 - ETA: 42s - loss: 0.7537 - acc: 0.68 - ETA: 42s - loss: 0.7538 - acc: 0.68 - ETA: 41s - loss: 0.7525 - acc: 0.68 - ETA: 41s - loss: 0.7532 - acc: 0.68 - ETA: 40s - loss: 0.7532 - acc: 0.68 - ETA: 40s - loss: 0.7530 - acc: 0.68 - ETA: 39s - loss: 0.7513 - acc: 0.68 - ETA: 39s - loss: 0.7495 - acc: 0.68 - ETA: 38s - loss: 0.7494 - acc: 0.68 - ETA: 38s - loss: 0.7494 - acc: 0.68 - ETA: 37s - loss: 0.7496 - acc: 0.68 - ETA: 37s - loss: 0.7505 - acc: 0.68 - ETA: 36s - loss: 0.7504 - acc: 0.68 - ETA: 36s - loss: 0.7495 - acc: 0.68 - ETA: 35s - loss: 0.7488 - acc: 0.68 - ETA: 35s - loss: 0.7487 - acc: 0.68 - ETA: 35s - loss: 0.7487 - acc: 0.68 - ETA: 34s - loss: 0.7476 - acc: 0.68 - ETA: 34s - loss: 0.7475 - acc: 0.68 - ETA: 33s - loss: 0.7464 - acc: 0.69 - ETA: 33s - loss: 0.7472 - acc: 0.69 - ETA: 32s - loss: 0.7468 - acc: 0.69 - ETA: 32s - loss: 0.7463 - acc: 0.69 - ETA: 31s - loss: 0.7439 - acc: 0.69 - ETA: 31s - loss: 0.7470 - acc: 0.69 - ETA: 30s - loss: 0.7467 - acc: 0.69 - ETA: 30s - loss: 0.7459 - acc: 0.69 - ETA: 29s - loss: 0.7442 - acc: 0.69 - ETA: 29s - loss: 0.7444 - acc: 0.69 - ETA: 28s - loss: 0.7439 - acc: 0.69 - ETA: 28s - loss: 0.7427 - acc: 0.69 - ETA: 27s - loss: 0.7431 - acc: 0.69 - ETA: 27s - loss: 0.7434 - acc: 0.69 - ETA: 26s - loss: 0.7429 - acc: 0.69 - ETA: 26s - loss: 0.7432 - acc: 0.69 - ETA: 25s - loss: 0.7447 - acc: 0.69 - ETA: 25s - loss: 0.7445 - acc: 0.69 - ETA: 24s - loss: 0.7453 - acc: 0.68 - ETA: 24s - loss: 0.7453 - acc: 0.68 - ETA: 23s - loss: 0.7452 - acc: 0.68 - ETA: 23s - loss: 0.7449 - acc: 0.68 - ETA: 22s - loss: 0.7439 - acc: 0.68 - ETA: 22s - loss: 0.7445 - acc: 0.68 - ETA: 21s - loss: 0.7451 - acc: 0.68 - ETA: 21s - loss: 0.7456 - acc: 0.68 - ETA: 20s - loss: 0.7451 - acc: 0.68 - ETA: 20s - loss: 0.7465 - acc: 0.68 - ETA: 19s - loss: 0.7455 - acc: 0.68 - ETA: 19s - loss: 0.7452 - acc: 0.68 - ETA: 18s - loss: 0.7450 - acc: 0.68 - ETA: 18s - loss: 0.7451 - acc: 0.68 - ETA: 17s - loss: 0.7442 - acc: 0.68 - ETA: 17s - loss: 0.7438 - acc: 0.68 - ETA: 17s - loss: 0.7439 - acc: 0.68 - ETA: 16s - loss: 0.7452 - acc: 0.68 - ETA: 16s - loss: 0.7454 - acc: 0.68 - ETA: 15s - loss: 0.7449 - acc: 0.68 - ETA: 15s - loss: 0.7459 - acc: 0.68 - ETA: 14s - loss: 0.7464 - acc: 0.68 - ETA: 14s - loss: 0.7459 - acc: 0.68 - ETA: 13s - loss: 0.7470 - acc: 0.68 - ETA: 13s - loss: 0.7472 - acc: 0.68 - ETA: 12s - loss: 0.7464 - acc: 0.68 - ETA: 12s - loss: 0.7467 - acc: 0.68 - ETA: 11s - loss: 0.7468 - acc: 0.68 - ETA: 11s - loss: 0.7471 - acc: 0.68 - ETA: 10s - loss: 0.7473 - acc: 0.68 - ETA: 10s - loss: 0.7470 - acc: 0.68 - ETA: 9s - loss: 0.7466 - acc: 0.6855 - ETA: 9s - loss: 0.7483 - acc: 0.685 - ETA: 8s - loss: 0.7488 - acc: 0.685 - ETA: 8s - loss: 0.7493 - acc: 0.685 - ETA: 7s - loss: 0.7498 - acc: 0.684 - ETA: 7s - loss: 0.7496 - acc: 0.685 - ETA: 6s - loss: 0.7488 - acc: 0.685 - ETA: 6s - loss: 0.7490 - acc: 0.685 - ETA: 5s - loss: 0.7497 - acc: 0.685 - ETA: 5s - loss: 0.7493 - acc: 0.685 - ETA: 4s - loss: 0.7488 - acc: 0.685 - ETA: 4s - loss: 0.7482 - acc: 0.686 - ETA: 3s - loss: 0.7476 - acc: 0.686 - ETA: 3s - loss: 0.7468 - acc: 0.686 - ETA: 2s - loss: 0.7473 - acc: 0.686 - ETA: 2s - loss: 0.7478 - acc: 0.686 - ETA: 1s - loss: 0.7480 - acc: 0.686 - ETA: 1s - loss: 0.7482 - acc: 0.686 - ETA: 0s - loss: 0.7484 - acc: 0.686 - ETA: 0s - loss: 0.7501 - acc: 0.68546750/6750 [==============================] - 113s 17ms/step - loss: 0.7500 - acc: 0.6858 - val_loss: 0.8578 - val_acc: 0.6360\n",
      "Epoch 10/10\n"
     ]
    },
    {
     "name": "stdout",
     "output_type": "stream",
     "text": [
      "6720/6750 [============================>.] - ETA: 1:40 - loss: 0.4732 - acc: 0.718 - ETA: 1:40 - loss: 0.6323 - acc: 0.703 - ETA: 1:42 - loss: 0.6265 - acc: 0.718 - ETA: 1:41 - loss: 0.6543 - acc: 0.671 - ETA: 1:39 - loss: 0.6864 - acc: 0.675 - ETA: 1:40 - loss: 0.6640 - acc: 0.682 - ETA: 1:39 - loss: 0.6590 - acc: 0.696 - ETA: 1:38 - loss: 0.6727 - acc: 0.699 - ETA: 1:39 - loss: 0.6732 - acc: 0.701 - ETA: 1:39 - loss: 0.6798 - acc: 0.696 - ETA: 1:38 - loss: 0.6688 - acc: 0.696 - ETA: 1:37 - loss: 0.6821 - acc: 0.700 - ETA: 1:36 - loss: 0.6723 - acc: 0.711 - ETA: 1:36 - loss: 0.6750 - acc: 0.707 - ETA: 1:36 - loss: 0.6856 - acc: 0.706 - ETA: 1:34 - loss: 0.6983 - acc: 0.699 - ETA: 1:34 - loss: 0.6856 - acc: 0.704 - ETA: 1:34 - loss: 0.6965 - acc: 0.701 - ETA: 1:34 - loss: 0.6979 - acc: 0.705 - ETA: 1:33 - loss: 0.6999 - acc: 0.704 - ETA: 1:32 - loss: 0.7078 - acc: 0.703 - ETA: 1:31 - loss: 0.7095 - acc: 0.704 - ETA: 1:31 - loss: 0.7150 - acc: 0.702 - ETA: 1:31 - loss: 0.7209 - acc: 0.697 - ETA: 1:30 - loss: 0.7240 - acc: 0.698 - ETA: 1:30 - loss: 0.7235 - acc: 0.699 - ETA: 1:29 - loss: 0.7151 - acc: 0.704 - ETA: 1:29 - loss: 0.7280 - acc: 0.698 - ETA: 1:28 - loss: 0.7222 - acc: 0.701 - ETA: 1:28 - loss: 0.7198 - acc: 0.703 - ETA: 1:27 - loss: 0.7167 - acc: 0.707 - ETA: 1:27 - loss: 0.7160 - acc: 0.705 - ETA: 1:26 - loss: 0.7211 - acc: 0.698 - ETA: 1:26 - loss: 0.7186 - acc: 0.699 - ETA: 1:25 - loss: 0.7260 - acc: 0.696 - ETA: 1:25 - loss: 0.7280 - acc: 0.695 - ETA: 1:24 - loss: 0.7231 - acc: 0.696 - ETA: 1:24 - loss: 0.7235 - acc: 0.699 - ETA: 1:23 - loss: 0.7222 - acc: 0.699 - ETA: 1:23 - loss: 0.7257 - acc: 0.699 - ETA: 1:22 - loss: 0.7282 - acc: 0.699 - ETA: 1:22 - loss: 0.7278 - acc: 0.697 - ETA: 1:21 - loss: 0.7271 - acc: 0.699 - ETA: 1:20 - loss: 0.7263 - acc: 0.701 - ETA: 1:20 - loss: 0.7260 - acc: 0.700 - ETA: 1:20 - loss: 0.7217 - acc: 0.702 - ETA: 1:19 - loss: 0.7193 - acc: 0.704 - ETA: 1:19 - loss: 0.7199 - acc: 0.704 - ETA: 1:18 - loss: 0.7264 - acc: 0.702 - ETA: 1:17 - loss: 0.7381 - acc: 0.698 - ETA: 1:17 - loss: 0.7380 - acc: 0.696 - ETA: 1:17 - loss: 0.7383 - acc: 0.698 - ETA: 1:16 - loss: 0.7383 - acc: 0.698 - ETA: 1:16 - loss: 0.7317 - acc: 0.700 - ETA: 1:15 - loss: 0.7311 - acc: 0.699 - ETA: 1:15 - loss: 0.7306 - acc: 0.699 - ETA: 1:14 - loss: 0.7357 - acc: 0.699 - ETA: 1:14 - loss: 0.7340 - acc: 0.699 - ETA: 1:13 - loss: 0.7340 - acc: 0.699 - ETA: 1:13 - loss: 0.7341 - acc: 0.697 - ETA: 1:12 - loss: 0.7314 - acc: 0.697 - ETA: 1:12 - loss: 0.7333 - acc: 0.697 - ETA: 1:11 - loss: 0.7326 - acc: 0.695 - ETA: 1:11 - loss: 0.7328 - acc: 0.695 - ETA: 1:10 - loss: 0.7326 - acc: 0.696 - ETA: 1:10 - loss: 0.7307 - acc: 0.695 - ETA: 1:09 - loss: 0.7302 - acc: 0.695 - ETA: 1:09 - loss: 0.7283 - acc: 0.697 - ETA: 1:08 - loss: 0.7292 - acc: 0.696 - ETA: 1:08 - loss: 0.7262 - acc: 0.698 - ETA: 1:07 - loss: 0.7246 - acc: 0.699 - ETA: 1:07 - loss: 0.7236 - acc: 0.699 - ETA: 1:06 - loss: 0.7206 - acc: 0.701 - ETA: 1:06 - loss: 0.7268 - acc: 0.698 - ETA: 1:05 - loss: 0.7259 - acc: 0.698 - ETA: 1:05 - loss: 0.7261 - acc: 0.699 - ETA: 1:04 - loss: 0.7274 - acc: 0.697 - ETA: 1:04 - loss: 0.7284 - acc: 0.696 - ETA: 1:03 - loss: 0.7290 - acc: 0.696 - ETA: 1:03 - loss: 0.7280 - acc: 0.697 - ETA: 1:02 - loss: 0.7290 - acc: 0.696 - ETA: 1:02 - loss: 0.7310 - acc: 0.695 - ETA: 1:01 - loss: 0.7314 - acc: 0.696 - ETA: 1:01 - loss: 0.7284 - acc: 0.697 - ETA: 1:00 - loss: 0.7283 - acc: 0.697 - ETA: 1:00 - loss: 0.7312 - acc: 0.696 - ETA: 59s - loss: 0.7297 - acc: 0.696 - ETA: 59s - loss: 0.7327 - acc: 0.69 - ETA: 58s - loss: 0.7329 - acc: 0.69 - ETA: 58s - loss: 0.7331 - acc: 0.69 - ETA: 57s - loss: 0.7346 - acc: 0.69 - ETA: 57s - loss: 0.7334 - acc: 0.69 - ETA: 56s - loss: 0.7368 - acc: 0.69 - ETA: 56s - loss: 0.7370 - acc: 0.69 - ETA: 55s - loss: 0.7382 - acc: 0.69 - ETA: 55s - loss: 0.7380 - acc: 0.69 - ETA: 54s - loss: 0.7380 - acc: 0.69 - ETA: 54s - loss: 0.7388 - acc: 0.69 - ETA: 54s - loss: 0.7371 - acc: 0.69 - ETA: 53s - loss: 0.7373 - acc: 0.69 - ETA: 53s - loss: 0.7353 - acc: 0.69 - ETA: 52s - loss: 0.7368 - acc: 0.69 - ETA: 52s - loss: 0.7348 - acc: 0.69 - ETA: 51s - loss: 0.7316 - acc: 0.69 - ETA: 51s - loss: 0.7358 - acc: 0.69 - ETA: 50s - loss: 0.7345 - acc: 0.69 - ETA: 50s - loss: 0.7346 - acc: 0.69 - ETA: 49s - loss: 0.7344 - acc: 0.69 - ETA: 49s - loss: 0.7346 - acc: 0.69 - ETA: 48s - loss: 0.7362 - acc: 0.69 - ETA: 48s - loss: 0.7355 - acc: 0.69 - ETA: 47s - loss: 0.7360 - acc: 0.69 - ETA: 47s - loss: 0.7368 - acc: 0.69 - ETA: 46s - loss: 0.7354 - acc: 0.69 - ETA: 46s - loss: 0.7352 - acc: 0.69 - ETA: 45s - loss: 0.7351 - acc: 0.69 - ETA: 45s - loss: 0.7355 - acc: 0.69 - ETA: 44s - loss: 0.7348 - acc: 0.69 - ETA: 44s - loss: 0.7333 - acc: 0.69 - ETA: 43s - loss: 0.7331 - acc: 0.69 - ETA: 43s - loss: 0.7319 - acc: 0.69 - ETA: 42s - loss: 0.7311 - acc: 0.69 - ETA: 42s - loss: 0.7333 - acc: 0.69 - ETA: 42s - loss: 0.7322 - acc: 0.69 - ETA: 41s - loss: 0.7300 - acc: 0.69 - ETA: 41s - loss: 0.7289 - acc: 0.69 - ETA: 40s - loss: 0.7286 - acc: 0.69 - ETA: 40s - loss: 0.7270 - acc: 0.69 - ETA: 39s - loss: 0.7278 - acc: 0.69 - ETA: 39s - loss: 0.7278 - acc: 0.69 - ETA: 38s - loss: 0.7297 - acc: 0.69 - ETA: 38s - loss: 0.7298 - acc: 0.69 - ETA: 37s - loss: 0.7288 - acc: 0.69 - ETA: 37s - loss: 0.7284 - acc: 0.69 - ETA: 36s - loss: 0.7278 - acc: 0.69 - ETA: 36s - loss: 0.7279 - acc: 0.69 - ETA: 35s - loss: 0.7266 - acc: 0.69 - ETA: 35s - loss: 0.7277 - acc: 0.69 - ETA: 34s - loss: 0.7274 - acc: 0.69 - ETA: 34s - loss: 0.7282 - acc: 0.69 - ETA: 33s - loss: 0.7273 - acc: 0.69 - ETA: 33s - loss: 0.7273 - acc: 0.69 - ETA: 32s - loss: 0.7273 - acc: 0.69 - ETA: 32s - loss: 0.7265 - acc: 0.69 - ETA: 31s - loss: 0.7287 - acc: 0.69 - ETA: 31s - loss: 0.7275 - acc: 0.69 - ETA: 30s - loss: 0.7273 - acc: 0.69 - ETA: 30s - loss: 0.7279 - acc: 0.69 - ETA: 29s - loss: 0.7272 - acc: 0.69 - ETA: 29s - loss: 0.7279 - acc: 0.69 - ETA: 28s - loss: 0.7283 - acc: 0.69 - ETA: 28s - loss: 0.7287 - acc: 0.69 - ETA: 27s - loss: 0.7283 - acc: 0.69 - ETA: 27s - loss: 0.7276 - acc: 0.69 - ETA: 26s - loss: 0.7271 - acc: 0.69 - ETA: 26s - loss: 0.7269 - acc: 0.69 - ETA: 25s - loss: 0.7262 - acc: 0.69 - ETA: 25s - loss: 0.7247 - acc: 0.69 - ETA: 24s - loss: 0.7247 - acc: 0.69 - ETA: 24s - loss: 0.7246 - acc: 0.69 - ETA: 24s - loss: 0.7247 - acc: 0.69 - ETA: 23s - loss: 0.7240 - acc: 0.69 - ETA: 23s - loss: 0.7232 - acc: 0.69 - ETA: 22s - loss: 0.7232 - acc: 0.69 - ETA: 22s - loss: 0.7240 - acc: 0.69 - ETA: 21s - loss: 0.7240 - acc: 0.69 - ETA: 21s - loss: 0.7244 - acc: 0.69 - ETA: 20s - loss: 0.7234 - acc: 0.69 - ETA: 20s - loss: 0.7231 - acc: 0.69 - ETA: 19s - loss: 0.7235 - acc: 0.69 - ETA: 19s - loss: 0.7231 - acc: 0.69 - ETA: 18s - loss: 0.7232 - acc: 0.69 - ETA: 18s - loss: 0.7231 - acc: 0.69 - ETA: 17s - loss: 0.7225 - acc: 0.69 - ETA: 17s - loss: 0.7225 - acc: 0.69 - ETA: 16s - loss: 0.7214 - acc: 0.69 - ETA: 16s - loss: 0.7213 - acc: 0.69 - ETA: 15s - loss: 0.7218 - acc: 0.69 - ETA: 15s - loss: 0.7209 - acc: 0.69 - ETA: 14s - loss: 0.7216 - acc: 0.69 - ETA: 14s - loss: 0.7232 - acc: 0.69 - ETA: 13s - loss: 0.7233 - acc: 0.69 - ETA: 13s - loss: 0.7226 - acc: 0.69 - ETA: 12s - loss: 0.7221 - acc: 0.69 - ETA: 12s - loss: 0.7217 - acc: 0.70 - ETA: 12s - loss: 0.7219 - acc: 0.69 - ETA: 11s - loss: 0.7221 - acc: 0.69 - ETA: 11s - loss: 0.7242 - acc: 0.69 - ETA: 10s - loss: 0.7255 - acc: 0.69 - ETA: 10s - loss: 0.7249 - acc: 0.69 - ETA: 9s - loss: 0.7253 - acc: 0.6981 - ETA: 9s - loss: 0.7261 - acc: 0.697 - ETA: 8s - loss: 0.7266 - acc: 0.697 - ETA: 8s - loss: 0.7268 - acc: 0.697 - ETA: 7s - loss: 0.7289 - acc: 0.696 - ETA: 7s - loss: 0.7300 - acc: 0.696 - ETA: 6s - loss: 0.7309 - acc: 0.695 - ETA: 6s - loss: 0.7322 - acc: 0.695 - ETA: 5s - loss: 0.7317 - acc: 0.695 - ETA: 5s - loss: 0.7320 - acc: 0.695 - ETA: 4s - loss: 0.7323 - acc: 0.695 - ETA: 4s - loss: 0.7316 - acc: 0.695 - ETA: 3s - loss: 0.7320 - acc: 0.695 - ETA: 3s - loss: 0.7333 - acc: 0.695 - ETA: 2s - loss: 0.7328 - acc: 0.695 - ETA: 2s - loss: 0.7327 - acc: 0.694 - ETA: 1s - loss: 0.7331 - acc: 0.694 - ETA: 1s - loss: 0.7333 - acc: 0.694 - ETA: 0s - loss: 0.7342 - acc: 0.693 - ETA: 0s - loss: 0.7343 - acc: 0.6936"
     ]
    },
    {
     "name": "stdout",
     "output_type": "stream",
     "text": [
      "6750/6750 [==============================] - 112s 17ms/step - loss: 0.7345 - acc: 0.6932 - val_loss: 0.8577 - val_acc: 0.6560\n"
     ]
    }
   ],
   "source": [
    "history=model.fit(xtrain, ytrain,epochs=10,verbose=1,validation_data=(xtest, ytest))"
   ]
  },
  {
   "cell_type": "code",
   "execution_count": 78,
   "metadata": {},
   "outputs": [
    {
     "name": "stdout",
     "output_type": "stream",
     "text": [
      "2250/2250 [==============================] - ETA: 11 - ETA: 9 - ETA:  - ETA:  - ETA:  - ETA:  - ETA:  - ETA:  - ETA:  - ETA:  - ETA:  - ETA:  - ETA:  - ETA:  - ETA:  - ETA:  - ETA:  - 10s 5ms/step\n"
     ]
    },
    {
     "data": {
      "text/plain": [
       "[0.857708368619283, 0.6560000003708734]"
      ]
     },
     "execution_count": 78,
     "metadata": {},
     "output_type": "execute_result"
    }
   ],
   "source": [
    "score = model.evaluate(xtest, ytest, batch_size=128)\n",
    "score"
   ]
  },
  {
   "cell_type": "code",
   "execution_count": 79,
   "metadata": {},
   "outputs": [],
   "source": [
    "scores = model.evaluate(xtest, ytest, verbose=0)"
   ]
  },
  {
   "cell_type": "code",
   "execution_count": 80,
   "metadata": {},
   "outputs": [
    {
     "name": "stdout",
     "output_type": "stream",
     "text": [
      "Accuracy: 65.60%\n"
     ]
    }
   ],
   "source": [
    "print(\"Accuracy: %.2f%%\" % (scores[1]*100))"
   ]
  },
  {
   "cell_type": "code",
   "execution_count": 81,
   "metadata": {},
   "outputs": [
    {
     "name": "stdout",
     "output_type": "stream",
     "text": [
      "Saved model to disk\n"
     ]
    }
   ],
   "source": [
    "# serialize model to JSON\n",
    "model_json = model.to_json()\n",
    "with open(\"model.json\", \"w\") as json_file:\n",
    "    json_file.write(model_json)\n",
    "# serialize weights to HDF5\n",
    "model.save_weights(\"model.h5\")\n",
    "print(\"Saved model to disk\")"
   ]
  },
  {
   "cell_type": "code",
   "execution_count": 73,
   "metadata": {},
   "outputs": [
    {
     "name": "stdout",
     "output_type": "stream",
     "text": [
      "Loaded model from disk\n"
     ]
    }
   ],
   "source": [
    "from keras.models import model_from_json\n",
    "# load json and create model\n",
    "json_file = open('model.json', 'r')\n",
    "loaded_model_json = json_file.read()\n",
    "json_file.close()\n",
    "loaded_model = model_from_json(loaded_model_json)\n",
    "# load weights into new model\n",
    "loaded_model.load_weights(\"model.h5\")\n",
    "print(\"Loaded model from disk\")"
   ]
  },
  {
   "cell_type": "code",
   "execution_count": 74,
   "metadata": {},
   "outputs": [
    {
     "name": "stdout",
     "output_type": "stream",
     "text": [
      "acc: 59.69%\n"
     ]
    }
   ],
   "source": [
    " # evaluate loaded model on test data\n",
    "loaded_model.compile(loss=keras.losses.categorical_crossentropy, optimizer=keras.optimizers.Adadelta(), metrics=['accuracy'])\n",
    "score = loaded_model.evaluate(xtest, ytest, verbose=0)\n",
    "print(\"%s: %.2f%%\" % (loaded_model.metrics_names[1], score[1]*100))"
   ]
  },
  {
   "cell_type": "code",
   "execution_count": 90,
   "metadata": {},
   "outputs": [],
   "source": [
    "pred=model.predict([xtest])"
   ]
  },
  {
   "cell_type": "code",
   "execution_count": 91,
   "metadata": {},
   "outputs": [
    {
     "name": "stdout",
     "output_type": "stream",
     "text": [
      "2\n"
     ]
    }
   ],
   "source": [
    "print(np.argmax(pred[11]))"
   ]
  },
  {
   "cell_type": "code",
   "execution_count": 92,
   "metadata": {},
   "outputs": [],
   "source": [
    "p=[]\n",
    "for i in range(0,len(pred)):\n",
    "    p.append(np.argmax(pred[i]))"
   ]
  },
  {
   "cell_type": "code",
   "execution_count": 93,
   "metadata": {},
   "outputs": [
    {
     "name": "stdout",
     "output_type": "stream",
     "text": [
      "[0. 0. 0. 1. 0.]\n"
     ]
    }
   ],
   "source": [
    "print(ytest[11])"
   ]
  },
  {
   "cell_type": "code",
   "execution_count": 94,
   "metadata": {},
   "outputs": [
    {
     "data": {
      "text/plain": [
       "array([[0., 0., 1., 0., 0.],\n",
       "       [0., 0., 1., 0., 0.],\n",
       "       [0., 0., 1., 0., 0.],\n",
       "       ...,\n",
       "       [0., 0., 1., 0., 0.],\n",
       "       [0., 0., 1., 0., 0.],\n",
       "       [0., 0., 0., 1., 0.]], dtype=float32)"
      ]
     },
     "execution_count": 94,
     "metadata": {},
     "output_type": "execute_result"
    }
   ],
   "source": [
    "ytest"
   ]
  },
  {
   "cell_type": "code",
   "execution_count": 95,
   "metadata": {},
   "outputs": [],
   "source": [
    "a=[]\n",
    "for i in range(0,len(ytest)):\n",
    "    for j in range(0,5):\n",
    "        if(ytest[i][j]==1.0):\n",
    "            a.append(j)"
   ]
  },
  {
   "cell_type": "code",
   "execution_count": 96,
   "metadata": {},
   "outputs": [
    {
     "data": {
      "text/plain": [
       "2250"
      ]
     },
     "execution_count": 96,
     "metadata": {},
     "output_type": "execute_result"
    }
   ],
   "source": [
    "len(a)"
   ]
  },
  {
   "cell_type": "code",
   "execution_count": 97,
   "metadata": {},
   "outputs": [
    {
     "name": "stdout",
     "output_type": "stream",
     "text": [
      "Confusion Matrix :\n",
      "[[468 132  39  27]\n",
      " [158 318 101  21]\n",
      " [ 49 143 617  20]\n",
      " [ 25  10  49  73]]\n",
      "Accuracy Score : 0.656\n",
      "Report : \n",
      "              precision    recall  f1-score   support\n",
      "\n",
      "           1       0.67      0.70      0.69       666\n",
      "           2       0.53      0.53      0.53       598\n",
      "           3       0.77      0.74      0.75       829\n",
      "           4       0.52      0.46      0.49       157\n",
      "\n",
      "    accuracy                           0.66      2250\n",
      "   macro avg       0.62      0.61      0.61      2250\n",
      "weighted avg       0.66      0.66      0.66      2250\n",
      "\n"
     ]
    }
   ],
   "source": [
    "from sklearn.metrics import confusion_matrix \n",
    "from sklearn.metrics import accuracy_score \n",
    "from sklearn.metrics import classification_report \n",
    "actual = a\n",
    "predicted = p\n",
    "results = confusion_matrix(actual, predicted) \n",
    "print('Confusion Matrix :')\n",
    "print(results) \n",
    "print('Accuracy Score :',accuracy_score(actual, predicted) )\n",
    "print('Report : ')\n",
    "print(classification_report(actual, predicted) )"
   ]
  },
  {
   "cell_type": "code",
   "execution_count": null,
   "metadata": {},
   "outputs": [],
   "source": []
  },
  {
   "cell_type": "code",
   "execution_count": 99,
   "metadata": {},
   "outputs": [
    {
     "data": {
      "image/png": "[encoded data removed]",
      "text/plain": [
       "<Figure size 432x288 with 1 Axes>"
      ]
     },
     "metadata": {
      "needs_background": "light"
     },
     "output_type": "display_data"
    }
   ],
   "source": [
    "import matplotlib.pyplot as plt\n",
    "# Plot training & validation accuracy values\n",
    "plt.plot(history.history['acc'])\n",
    "plt.plot(history.history['val_acc'])\n",
    "plt.title('Model accuracy')\n",
    "plt.ylabel('Accuracy')\n",
    "plt.xlabel('Epoch')\n",
    "plt.legend(['Train', 'Test'], loc='upper left')\n",
    "plt.show()"
   ]
  },
  {
   "cell_type": "code",
   "execution_count": 100,
   "metadata": {},
   "outputs": [
    {
     "data": {
      "image/png": "[encoded data removed]",
      "text/plain": [
       "<Figure size 432x288 with 1 Axes>"
      ]
     },
     "metadata": {
      "needs_background": "light"
     },
     "output_type": "display_data"
    }
   ],
   "source": [
    "plt.plot(history.history['acc'], label='accuracy')\n",
    "plt.plot(history.history['val_acc'], label = 'val_accuracy')\n",
    "plt.xlabel('Epoch')\n",
    "plt.ylabel('Accuracy')\n",
    "plt.ylim([0.5, 1])\n",
    "plt.legend(loc='lower right')\n",
    "\n",
    "test_loss, test_acc = model.evaluate(xtest, ytest, verbose=2)"
   ]
  },
  {
   "cell_type": "code",
   "execution_count": null,
   "metadata": {},
   "outputs": [],
   "source": []
  },
  {
   "cell_type": "code",
   "execution_count": null,
   "metadata": {},
   "outputs": [],
   "source": []
  },
  {
   "cell_type": "code",
   "execution_count": null,
   "metadata": {},
   "outputs": [],
   "source": []
  },
  {
   "cell_type": "code",
   "execution_count": 294,
   "metadata": {},
   "outputs": [],
   "source": []
  },
  {
   "cell_type": "code",
   "execution_count": 297,
   "metadata": {},
   "outputs": [
    {
     "name": "stdout",
     "output_type": "stream",
     "text": [
      "3\n"
     ]
    }
   ],
   "source": []
  },
  {
   "cell_type": "code",
   "execution_count": 285,
   "metadata": {},
   "outputs": [
    {
     "name": "stdout",
     "output_type": "stream",
     "text": [
      "100/100 [==============================] - ETA:  - ETA:  - ETA:  - 0s 5ms/step\n",
      "1.3728249645233155 0.27\n"
     ]
    }
   ],
   "source": [
    "#val_loss, val_acc=model.evaluate(xtest,ytest)\n",
    "#print(val_loss,val_acc)\n",
    "#score = model.evaluate(xtest, ytest, verbose=0)\n",
    "#print('Test loss:', score[0])\n",
    "#print('Test accuracy:', score[1])"
   ]
  },
  {
   "cell_type": "code",
   "execution_count": 108,
   "metadata": {},
   "outputs": [
    {
     "name": "stdout",
     "output_type": "stream",
     "text": [
      "Train on 675 samples, validate on 225 samples\n",
      "Epoch 1/50\n",
      "675/675 [==============================] - ETA: 38s - loss: 5.0839 - acc: 0.28 - ETA: 25s - loss: 3.7536 - acc: 0.31 - ETA: 22s - loss: 3.3320 - acc: 0.33 - ETA: 19s - loss: 2.8843 - acc: 0.33 - ETA: 17s - loss: 3.5287 - acc: 0.33 - ETA: 15s - loss: 4.8787 - acc: 0.32 - ETA: 14s - loss: 5.9886 - acc: 0.31 - ETA: 13s - loss: 6.8151 - acc: 0.32 - ETA: 11s - loss: 7.3454 - acc: 0.32 - ETA: 10s - loss: 7.6686 - acc: 0.32 - ETA: 9s - loss: 8.0246 - acc: 0.3153 - ETA: 8s - loss: 8.4054 - acc: 0.304 - ETA: 7s - loss: 8.8104 - acc: 0.310 - ETA: 6s - loss: 9.1978 - acc: 0.312 - ETA: 5s - loss: 9.4391 - acc: 0.331 - ETA: 4s - loss: 9.5217 - acc: 0.328 - ETA: 3s - loss: 9.6172 - acc: 0.332 - ETA: 2s - loss: 9.4756 - acc: 0.328 - ETA: 1s - loss: 9.3486 - acc: 0.328 - ETA: 0s - loss: 9.1333 - acc: 0.328 - ETA: 0s - loss: 9.2023 - acc: 0.333 - 21s 31ms/step - loss: 9.1855 - acc: 0.3333 - val_loss: 11.0319 - val_acc: 0.3467\n",
      "Epoch 2/50\n",
      "675/675 [==============================] - ETA: 19s - loss: 7.0595 - acc: 0.31 - ETA: 16s - loss: 7.8111 - acc: 0.29 - ETA: 15s - loss: 7.5595 - acc: 0.30 - ETA: 14s - loss: 7.1807 - acc: 0.29 - ETA: 13s - loss: 7.6586 - acc: 0.31 - ETA: 12s - loss: 7.5574 - acc: 0.33 - ETA: 11s - loss: 7.4895 - acc: 0.33 - ETA: 10s - loss: 7.5619 - acc: 0.33 - ETA: 9s - loss: 7.6731 - acc: 0.3368 - ETA: 8s - loss: 7.8630 - acc: 0.343 - ETA: 7s - loss: 7.8808 - acc: 0.340 - ETA: 7s - loss: 7.9377 - acc: 0.335 - ETA: 6s - loss: 7.9083 - acc: 0.331 - ETA: 5s - loss: 7.9194 - acc: 0.337 - ETA: 4s - loss: 7.9623 - acc: 0.339 - ETA: 3s - loss: 7.9998 - acc: 0.341 - ETA: 3s - loss: 7.9736 - acc: 0.341 - ETA: 2s - loss: 7.9224 - acc: 0.340 - ETA: 1s - loss: 8.0357 - acc: 0.340 - ETA: 0s - loss: 7.9865 - acc: 0.339 - ETA: 0s - loss: 8.0379 - acc: 0.339 - 18s 26ms/step - loss: 8.0260 - acc: 0.3422 - val_loss: 5.0862 - val_acc: 0.3467\n",
      "Epoch 3/50\n",
      "675/675 [==============================] - ETA: 15s - loss: 7.5554 - acc: 0.40 - ETA: 14s - loss: 7.0517 - acc: 0.31 - ETA: 13s - loss: 7.7233 - acc: 0.33 - ETA: 12s - loss: 7.9335 - acc: 0.32 - ETA: 11s - loss: 7.6564 - acc: 0.31 - ETA: 11s - loss: 7.8917 - acc: 0.32 - ETA: 10s - loss: 7.8436 - acc: 0.33 - ETA: 9s - loss: 7.6817 - acc: 0.3594 - ETA: 8s - loss: 7.5557 - acc: 0.354 - ETA: 8s - loss: 7.5053 - acc: 0.356 - ETA: 7s - loss: 7.3725 - acc: 0.355 - ETA: 6s - loss: 7.3038 - acc: 0.359 - ETA: 5s - loss: 7.3231 - acc: 0.353 - ETA: 5s - loss: 7.5556 - acc: 0.348 - ETA: 4s - loss: 7.5220 - acc: 0.343 - ETA: 3s - loss: 7.4299 - acc: 0.334 - ETA: 2s - loss: 7.4965 - acc: 0.340 - ETA: 2s - loss: 7.4998 - acc: 0.338 - ETA: 1s - loss: 7.3968 - acc: 0.338 - ETA: 0s - loss: 7.3291 - acc: 0.339 - ETA: 0s - loss: 7.2919 - acc: 0.337 - 17s 25ms/step - loss: 7.2834 - acc: 0.3407 - val_loss: 5.0862 - val_acc: 0.3467\n",
      "Epoch 4/50\n",
      "675/675 [==============================] - ETA: 14s - loss: 6.0443 - acc: 0.34 - ETA: 14s - loss: 5.5406 - acc: 0.40 - ETA: 13s - loss: 5.5406 - acc: 0.43 - ETA: 12s - loss: 6.2970 - acc: 0.40 - ETA: 11s - loss: 6.7501 - acc: 0.38 - ETA: 11s - loss: 6.7176 - acc: 0.37 - ETA: 10s - loss: 6.9812 - acc: 0.36 - ETA: 9s - loss: 6.9900 - acc: 0.3516 - ETA: 9s - loss: 7.0528 - acc: 0.350 - ETA: 8s - loss: 7.2048 - acc: 0.350 - ETA: 7s - loss: 7.3740 - acc: 0.340 - ETA: 6s - loss: 7.3472 - acc: 0.349 - ETA: 6s - loss: 7.2470 - acc: 0.343 - ETA: 5s - loss: 7.1975 - acc: 0.343 - ETA: 4s - loss: 7.0871 - acc: 0.343 - ETA: 3s - loss: 7.1163 - acc: 0.339 - ETA: 3s - loss: 7.2311 - acc: 0.343 - ETA: 2s - loss: 7.3330 - acc: 0.343 - ETA: 1s - loss: 7.2917 - acc: 0.340 - ETA: 0s - loss: 7.2293 - acc: 0.354 - ETA: 0s - loss: 7.2210 - acc: 0.358 - 17s 25ms/step - loss: 7.1889 - acc: 0.3585 - val_loss: 11.0319 - val_acc: 0.3467\n",
      "Epoch 5/50\n",
      "675/675 [==============================] - ETA: 15s - loss: 9.0664 - acc: 0.50 - ETA: 14s - loss: 9.5701 - acc: 0.50 - ETA: 13s - loss: 9.2343 - acc: 0.41 - ETA: 12s - loss: 8.8146 - acc: 0.41 - ETA: 11s - loss: 8.6635 - acc: 0.40 - ETA: 11s - loss: 8.8146 - acc: 0.39 - ETA: 10s - loss: 8.5627 - acc: 0.40 - ETA: 10s - loss: 8.5627 - acc: 0.38 - ETA: 9s - loss: 8.5637 - acc: 0.3715 - ETA: 8s - loss: 8.5132 - acc: 0.387 - ETA: 7s - loss: 8.2888 - acc: 0.386 - ETA: 6s - loss: 8.4795 - acc: 0.390 - ETA: 6s - loss: 8.6021 - acc: 0.377 - ETA: 5s - loss: 8.6713 - acc: 0.370 - ETA: 4s - loss: 8.7313 - acc: 0.375 - ETA: 3s - loss: 8.7523 - acc: 0.367 - ETA: 3s - loss: 8.6819 - acc: 0.365 - ETA: 2s - loss: 8.7039 - acc: 0.368 - ETA: 1s - loss: 8.5641 - acc: 0.368 - ETA: 0s - loss: 8.5892 - acc: 0.364 - ETA: 0s - loss: 8.4920 - acc: 0.357 - 17s 26ms/step - loss: 8.5020 - acc: 0.3585 - val_loss: 5.0862 - val_acc: 0.3467\n",
      "Epoch 6/50\n",
      "675/675 [==============================] - ETA: 15s - loss: 7.0517 - acc: 0.31 - ETA: 14s - loss: 6.5480 - acc: 0.29 - ETA: 13s - loss: 6.5480 - acc: 0.33 - ETA: 12s - loss: 6.9257 - acc: 0.31 - ETA: 11s - loss: 7.1524 - acc: 0.30 - ETA: 10s - loss: 6.9677 - acc: 0.30 - ETA: 10s - loss: 6.9797 - acc: 0.30 - ETA: 9s - loss: 7.0517 - acc: 0.3203 - ETA: 8s - loss: 7.0517 - acc: 0.319 - ETA: 8s - loss: 6.9006 - acc: 0.331 - ETA: 7s - loss: 6.9143 - acc: 0.323 - ETA: 6s - loss: 6.8838 - acc: 0.320 - ETA: 6s - loss: 6.8579 - acc: 0.326 - ETA: 5s - loss: 6.8718 - acc: 0.334 - ETA: 4s - loss: 6.8166 - acc: 0.339 - ETA: 4s - loss: 6.8943 - acc: 0.347 - ETA: 3s - loss: 6.9035 - acc: 0.347 - ETA: 2s - loss: 6.7718 - acc: 0.350 - ETA: 1s - loss: 6.7866 - acc: 0.353 - ETA: 0s - loss: 6.8502 - acc: 0.346 - ETA: 0s - loss: 7.0037 - acc: 0.342 - 18s 27ms/step - loss: 7.0203 - acc: 0.3437 - val_loss: 5.0862 - val_acc: 0.3467\n",
      "Epoch 7/50\n",
      "675/675 [==============================] - ETA: 14s - loss: 7.0517 - acc: 0.15 - ETA: 13s - loss: 6.7998 - acc: 0.32 - ETA: 12s - loss: 7.0517 - acc: 0.34 - ETA: 12s - loss: 7.1776 - acc: 0.32 - ETA: 11s - loss: 7.2531 - acc: 0.33 - ETA: 11s - loss: 7.2196 - acc: 0.35 - ETA: 10s - loss: 7.7712 - acc: 0.36 - ETA: 9s - loss: 7.8702 - acc: 0.3555 - ETA: 9s - loss: 8.1710 - acc: 0.354 - ETA: 8s - loss: 8.2610 - acc: 0.334 - ETA: 7s - loss: 7.9221 - acc: 0.335 - ETA: 6s - loss: 7.8496 - acc: 0.341 - ETA: 6s - loss: 7.8657 - acc: 0.338 - ETA: 5s - loss: 7.6996 - acc: 0.334 - ETA: 4s - loss: 7.6900 - acc: 0.333 - ETA: 3s - loss: 7.5557 - acc: 0.337 - ETA: 3s - loss: 7.5260 - acc: 0.334 - ETA: 2s - loss: 7.5556 - acc: 0.338 - ETA: 1s - loss: 7.6086 - acc: 0.348 - ETA: 0s - loss: 7.6312 - acc: 0.346 - ETA: 0s - loss: 7.5076 - acc: 0.340 - 17s 26ms/step - loss: 7.5459 - acc: 0.3422 - val_loss: 5.4443 - val_acc: 0.3467\n",
      "Epoch 8/50\n",
      "675/675 [==============================] - ETA: 13s - loss: 9.0664 - acc: 0.46 - ETA: 14s - loss: 8.0590 - acc: 0.37 - ETA: 14s - loss: 8.7306 - acc: 0.37 - ETA: 13s - loss: 8.3109 - acc: 0.36 - ETA: 12s - loss: 8.5629 - acc: 0.37 - ETA: 11s - loss: 8.3111 - acc: 0.35 - ETA: 10s - loss: 8.2031 - acc: 0.36 - ETA: 10s - loss: 8.0592 - acc: 0.36 - ETA: 9s - loss: 8.1151 - acc: 0.3542 - ETA: 8s - loss: 8.0088 - acc: 0.343 - ETA: 7s - loss: 7.8302 - acc: 0.338 - ETA: 6s - loss: 7.7233 - acc: 0.338 - ETA: 6s - loss: 7.6717 - acc: 0.341 - ETA: 5s - loss: 7.4475 - acc: 0.352 - ETA: 4s - loss: 7.4883 - acc: 0.358 - ETA: 3s - loss: 7.5242 - acc: 0.357 - ETA: 3s - loss: 7.4964 - acc: 0.358 - ETA: 2s - loss: 7.4996 - acc: 0.347 - ETA: 1s - loss: 7.5821 - acc: 0.345 - ETA: 0s - loss: 7.5808 - acc: 0.346 - ETA: 0s - loss: 7.5316 - acc: 0.343 - 17s 26ms/step - loss: 7.5459 - acc: 0.3452 - val_loss: 5.0862 - val_acc: 0.3467\n",
      "Epoch 9/50\n",
      "675/675 [==============================] - ETA: 16s - loss: 8.0590 - acc: 0.43 - ETA: 14s - loss: 8.5627 - acc: 0.39 - ETA: 14s - loss: 8.8985 - acc: 0.35 - ETA: 13s - loss: 8.4368 - acc: 0.35 - ETA: 12s - loss: 8.6635 - acc: 0.33 - ETA: 11s - loss: 8.6467 - acc: 0.31 - ETA: 10s - loss: 8.4908 - acc: 0.31 - ETA: 10s - loss: 8.3109 - acc: 0.32 - ETA: 9s - loss: 8.2829 - acc: 0.3160 - ETA: 8s - loss: 8.0590 - acc: 0.318 - ETA: 7s - loss: 8.3338 - acc: 0.318 - ETA: 6s - loss: 8.4788 - acc: 0.320 - ETA: 6s - loss: 8.4078 - acc: 0.326 - ETA: 5s - loss: 8.3109 - acc: 0.339 - ETA: 4s - loss: 8.1262 - acc: 0.335 - ETA: 3s - loss: 8.1850 - acc: 0.334 - ETA: 3s - loss: 8.1479 - acc: 0.330 - ETA: 2s - loss: 7.9471 - acc: 0.321 - ETA: 1s - loss: 7.8735 - acc: 0.324 - ETA: 0s - loss: 7.8576 - acc: 0.318 - ETA: 0s - loss: 7.9391 - acc: 0.321 - 18s 27ms/step - loss: 7.9277 - acc: 0.3215 - val_loss: 5.0862 - val_acc: 0.3467\n",
      "Epoch 10/50\n",
      "675/675 [==============================] - ETA: 15s - loss: 6.5480 - acc: 0.37 - ETA: 14s - loss: 7.5554 - acc: 0.32 - ETA: 13s - loss: 7.5554 - acc: 0.30 - ETA: 13s - loss: 7.4294 - acc: 0.28 - ETA: 12s - loss: 7.7568 - acc: 0.28 - ETA: 11s - loss: 8.1430 - acc: 0.32 - ETA: 11s - loss: 8.1310 - acc: 0.31 - ETA: 10s - loss: 8.2479 - acc: 0.30 - ETA: 10s - loss: 8.1710 - acc: 0.30 - ETA: 9s - loss: 8.0590 - acc: 0.3125 - ETA: 8s - loss: 8.0133 - acc: 0.309 - ETA: 7s - loss: 8.0171 - acc: 0.315 - ETA: 7s - loss: 8.0590 - acc: 0.312 - ETA: 6s - loss: 8.0231 - acc: 0.310 - ETA: 5s - loss: 7.8912 - acc: 0.308 - ETA: 4s - loss: 7.9961 - acc: 0.308 - ETA: 3s - loss: 8.1183 - acc: 0.318 - ETA: 2s - loss: 8.1430 - acc: 0.331 - ETA: 1s - loss: 8.1386 - acc: 0.327 - ETA: 1s - loss: 8.0339 - acc: 0.326 - ETA: 0s - loss: 7.9151 - acc: 0.337 - 22s 32ms/step - loss: 7.9277 - acc: 0.3378 - val_loss: 5.0862 - val_acc: 0.3467\n",
      "Epoch 11/50\n",
      "675/675 [==============================] - ETA: 21s - loss: 8.0590 - acc: 0.25 - ETA: 19s - loss: 6.7998 - acc: 0.26 - ETA: 18s - loss: 7.3875 - acc: 0.31 - ETA: 17s - loss: 7.4294 - acc: 0.29 - ETA: 15s - loss: 7.4546 - acc: 0.31 - ETA: 15s - loss: 7.7233 - acc: 0.30 - ETA: 14s - loss: 7.4834 - acc: 0.29 - ETA: 12s - loss: 7.6183 - acc: 0.31 - ETA: 11s - loss: 7.5554 - acc: 0.33 - ETA: 10s - loss: 7.8576 - acc: 0.33 - ETA: 9s - loss: 7.6469 - acc: 0.3466 - ETA: 8s - loss: 7.8072 - acc: 0.354 - ETA: 7s - loss: 7.8266 - acc: 0.346 - ETA: 6s - loss: 7.6993 - acc: 0.346 - ETA: 5s - loss: 7.5889 - acc: 0.345 - ETA: 4s - loss: 7.7128 - acc: 0.341 - ETA: 3s - loss: 7.8220 - acc: 0.340 - ETA: 2s - loss: 7.8352 - acc: 0.338 - ETA: 1s - loss: 7.8735 - acc: 0.338 - ETA: 1s - loss: 7.8576 - acc: 0.339 - ETA: 0s - loss: 7.8672 - acc: 0.339 - 21s 32ms/step - loss: 7.8561 - acc: 0.3378 - val_loss: 5.0862 - val_acc: 0.3467\n",
      "Epoch 12/50\n",
      "675/675 [==============================] - ETA: 17s - loss: 6.0443 - acc: 0.31 - ETA: 18s - loss: 7.5554 - acc: 0.32 - ETA: 18s - loss: 7.3875 - acc: 0.31 - ETA: 17s - loss: 7.1776 - acc: 0.32 - ETA: 16s - loss: 7.5554 - acc: 0.35 - ETA: 15s - loss: 7.5554 - acc: 0.34 - ETA: 14s - loss: 7.4114 - acc: 0.36 - ETA: 13s - loss: 7.5554 - acc: 0.39 - ETA: 12s - loss: 7.3875 - acc: 0.39 - ETA: 11s - loss: 7.3035 - acc: 0.38 - ETA: 10s - loss: 7.1890 - acc: 0.39 - ETA: 9s - loss: 7.5134 - acc: 0.3802 - ETA: 8s - loss: 7.4391 - acc: 0.377 - ETA: 7s - loss: 7.3755 - acc: 0.377 - ETA: 6s - loss: 7.2196 - acc: 0.368 - ETA: 5s - loss: 7.2406 - acc: 0.363 - ETA: 4s - loss: 7.1998 - acc: 0.360 - ETA: 3s - loss: 7.3035 - acc: 0.357 - ETA: 2s - loss: 7.4228 - acc: 0.356 - ETA: 1s - loss: 7.5050 - acc: 0.359 - ETA: 0s - loss: 7.5074 - acc: 0.357 - 23s 33ms/step - loss: 7.5218 - acc: 0.3570 - val_loss: 5.0862 - val_acc: 0.3467\n",
      "Epoch 13/50\n",
      "675/675 [==============================] - ETA: 20s - loss: 6.5480 - acc: 0.25 - ETA: 19s - loss: 6.7998 - acc: 0.28 - ETA: 17s - loss: 7.3875 - acc: 0.29 - ETA: 16s - loss: 7.1776 - acc: 0.29 - ETA: 15s - loss: 7.1524 - acc: 0.29 - ETA: 14s - loss: 7.5554 - acc: 0.29 - ETA: 13s - loss: 7.5554 - acc: 0.30 - ETA: 12s - loss: 7.4294 - acc: 0.30 - ETA: 11s - loss: 7.5554 - acc: 0.30 - ETA: 10s - loss: 7.7065 - acc: 0.31 - ETA: 9s - loss: 7.9217 - acc: 0.3239 - ETA: 8s - loss: 7.8072 - acc: 0.330 - ETA: 7s - loss: 7.7103 - acc: 0.334 - ETA: 6s - loss: 7.7352 - acc: 0.334 - ETA: 5s - loss: 7.6897 - acc: 0.347 - ETA: 4s - loss: 7.7442 - acc: 0.347 - ETA: 3s - loss: 7.7331 - acc: 0.352 - ETA: 2s - loss: 7.7792 - acc: 0.354 - ETA: 1s - loss: 7.8735 - acc: 0.355 - ETA: 1s - loss: 7.8576 - acc: 0.354 - ETA: 0s - loss: 7.8672 - acc: 0.354 - 22s 32ms/step - loss: 7.8561 - acc: 0.3556 - val_loss: 5.0862 - val_acc: 0.3467\n",
      "Epoch 14/50\n",
      "675/675 [==============================] - ETA: 17s - loss: 8.0590 - acc: 0.34 - ETA: 16s - loss: 7.8072 - acc: 0.31 - ETA: 15s - loss: 7.8912 - acc: 0.33 - ETA: 14s - loss: 7.8072 - acc: 0.35 - ETA: 13s - loss: 7.6561 - acc: 0.35 - ETA: 13s - loss: 7.4714 - acc: 0.36 - ETA: 12s - loss: 7.6273 - acc: 0.36 - ETA: 11s - loss: 7.5554 - acc: 0.37 - ETA: 10s - loss: 7.6113 - acc: 0.37 - ETA: 9s - loss: 7.6561 - acc: 0.3719 - ETA: 9s - loss: 7.7843 - acc: 0.369 - ETA: 8s - loss: 7.8072 - acc: 0.375 - ETA: 7s - loss: 7.9041 - acc: 0.360 - ETA: 6s - loss: 7.9511 - acc: 0.350 - ETA: 5s - loss: 7.9247 - acc: 0.354 - ETA: 4s - loss: 7.8702 - acc: 0.349 - ETA: 3s - loss: 8.0000 - acc: 0.347 - ETA: 2s - loss: 7.8074 - acc: 0.347 - ETA: 1s - loss: 7.7149 - acc: 0.343 - ETA: 0s - loss: 7.6818 - acc: 0.337 - ETA: 0s - loss: 7.5798 - acc: 0.339 - 21s 30ms/step - loss: 7.6178 - acc: 0.3378 - val_loss: 11.0319 - val_acc: 0.3467\n",
      "Epoch 15/50\n",
      "675/675 [==============================] - ETA: 17s - loss: 8.0590 - acc: 0.31 - ETA: 17s - loss: 7.0517 - acc: 0.31 - ETA: 16s - loss: 7.0517 - acc: 0.34 - ETA: 16s - loss: 7.3035 - acc: 0.33 - ETA: 15s - loss: 7.1524 - acc: 0.31 - ETA: 13s - loss: 7.4714 - acc: 0.32 - ETA: 12s - loss: 7.5554 - acc: 0.32 - ETA: 12s - loss: 7.6813 - acc: 0.33 - ETA: 11s - loss: 7.8352 - acc: 0.32 - ETA: 10s - loss: 7.9583 - acc: 0.32 - ETA: 9s - loss: 7.9675 - acc: 0.3267 - ETA: 8s - loss: 8.1430 - acc: 0.333 - ETA: 7s - loss: 8.2528 - acc: 0.334 - ETA: 6s - loss: 8.1310 - acc: 0.330 - ETA: 5s - loss: 8.0926 - acc: 0.327 - ETA: 4s - loss: 8.1535 - acc: 0.326 - ETA: 3s - loss: 8.1479 - acc: 0.327 - ETA: 2s - loss: 8.1990 - acc: 0.335 - ETA: 1s - loss: 8.1121 - acc: 0.330 - ETA: 1s - loss: 8.1094 - acc: 0.326 - ETA: 0s - loss: 8.0830 - acc: 0.330 - 22s 32ms/step - loss: 8.0949 - acc: 0.3319 - val_loss: 11.0319 - val_acc: 0.3467\n",
      "Epoch 16/50\n",
      "675/675 [==============================] - ETA: 17s - loss: 7.5554 - acc: 0.37 - ETA: 16s - loss: 8.3109 - acc: 0.32 - ETA: 16s - loss: 8.0590 - acc: 0.33 - ETA: 15s - loss: 8.0590 - acc: 0.32 - ETA: 15s - loss: 8.4620 - acc: 0.33 - ETA: 14s - loss: 8.2269 - acc: 0.33 - ETA: 14s - loss: 8.0590 - acc: 0.33 - ETA: 12s - loss: 8.1220 - acc: 0.33 - ETA: 11s - loss: 8.3389 - acc: 0.32 - ETA: 10s - loss: 8.4116 - acc: 0.32 - ETA: 9s - loss: 8.4254 - acc: 0.3295 - ETA: 8s - loss: 8.3948 - acc: 0.328 - ETA: 7s - loss: 8.4852 - acc: 0.326 - ETA: 6s - loss: 8.3469 - acc: 0.321 - ETA: 5s - loss: 8.3277 - acc: 0.316 - ETA: 4s - loss: 8.4053 - acc: 0.326 - ETA: 3s - loss: 8.4442 - acc: 0.323 - ETA: 3s - loss: 8.4228 - acc: 0.317 - ETA: 2s - loss: 8.3241 - acc: 0.317 - ETA: 1s - loss: 8.4368 - acc: 0.323 - ETA: 0s - loss: 8.4668 - acc: 0.321 - 22s 33ms/step - loss: 8.4292 - acc: 0.3215 - val_loss: 11.0319 - val_acc: 0.3467\n",
      "Epoch 17/50\n"
     ]
    },
    {
     "name": "stdout",
     "output_type": "stream",
     "text": [
      "675/675 [==============================] - ETA: 18s - loss: 7.5554 - acc: 0.50 - ETA: 16s - loss: 6.5480 - acc: 0.32 - ETA: 15s - loss: 7.2196 - acc: 0.31 - ETA: 15s - loss: 7.4294 - acc: 0.34 - ETA: 14s - loss: 7.3539 - acc: 0.34 - ETA: 13s - loss: 7.5554 - acc: 0.34 - ETA: 12s - loss: 7.9151 - acc: 0.33 - ETA: 12s - loss: 8.2479 - acc: 0.32 - ETA: 10s - loss: 8.2269 - acc: 0.34 - ETA: 10s - loss: 8.2605 - acc: 0.34 - ETA: 9s - loss: 8.1048 - acc: 0.3494 - ETA: 8s - loss: 8.1850 - acc: 0.354 - ETA: 7s - loss: 8.1365 - acc: 0.358 - ETA: 6s - loss: 8.2389 - acc: 0.348 - ETA: 5s - loss: 8.3277 - acc: 0.345 - ETA: 4s - loss: 8.3424 - acc: 0.347 - ETA: 3s - loss: 8.2369 - acc: 0.352 - ETA: 2s - loss: 8.1711 - acc: 0.350 - ETA: 1s - loss: 8.0061 - acc: 0.350 - ETA: 1s - loss: 8.0339 - acc: 0.345 - ETA: 0s - loss: 8.0831 - acc: 0.340 - 22s 33ms/step - loss: 8.0949 - acc: 0.3407 - val_loss: 5.0862 - val_acc: 0.3467\n",
      "Epoch 18/50\n",
      "675/675 [==============================] - ETA: 20s - loss: 7.0517 - acc: 0.34 - ETA: 20s - loss: 7.3035 - acc: 0.42 - ETA: 18s - loss: 7.2196 - acc: 0.41 - ETA: 17s - loss: 7.5554 - acc: 0.40 - ETA: 16s - loss: 7.4546 - acc: 0.38 - ETA: 15s - loss: 7.2196 - acc: 0.38 - ETA: 14s - loss: 7.1236 - acc: 0.37 - ETA: 13s - loss: 7.1776 - acc: 0.36 - ETA: 11s - loss: 7.2755 - acc: 0.37 - ETA: 10s - loss: 7.3539 - acc: 0.37 - ETA: 9s - loss: 7.1432 - acc: 0.3778 - ETA: 8s - loss: 7.2615 - acc: 0.369 - ETA: 7s - loss: 7.3616 - acc: 0.372 - ETA: 6s - loss: 7.4114 - acc: 0.363 - ETA: 5s - loss: 7.1860 - acc: 0.370 - ETA: 4s - loss: 7.2091 - acc: 0.369 - ETA: 3s - loss: 7.1998 - acc: 0.364 - ETA: 2s - loss: 7.1636 - acc: 0.361 - ETA: 1s - loss: 7.2372 - acc: 0.355 - ETA: 0s - loss: 7.2028 - acc: 0.353 - ETA: 0s - loss: 7.2435 - acc: 0.355 - 21s 31ms/step - loss: 7.2352 - acc: 0.3556 - val_loss: 5.0862 - val_acc: 0.3467\n",
      "Epoch 19/50\n",
      "675/675 [==============================] - ETA: 17s - loss: 6.0443 - acc: 0.34 - ETA: 16s - loss: 5.2888 - acc: 0.45 - ETA: 15s - loss: 6.0443 - acc: 0.38 - ETA: 14s - loss: 6.1702 - acc: 0.34 - ETA: 13s - loss: 6.4472 - acc: 0.34 - ETA: 12s - loss: 7.0517 - acc: 0.34 - ETA: 11s - loss: 7.1236 - acc: 0.35 - ETA: 10s - loss: 7.2406 - acc: 0.33 - ETA: 10s - loss: 7.0517 - acc: 0.35 - ETA: 9s - loss: 6.8502 - acc: 0.3656 - ETA: 8s - loss: 6.8685 - acc: 0.352 - ETA: 7s - loss: 7.0097 - acc: 0.346 - ETA: 6s - loss: 7.0517 - acc: 0.346 - ETA: 6s - loss: 6.9797 - acc: 0.350 - ETA: 5s - loss: 7.0517 - acc: 0.341 - ETA: 4s - loss: 7.0517 - acc: 0.330 - ETA: 3s - loss: 7.0220 - acc: 0.336 - ETA: 2s - loss: 6.8558 - acc: 0.338 - ETA: 1s - loss: 6.8131 - acc: 0.338 - ETA: 0s - loss: 6.9509 - acc: 0.335 - ETA: 0s - loss: 6.9557 - acc: 0.330 - 20s 29ms/step - loss: 6.9726 - acc: 0.3289 - val_loss: 5.0862 - val_acc: 0.3467\n",
      "Epoch 20/50\n",
      "675/675 [==============================] - ETA: 18s - loss: 8.0590 - acc: 0.21 - ETA: 18s - loss: 6.7998 - acc: 0.23 - ETA: 17s - loss: 6.5480 - acc: 0.22 - ETA: 16s - loss: 6.2961 - acc: 0.25 - ETA: 15s - loss: 7.0517 - acc: 0.23 - ETA: 14s - loss: 6.6319 - acc: 0.24 - ETA: 13s - loss: 6.5480 - acc: 0.23 - ETA: 12s - loss: 6.4221 - acc: 0.23 - ETA: 11s - loss: 6.3241 - acc: 0.24 - ETA: 10s - loss: 6.5480 - acc: 0.26 - ETA: 9s - loss: 6.7311 - acc: 0.2699 - ETA: 8s - loss: 6.6319 - acc: 0.283 - ETA: 7s - loss: 6.6255 - acc: 0.281 - ETA: 6s - loss: 6.6559 - acc: 0.290 - ETA: 5s - loss: 6.6151 - acc: 0.293 - ETA: 4s - loss: 6.5480 - acc: 0.298 - ETA: 3s - loss: 6.4887 - acc: 0.305 - ETA: 2s - loss: 6.5200 - acc: 0.305 - ETA: 1s - loss: 6.4419 - acc: 0.307 - ETA: 1s - loss: 6.5228 - acc: 0.306 - ETA: 0s - loss: 6.4760 - acc: 0.315 - 21s 32ms/step - loss: 6.4472 - acc: 0.3170 - val_loss: 5.0862 - val_acc: 0.3467\n",
      "Epoch 21/50\n",
      "675/675 [==============================] - ETA: 16s - loss: 8.5627 - acc: 0.25 - ETA: 15s - loss: 9.0664 - acc: 0.31 - ETA: 14s - loss: 7.8912 - acc: 0.35 - ETA: 13s - loss: 7.9331 - acc: 0.33 - ETA: 12s - loss: 8.0590 - acc: 0.32 - ETA: 11s - loss: 7.9751 - acc: 0.33 - ETA: 10s - loss: 7.8432 - acc: 0.33 - ETA: 10s - loss: 7.9331 - acc: 0.31 - ETA: 9s - loss: 7.7792 - acc: 0.3368 - ETA: 8s - loss: 7.7568 - acc: 0.340 - ETA: 7s - loss: 7.5096 - acc: 0.335 - ETA: 7s - loss: 7.3455 - acc: 0.333 - ETA: 6s - loss: 7.3616 - acc: 0.329 - ETA: 5s - loss: 7.5194 - acc: 0.323 - ETA: 4s - loss: 7.4882 - acc: 0.325 - ETA: 4s - loss: 7.3665 - acc: 0.320 - ETA: 3s - loss: 7.2294 - acc: 0.321 - ETA: 2s - loss: 7.0517 - acc: 0.321 - ETA: 1s - loss: 7.1312 - acc: 0.317 - ETA: 0s - loss: 7.1524 - acc: 0.318 - ETA: 0s - loss: 7.1716 - acc: 0.312 - 18s 27ms/step - loss: 7.1636 - acc: 0.3126 - val_loss: 5.0862 - val_acc: 0.3467\n",
      "Epoch 22/50\n",
      "675/675 [==============================] - ETA: 15s - loss: 6.5480 - acc: 0.34 - ETA: 15s - loss: 6.7998 - acc: 0.35 - ETA: 14s - loss: 7.0517 - acc: 0.35 - ETA: 13s - loss: 6.7998 - acc: 0.38 - ETA: 12s - loss: 6.7505 - acc: 0.36 - ETA: 12s - loss: 7.0526 - acc: 0.34 - ETA: 11s - loss: 7.1244 - acc: 0.34 - ETA: 10s - loss: 7.4301 - acc: 0.33 - ETA: 9s - loss: 7.3321 - acc: 0.3160 - ETA: 8s - loss: 7.4552 - acc: 0.309 - ETA: 7s - loss: 7.5101 - acc: 0.318 - ETA: 7s - loss: 7.5558 - acc: 0.317 - ETA: 6s - loss: 7.6333 - acc: 0.319 - ETA: 5s - loss: 7.5917 - acc: 0.323 - ETA: 4s - loss: 7.6900 - acc: 0.331 - ETA: 3s - loss: 7.6501 - acc: 0.334 - ETA: 3s - loss: 7.7334 - acc: 0.330 - ETA: 2s - loss: 7.7515 - acc: 0.328 - ETA: 1s - loss: 7.8472 - acc: 0.327 - ETA: 0s - loss: 7.7571 - acc: 0.329 - ETA: 0s - loss: 7.6995 - acc: 0.324 - 18s 26ms/step - loss: 7.7131 - acc: 0.3230 - val_loss: 11.0319 - val_acc: 0.3378\n",
      "Epoch 23/50\n",
      "675/675 [==============================] - ETA: 16s - loss: 8.5627 - acc: 0.31 - ETA: 14s - loss: 9.0664 - acc: 0.35 - ETA: 13s - loss: 7.7233 - acc: 0.36 - ETA: 13s - loss: 7.9331 - acc: 0.33 - ETA: 12s - loss: 8.3613 - acc: 0.32 - ETA: 11s - loss: 8.8985 - acc: 0.33 - ETA: 11s - loss: 9.1384 - acc: 0.33 - ETA: 11s - loss: 8.9405 - acc: 0.32 - ETA: 10s - loss: 8.8426 - acc: 0.32 - ETA: 9s - loss: 8.7138 - acc: 0.3250 - ETA: 8s - loss: 8.8375 - acc: 0.318 - ETA: 7s - loss: 8.8985 - acc: 0.309 - ETA: 6s - loss: 8.7177 - acc: 0.310 - ETA: 6s - loss: 8.6347 - acc: 0.319 - ETA: 5s - loss: 8.4956 - acc: 0.316 - ETA: 4s - loss: 8.4368 - acc: 0.320 - ETA: 3s - loss: 8.3850 - acc: 0.323 - ETA: 2s - loss: 8.4788 - acc: 0.319 - ETA: 1s - loss: 8.3241 - acc: 0.322 - ETA: 0s - loss: 8.2102 - acc: 0.323 - ETA: 0s - loss: 8.2030 - acc: 0.317 - 19s 28ms/step - loss: 8.1904 - acc: 0.3170 - val_loss: 11.0319 - val_acc: 0.3378\n",
      "Epoch 24/50\n",
      "675/675 [==============================] - ETA: 16s - loss: 7.5554 - acc: 0.31 - ETA: 15s - loss: 8.3109 - acc: 0.29 - ETA: 14s - loss: 7.3875 - acc: 0.29 - ETA: 14s - loss: 7.8072 - acc: 0.34 - ETA: 13s - loss: 7.9583 - acc: 0.35 - ETA: 12s - loss: 7.6393 - acc: 0.32 - ETA: 11s - loss: 7.8432 - acc: 0.33 - ETA: 10s - loss: 7.8072 - acc: 0.34 - ETA: 10s - loss: 7.8352 - acc: 0.32 - ETA: 9s - loss: 7.9583 - acc: 0.3344 - ETA: 8s - loss: 7.7843 - acc: 0.326 - ETA: 7s - loss: 7.6813 - acc: 0.333 - ETA: 6s - loss: 7.8653 - acc: 0.326 - ETA: 5s - loss: 8.0590 - acc: 0.337 - ETA: 4s - loss: 7.9583 - acc: 0.325 - ETA: 4s - loss: 7.8702 - acc: 0.335 - ETA: 3s - loss: 7.9109 - acc: 0.340 - ETA: 2s - loss: 7.8632 - acc: 0.333 - ETA: 1s - loss: 7.6879 - acc: 0.335 - ETA: 0s - loss: 7.7316 - acc: 0.339 - ETA: 0s - loss: 7.6273 - acc: 0.337 - 19s 27ms/step - loss: 7.6412 - acc: 0.3363 - val_loss: 11.0319 - val_acc: 0.3378\n",
      "Epoch 25/50\n",
      "675/675 [==============================] - ETA: 15s - loss: 9.5701 - acc: 0.53 - ETA: 14s - loss: 8.5627 - acc: 0.40 - ETA: 13s - loss: 8.2269 - acc: 0.36 - ETA: 13s - loss: 8.0590 - acc: 0.33 - ETA: 13s - loss: 7.5558 - acc: 0.33 - ETA: 12s - loss: 7.2199 - acc: 0.33 - ETA: 11s - loss: 6.6922 - acc: 0.35 - ETA: 10s - loss: 6.9890 - acc: 0.34 - ETA: 9s - loss: 7.0519 - acc: 0.3438 - ETA: 8s - loss: 6.9008 - acc: 0.337 - ETA: 8s - loss: 6.8229 - acc: 0.338 - ETA: 7s - loss: 6.6321 - acc: 0.343 - ETA: 6s - loss: 6.5094 - acc: 0.348 - ETA: 5s - loss: 6.6561 - acc: 0.346 - ETA: 4s - loss: 6.5817 - acc: 0.341 - ETA: 3s - loss: 6.5796 - acc: 0.330 - ETA: 3s - loss: 6.6074 - acc: 0.330 - ETA: 2s - loss: 6.7160 - acc: 0.324 - ETA: 1s - loss: 6.5746 - acc: 0.328 - ETA: 0s - loss: 6.6236 - acc: 0.328 - ETA: 0s - loss: 6.7640 - acc: 0.327 - 18s 26ms/step - loss: 6.7339 - acc: 0.3274 - val_loss: 5.0862 - val_acc: 0.3378\n",
      "Epoch 26/50\n",
      "675/675 [==============================] - ETA: 16s - loss: 6.5480 - acc: 0.34 - ETA: 14s - loss: 5.2888 - acc: 0.32 - ETA: 14s - loss: 5.2048 - acc: 0.32 - ETA: 13s - loss: 6.1702 - acc: 0.30 - ETA: 12s - loss: 6.4472 - acc: 0.31 - ETA: 11s - loss: 6.8838 - acc: 0.31 - ETA: 10s - loss: 6.8358 - acc: 0.31 - ETA: 9s - loss: 6.5480 - acc: 0.3203 - ETA: 9s - loss: 6.5480 - acc: 0.319 - ETA: 8s - loss: 6.6487 - acc: 0.328 - ETA: 7s - loss: 6.7769 - acc: 0.332 - ETA: 6s - loss: 6.5480 - acc: 0.341 - ETA: 6s - loss: 6.7030 - acc: 0.341 - ETA: 5s - loss: 6.6919 - acc: 0.332 - ETA: 4s - loss: 6.7830 - acc: 0.343 - ETA: 3s - loss: 6.7683 - acc: 0.335 - ETA: 3s - loss: 6.7257 - acc: 0.332 - ETA: 2s - loss: 6.8278 - acc: 0.322 - ETA: 1s - loss: 6.8396 - acc: 0.319 - ETA: 0s - loss: 6.7243 - acc: 0.325 - ETA: 0s - loss: 6.7878 - acc: 0.328 - 17s 26ms/step - loss: 6.8054 - acc: 0.3289 - val_loss: 5.0862 - val_acc: 0.3378\n",
      "Epoch 27/50\n",
      "675/675 [==============================] - ETA: 16s - loss: 8.0590 - acc: 0.28 - ETA: 15s - loss: 8.0590 - acc: 0.28 - ETA: 14s - loss: 7.3875 - acc: 0.26 - ETA: 13s - loss: 7.8072 - acc: 0.23 - ETA: 12s - loss: 7.4546 - acc: 0.26 - ETA: 11s - loss: 7.3035 - acc: 0.26 - ETA: 10s - loss: 7.5558 - acc: 0.25 - ETA: 10s - loss: 7.3668 - acc: 0.27 - ETA: 9s - loss: 7.4997 - acc: 0.2743 - ETA: 8s - loss: 7.6564 - acc: 0.284 - ETA: 7s - loss: 7.6472 - acc: 0.301 - ETA: 7s - loss: 7.4716 - acc: 0.299 - ETA: 6s - loss: 7.5943 - acc: 0.300 - ETA: 5s - loss: 7.6635 - acc: 0.287 - ETA: 4s - loss: 7.7234 - acc: 0.293 - ETA: 3s - loss: 7.6815 - acc: 0.289 - ETA: 3s - loss: 7.7037 - acc: 0.290 - ETA: 2s - loss: 7.7514 - acc: 0.298 - ETA: 1s - loss: 7.7146 - acc: 0.307 - ETA: 0s - loss: 7.7066 - acc: 0.306 - ETA: 0s - loss: 7.6514 - acc: 0.309 - 18s 26ms/step - loss: 7.6652 - acc: 0.3096 - val_loss: 5.0862 - val_acc: 0.3467\n",
      "Epoch 28/50\n",
      "675/675 [==============================] - ETA: 16s - loss: 8.5627 - acc: 0.25 - ETA: 15s - loss: 8.0590 - acc: 0.29 - ETA: 15s - loss: 7.8912 - acc: 0.33 - ETA: 14s - loss: 7.3035 - acc: 0.31 - ETA: 12s - loss: 7.1524 - acc: 0.32 - ETA: 11s - loss: 7.2196 - acc: 0.30 - ETA: 11s - loss: 7.5554 - acc: 0.30 - ETA: 10s - loss: 7.4924 - acc: 0.31 - ETA: 9s - loss: 7.4434 - acc: 0.3160 - ETA: 8s - loss: 7.3539 - acc: 0.328 - ETA: 7s - loss: 7.3722 - acc: 0.338 - ETA: 7s - loss: 7.3455 - acc: 0.351 - ETA: 6s - loss: 7.4779 - acc: 0.348 - ETA: 5s - loss: 7.4474 - acc: 0.341 - ETA: 4s - loss: 7.2867 - acc: 0.341 - ETA: 3s - loss: 7.3980 - acc: 0.341 - ETA: 3s - loss: 7.3776 - acc: 0.341 - ETA: 2s - loss: 7.4434 - acc: 0.336 - ETA: 1s - loss: 7.3698 - acc: 0.332 - ETA: 0s - loss: 7.4043 - acc: 0.337 - ETA: 0s - loss: 7.4114 - acc: 0.342 - 18s 27ms/step - loss: 7.4024 - acc: 0.3422 - val_loss: 5.0862 - val_acc: 0.3467\n",
      "Epoch 29/50\n",
      "675/675 [==============================] - ETA: 16s - loss: 9.0664 - acc: 0.40 - ETA: 15s - loss: 7.8072 - acc: 0.35 - ETA: 15s - loss: 7.2196 - acc: 0.37 - ETA: 13s - loss: 6.9257 - acc: 0.35 - ETA: 13s - loss: 7.2531 - acc: 0.35 - ETA: 12s - loss: 7.4714 - acc: 0.33 - ETA: 11s - loss: 7.6273 - acc: 0.33 - ETA: 10s - loss: 7.4294 - acc: 0.33 - ETA: 10s - loss: 7.5554 - acc: 0.34 - ETA: 9s - loss: 7.7065 - acc: 0.3406 - ETA: 8s - loss: 7.7385 - acc: 0.332 - ETA: 7s - loss: 7.8912 - acc: 0.328 - ETA: 6s - loss: 7.8653 - acc: 0.317 - ETA: 5s - loss: 7.7352 - acc: 0.317 - ETA: 4s - loss: 7.8240 - acc: 0.318 - ETA: 4s - loss: 7.8387 - acc: 0.308 - ETA: 3s - loss: 7.8813 - acc: 0.316 - ETA: 2s - loss: 7.7792 - acc: 0.324 - ETA: 1s - loss: 7.7409 - acc: 0.324 - ETA: 0s - loss: 7.7065 - acc: 0.323 - ETA: 0s - loss: 7.6993 - acc: 0.327 - 18s 27ms/step - loss: 7.6889 - acc: 0.3274 - val_loss: 5.0862 - val_acc: 0.3467\n",
      "Epoch 30/50\n",
      "675/675 [==============================] - ETA: 16s - loss: 7.5554 - acc: 0.28 - ETA: 16s - loss: 8.8146 - acc: 0.35 - ETA: 15s - loss: 9.2343 - acc: 0.33 - ETA: 13s - loss: 9.1924 - acc: 0.32 - ETA: 13s - loss: 9.1672 - acc: 0.34 - ETA: 12s - loss: 9.3183 - acc: 0.34 - ETA: 11s - loss: 9.2103 - acc: 0.34 - ETA: 10s - loss: 9.0664 - acc: 0.34 - ETA: 9s - loss: 8.8985 - acc: 0.3472 - ETA: 8s - loss: 8.8650 - acc: 0.362 - ETA: 7s - loss: 8.7459 - acc: 0.355 - ETA: 7s - loss: 8.8566 - acc: 0.356 - ETA: 6s - loss: 8.8727 - acc: 0.348 - ETA: 5s - loss: 8.8865 - acc: 0.354 - ETA: 4s - loss: 8.8314 - acc: 0.356 - ETA: 4s - loss: 8.6257 - acc: 0.365 - ETA: 3s - loss: 8.3850 - acc: 0.356 - ETA: 2s - loss: 8.5068 - acc: 0.355 - ETA: 1s - loss: 8.3241 - acc: 0.350 - ETA: 0s - loss: 8.2605 - acc: 0.353 - ETA: 0s - loss: 8.3469 - acc: 0.351 - 18s 26ms/step - loss: 8.3337 - acc: 0.3511 - val_loss: 5.0862 - val_acc: 0.3467\n",
      "Epoch 31/50\n",
      "675/675 [==============================] - ETA: 14s - loss: 7.5554 - acc: 0.34 - ETA: 14s - loss: 8.0590 - acc: 0.31 - ETA: 13s - loss: 6.8838 - acc: 0.34 - ETA: 12s - loss: 8.0590 - acc: 0.34 - ETA: 12s - loss: 8.3613 - acc: 0.34 - ETA: 11s - loss: 8.5627 - acc: 0.34 - ETA: 10s - loss: 8.8506 - acc: 0.36 - ETA: 9s - loss: 8.5627 - acc: 0.3633 - ETA: 8s - loss: 8.3948 - acc: 0.350 - ETA: 8s - loss: 8.0590 - acc: 0.356 - ETA: 7s - loss: 8.1048 - acc: 0.352 - ETA: 6s - loss: 8.1430 - acc: 0.338 - ETA: 5s - loss: 8.0590 - acc: 0.331 - ETA: 5s - loss: 8.1310 - acc: 0.339 - ETA: 4s - loss: 8.1262 - acc: 0.341 - ETA: 3s - loss: 8.1220 - acc: 0.345 - ETA: 3s - loss: 8.0887 - acc: 0.343 - ETA: 2s - loss: 8.0870 - acc: 0.347 - ETA: 1s - loss: 8.0060 - acc: 0.343 - ETA: 0s - loss: 8.0590 - acc: 0.342 - ETA: 0s - loss: 8.1070 - acc: 0.334 - 17s 25ms/step - loss: 8.0949 - acc: 0.3333 - val_loss: 5.0862 - val_acc: 0.3467\n",
      "Epoch 32/50\n",
      "675/675 [==============================] - ETA: 14s - loss: 8.5627 - acc: 0.37 - ETA: 13s - loss: 8.5627 - acc: 0.40 - ETA: 13s - loss: 8.2269 - acc: 0.41 - ETA: 12s - loss: 7.9331 - acc: 0.38 - ETA: 12s - loss: 8.1598 - acc: 0.38 - ETA: 11s - loss: 7.8072 - acc: 0.39 - ETA: 10s - loss: 7.7712 - acc: 0.36 - ETA: 9s - loss: 7.9331 - acc: 0.3594 - ETA: 9s - loss: 7.9471 - acc: 0.343 - ETA: 8s - loss: 7.8576 - acc: 0.337 - ETA: 7s - loss: 7.6927 - acc: 0.332 - ETA: 6s - loss: 7.5973 - acc: 0.335 - ETA: 6s - loss: 7.6716 - acc: 0.326 - ETA: 5s - loss: 7.7712 - acc: 0.314 - ETA: 4s - loss: 7.8912 - acc: 0.320 - ETA: 3s - loss: 8.1220 - acc: 0.322 - ETA: 3s - loss: 8.1183 - acc: 0.327 - ETA: 2s - loss: 8.0590 - acc: 0.319 - ETA: 1s - loss: 8.0060 - acc: 0.317 - ETA: 0s - loss: 7.9331 - acc: 0.326 - ETA: 0s - loss: 7.9871 - acc: 0.327 - 17s 25ms/step - loss: 7.9994 - acc: 0.3259 - val_loss: 5.0862 - val_acc: 0.3467\n",
      "Epoch 33/50\n"
     ]
    },
    {
     "name": "stdout",
     "output_type": "stream",
     "text": [
      "675/675 [==============================] - ETA: 15s - loss: 9.0664 - acc: 0.31 - ETA: 14s - loss: 7.8072 - acc: 0.34 - ETA: 13s - loss: 8.2269 - acc: 0.33 - ETA: 13s - loss: 7.8072 - acc: 0.33 - ETA: 12s - loss: 7.8576 - acc: 0.36 - ETA: 11s - loss: 7.5554 - acc: 0.36 - ETA: 10s - loss: 7.6993 - acc: 0.38 - ETA: 10s - loss: 7.8702 - acc: 0.38 - ETA: 9s - loss: 7.8352 - acc: 0.3681 - ETA: 8s - loss: 7.8576 - acc: 0.359 - ETA: 7s - loss: 7.9675 - acc: 0.363 - ETA: 7s - loss: 7.8072 - acc: 0.349 - ETA: 6s - loss: 7.7878 - acc: 0.355 - ETA: 5s - loss: 7.7352 - acc: 0.361 - ETA: 4s - loss: 7.7568 - acc: 0.372 - ETA: 3s - loss: 7.5554 - acc: 0.361 - ETA: 3s - loss: 7.5850 - acc: 0.358 - ETA: 2s - loss: 7.5554 - acc: 0.352 - ETA: 1s - loss: 7.4758 - acc: 0.350 - ETA: 0s - loss: 7.3791 - acc: 0.342 - ETA: 0s - loss: 7.4354 - acc: 0.343 - 18s 26ms/step - loss: 7.4024 - acc: 0.3452 - val_loss: 5.0862 - val_acc: 0.3467\n",
      "Epoch 34/50\n",
      "675/675 [==============================] - ETA: 17s - loss: 9.0664 - acc: 0.37 - ETA: 15s - loss: 7.8072 - acc: 0.34 - ETA: 14s - loss: 8.2269 - acc: 0.36 - ETA: 13s - loss: 8.0590 - acc: 0.33 - ETA: 12s - loss: 7.8576 - acc: 0.34 - ETA: 11s - loss: 7.7233 - acc: 0.30 - ETA: 10s - loss: 7.4834 - acc: 0.30 - ETA: 9s - loss: 7.3665 - acc: 0.3086 - ETA: 9s - loss: 7.4994 - acc: 0.305 - ETA: 8s - loss: 7.5554 - acc: 0.312 - ETA: 7s - loss: 7.5554 - acc: 0.332 - ETA: 6s - loss: 7.3875 - acc: 0.333 - ETA: 6s - loss: 7.4004 - acc: 0.324 - ETA: 5s - loss: 7.3035 - acc: 0.328 - ETA: 4s - loss: 7.3203 - acc: 0.322 - ETA: 3s - loss: 7.2721 - acc: 0.326 - ETA: 3s - loss: 7.1702 - acc: 0.327 - ETA: 2s - loss: 7.3035 - acc: 0.317 - ETA: 1s - loss: 7.3698 - acc: 0.317 - ETA: 0s - loss: 7.2783 - acc: 0.320 - ETA: 0s - loss: 7.1716 - acc: 0.322 - 18s 27ms/step - loss: 7.1397 - acc: 0.3244 - val_loss: 5.0862 - val_acc: 0.3467\n",
      "Epoch 35/50\n",
      "675/675 [==============================] - ETA: 16s - loss: 4.5332 - acc: 0.34 - ETA: 15s - loss: 4.7851 - acc: 0.37 - ETA: 13s - loss: 5.7085 - acc: 0.38 - ETA: 12s - loss: 5.9184 - acc: 0.35 - ETA: 12s - loss: 5.8428 - acc: 0.35 - ETA: 11s - loss: 5.8764 - acc: 0.38 - ETA: 10s - loss: 6.3321 - acc: 0.37 - ETA: 10s - loss: 6.3591 - acc: 0.36 - ETA: 9s - loss: 6.1003 - acc: 0.3750 - ETA: 8s - loss: 6.3465 - acc: 0.356 - ETA: 8s - loss: 6.4106 - acc: 0.355 - ETA: 7s - loss: 6.5480 - acc: 0.349 - ETA: 6s - loss: 6.5092 - acc: 0.348 - ETA: 5s - loss: 6.4400 - acc: 0.341 - ETA: 4s - loss: 6.3465 - acc: 0.337 - ETA: 4s - loss: 6.3591 - acc: 0.343 - ETA: 3s - loss: 6.3998 - acc: 0.338 - ETA: 2s - loss: 6.3241 - acc: 0.342 - ETA: 1s - loss: 6.3094 - acc: 0.342 - ETA: 0s - loss: 6.4221 - acc: 0.342 - ETA: 0s - loss: 6.3561 - acc: 0.336 - 18s 27ms/step - loss: 6.3756 - acc: 0.3363 - val_loss: 5.0862 - val_acc: 0.3467\n",
      "Epoch 36/50\n",
      "675/675 [==============================] - ETA: 19s - loss: 8.5627 - acc: 0.37 - ETA: 16s - loss: 6.7998 - acc: 0.40 - ETA: 16s - loss: 6.8838 - acc: 0.37 - ETA: 16s - loss: 6.7998 - acc: 0.35 - ETA: 15s - loss: 6.4472 - acc: 0.36 - ETA: 14s - loss: 6.4640 - acc: 0.35 - ETA: 13s - loss: 6.4760 - acc: 0.34 - ETA: 12s - loss: 6.4850 - acc: 0.33 - ETA: 11s - loss: 6.6039 - acc: 0.34 - ETA: 10s - loss: 6.4976 - acc: 0.35 - ETA: 9s - loss: 6.5022 - acc: 0.3608 - ETA: 8s - loss: 6.5060 - acc: 0.359 - ETA: 7s - loss: 6.4705 - acc: 0.363 - ETA: 6s - loss: 6.5120 - acc: 0.370 - ETA: 5s - loss: 6.4808 - acc: 0.372 - ETA: 4s - loss: 6.4850 - acc: 0.373 - ETA: 3s - loss: 6.5183 - acc: 0.362 - ETA: 2s - loss: 6.5480 - acc: 0.357 - ETA: 1s - loss: 6.4684 - acc: 0.355 - ETA: 1s - loss: 6.4976 - acc: 0.354 - ETA: 0s - loss: 6.4520 - acc: 0.358 - 21s 31ms/step - loss: 6.4472 - acc: 0.3585 - val_loss: 5.0862 - val_acc: 0.3467\n",
      "Epoch 37/50\n",
      "675/675 [==============================] - ETA: 17s - loss: 8.5627 - acc: 0.43 - ETA: 17s - loss: 7.3035 - acc: 0.40 - ETA: 15s - loss: 6.7159 - acc: 0.37 - ETA: 14s - loss: 6.7998 - acc: 0.38 - ETA: 13s - loss: 6.7495 - acc: 0.35 - ETA: 13s - loss: 7.0517 - acc: 0.35 - ETA: 12s - loss: 6.9078 - acc: 0.37 - ETA: 11s - loss: 6.8634 - acc: 0.36 - ETA: 10s - loss: 6.9403 - acc: 0.35 - ETA: 9s - loss: 7.0018 - acc: 0.3469 - ETA: 8s - loss: 7.0064 - acc: 0.363 - ETA: 7s - loss: 7.1780 - acc: 0.349 - ETA: 7s - loss: 7.2458 - acc: 0.346 - ETA: 6s - loss: 7.4838 - acc: 0.337 - ETA: 5s - loss: 7.6229 - acc: 0.329 - ETA: 4s - loss: 7.5242 - acc: 0.318 - ETA: 3s - loss: 7.3779 - acc: 0.319 - ETA: 2s - loss: 7.3038 - acc: 0.312 - ETA: 1s - loss: 7.2905 - acc: 0.314 - ETA: 0s - loss: 7.2786 - acc: 0.318 - ETA: 0s - loss: 7.3877 - acc: 0.319 - 19s 29ms/step - loss: 7.4026 - acc: 0.3200 - val_loss: 5.0862 - val_acc: 0.3378\n",
      "Epoch 38/50\n",
      "675/675 [==============================] - ETA: 16s - loss: 6.5480 - acc: 0.28 - ETA: 15s - loss: 6.7998 - acc: 0.34 - ETA: 14s - loss: 7.0517 - acc: 0.34 - ETA: 13s - loss: 6.7998 - acc: 0.33 - ETA: 13s - loss: 6.9509 - acc: 0.34 - ETA: 12s - loss: 7.3035 - acc: 0.32 - ETA: 11s - loss: 7.3395 - acc: 0.34 - ETA: 10s - loss: 7.3665 - acc: 0.32 - ETA: 10s - loss: 7.3875 - acc: 0.33 - ETA: 9s - loss: 7.3539 - acc: 0.3438 - ETA: 8s - loss: 7.4180 - acc: 0.338 - ETA: 7s - loss: 7.3455 - acc: 0.349 - ETA: 6s - loss: 7.4779 - acc: 0.351 - ETA: 5s - loss: 7.3395 - acc: 0.343 - ETA: 5s - loss: 7.2196 - acc: 0.347 - ETA: 4s - loss: 7.2406 - acc: 0.345 - ETA: 3s - loss: 7.1109 - acc: 0.334 - ETA: 2s - loss: 7.1916 - acc: 0.333 - ETA: 1s - loss: 7.1577 - acc: 0.328 - ETA: 0s - loss: 7.1524 - acc: 0.326 - ETA: 0s - loss: 7.1236 - acc: 0.327 - 19s 29ms/step - loss: 7.1158 - acc: 0.3289 - val_loss: 5.0862 - val_acc: 0.3378\n",
      "Epoch 39/50\n",
      "675/675 [==============================] - ETA: 16s - loss: 6.5480 - acc: 0.31 - ETA: 16s - loss: 8.3109 - acc: 0.32 - ETA: 15s - loss: 8.2269 - acc: 0.35 - ETA: 14s - loss: 7.8072 - acc: 0.31 - ETA: 13s - loss: 8.2605 - acc: 0.31 - ETA: 12s - loss: 8.1430 - acc: 0.33 - ETA: 11s - loss: 8.0590 - acc: 0.33 - ETA: 10s - loss: 8.1220 - acc: 0.32 - ETA: 9s - loss: 7.8352 - acc: 0.3368 - ETA: 9s - loss: 7.9079 - acc: 0.328 - ETA: 8s - loss: 7.7843 - acc: 0.326 - ETA: 7s - loss: 7.8072 - acc: 0.320 - ETA: 6s - loss: 7.9428 - acc: 0.314 - ETA: 5s - loss: 7.8072 - acc: 0.310 - ETA: 4s - loss: 7.8912 - acc: 0.322 - ETA: 4s - loss: 8.1535 - acc: 0.328 - ETA: 3s - loss: 8.0590 - acc: 0.332 - ETA: 2s - loss: 8.0590 - acc: 0.329 - ETA: 1s - loss: 7.9795 - acc: 0.322 - ETA: 0s - loss: 8.0087 - acc: 0.326 - ETA: 0s - loss: 8.0830 - acc: 0.327 - 19s 28ms/step - loss: 8.0710 - acc: 0.3259 - val_loss: 5.0862 - val_acc: 0.3378\n",
      "Epoch 40/50\n",
      "675/675 [==============================] - ETA: 16s - loss: 7.0517 - acc: 0.40 - ETA: 15s - loss: 8.8146 - acc: 0.34 - ETA: 14s - loss: 7.3875 - acc: 0.38 - ETA: 13s - loss: 7.5554 - acc: 0.35 - ETA: 13s - loss: 7.0517 - acc: 0.38 - ETA: 12s - loss: 7.4714 - acc: 0.36 - ETA: 11s - loss: 7.4114 - acc: 0.34 - ETA: 10s - loss: 7.4294 - acc: 0.34 - ETA: 9s - loss: 7.2755 - acc: 0.3368 - ETA: 9s - loss: 7.2028 - acc: 0.340 - ETA: 8s - loss: 7.2348 - acc: 0.329 - ETA: 7s - loss: 6.9257 - acc: 0.322 - ETA: 6s - loss: 7.1679 - acc: 0.326 - ETA: 5s - loss: 7.3035 - acc: 0.325 - ETA: 4s - loss: 7.2867 - acc: 0.325 - ETA: 4s - loss: 7.2091 - acc: 0.334 - ETA: 3s - loss: 7.4961 - acc: 0.330 - ETA: 2s - loss: 7.5554 - acc: 0.326 - ETA: 1s - loss: 7.5023 - acc: 0.328 - ETA: 0s - loss: 7.4546 - acc: 0.329 - ETA: 0s - loss: 7.4594 - acc: 0.336 - 19s 28ms/step - loss: 7.4501 - acc: 0.3378 - val_loss: 5.0862 - val_acc: 0.3378\n",
      "Epoch 41/50\n",
      "675/675 [==============================] - ETA: 17s - loss: 10.5775 - acc: 0.125 - ETA: 17s - loss: 8.3109 - acc: 0.250 - ETA: 15s - loss: 7.7233 - acc: 0.28 - ETA: 14s - loss: 7.1776 - acc: 0.32 - ETA: 13s - loss: 7.1524 - acc: 0.32 - ETA: 12s - loss: 7.5554 - acc: 0.29 - ETA: 11s - loss: 7.8432 - acc: 0.28 - ETA: 10s - loss: 7.9961 - acc: 0.27 - ETA: 10s - loss: 8.0031 - acc: 0.27 - ETA: 9s - loss: 7.9583 - acc: 0.2812 - ETA: 8s - loss: 7.9675 - acc: 0.298 - ETA: 7s - loss: 7.7652 - acc: 0.317 - ETA: 6s - loss: 7.9428 - acc: 0.319 - ETA: 5s - loss: 7.8072 - acc: 0.321 - ETA: 5s - loss: 7.7233 - acc: 0.327 - ETA: 4s - loss: 7.7128 - acc: 0.326 - ETA: 3s - loss: 7.5850 - acc: 0.325 - ETA: 2s - loss: 7.5274 - acc: 0.326 - ETA: 1s - loss: 7.6084 - acc: 0.327 - ETA: 0s - loss: 7.5050 - acc: 0.326 - ETA: 0s - loss: 7.4114 - acc: 0.322 - 19s 28ms/step - loss: 7.4263 - acc: 0.3215 - val_loss: 5.0862 - val_acc: 0.3378\n",
      "Epoch 42/50\n",
      "675/675 [==============================] - ETA: 15s - loss: 4.5332 - acc: 0.50 - ETA: 15s - loss: 6.5480 - acc: 0.31 - ETA: 14s - loss: 7.0517 - acc: 0.33 - ETA: 13s - loss: 7.6813 - acc: 0.32 - ETA: 13s - loss: 7.8576 - acc: 0.30 - ETA: 12s - loss: 7.9751 - acc: 0.29 - ETA: 11s - loss: 8.2030 - acc: 0.29 - ETA: 10s - loss: 8.3109 - acc: 0.29 - ETA: 9s - loss: 8.2829 - acc: 0.2882 - ETA: 8s - loss: 8.1598 - acc: 0.290 - ETA: 8s - loss: 8.1506 - acc: 0.286 - ETA: 7s - loss: 8.2689 - acc: 0.296 - ETA: 6s - loss: 8.3690 - acc: 0.295 - ETA: 5s - loss: 8.2389 - acc: 0.299 - ETA: 4s - loss: 8.2269 - acc: 0.297 - ETA: 4s - loss: 8.0905 - acc: 0.300 - ETA: 3s - loss: 7.9702 - acc: 0.299 - ETA: 2s - loss: 7.8072 - acc: 0.296 - ETA: 1s - loss: 7.8205 - acc: 0.301 - ETA: 0s - loss: 7.7820 - acc: 0.304 - ETA: 0s - loss: 7.7472 - acc: 0.302 - 18s 27ms/step - loss: 7.7367 - acc: 0.3037 - val_loss: 5.0862 - val_acc: 0.3378\n",
      "Epoch 43/50\n",
      "675/675 [==============================] - ETA: 17s - loss: 6.0443 - acc: 0.37 - ETA: 16s - loss: 7.5554 - acc: 0.34 - ETA: 14s - loss: 7.7233 - acc: 0.33 - ETA: 13s - loss: 7.6813 - acc: 0.32 - ETA: 12s - loss: 7.2531 - acc: 0.33 - ETA: 11s - loss: 7.3035 - acc: 0.33 - ETA: 11s - loss: 7.2675 - acc: 0.32 - ETA: 10s - loss: 7.1776 - acc: 0.32 - ETA: 9s - loss: 7.1076 - acc: 0.3264 - ETA: 8s - loss: 7.0013 - acc: 0.337 - ETA: 7s - loss: 7.1432 - acc: 0.332 - ETA: 7s - loss: 7.1776 - acc: 0.317 - ETA: 6s - loss: 7.2454 - acc: 0.319 - ETA: 5s - loss: 7.2316 - acc: 0.325 - ETA: 4s - loss: 7.2531 - acc: 0.327 - ETA: 3s - loss: 7.3350 - acc: 0.328 - ETA: 3s - loss: 7.3183 - acc: 0.329 - ETA: 2s - loss: 7.2475 - acc: 0.335 - ETA: 1s - loss: 7.2107 - acc: 0.338 - ETA: 0s - loss: 7.1272 - acc: 0.340 - ETA: 0s - loss: 7.1476 - acc: 0.337 - 18s 26ms/step - loss: 7.1636 - acc: 0.3363 - val_loss: 5.0862 - val_acc: 0.3378\n",
      "Epoch 44/50\n",
      "675/675 [==============================] - ETA: 18s - loss: 7.5554 - acc: 0.31 - ETA: 17s - loss: 6.7998 - acc: 0.34 - ETA: 16s - loss: 6.7159 - acc: 0.30 - ETA: 16s - loss: 7.0517 - acc: 0.29 - ETA: 14s - loss: 6.8502 - acc: 0.30 - ETA: 13s - loss: 6.9677 - acc: 0.31 - ETA: 12s - loss: 6.6919 - acc: 0.32 - ETA: 11s - loss: 6.7998 - acc: 0.31 - ETA: 10s - loss: 6.9957 - acc: 0.31 - ETA: 9s - loss: 6.9509 - acc: 0.3125 - ETA: 9s - loss: 7.0517 - acc: 0.309 - ETA: 8s - loss: 6.9257 - acc: 0.307 - ETA: 7s - loss: 6.9354 - acc: 0.317 - ETA: 6s - loss: 7.0157 - acc: 0.328 - ETA: 5s - loss: 6.9845 - acc: 0.333 - ETA: 4s - loss: 6.9887 - acc: 0.330 - ETA: 3s - loss: 7.1406 - acc: 0.329 - ETA: 2s - loss: 7.1356 - acc: 0.322 - ETA: 1s - loss: 7.1842 - acc: 0.325 - ETA: 0s - loss: 7.2028 - acc: 0.328 - ETA: 0s - loss: 7.0757 - acc: 0.327 - 20s 30ms/step - loss: 7.0920 - acc: 0.3274 - val_loss: 5.0862 - val_acc: 0.3378\n",
      "Epoch 45/50\n",
      "675/675 [==============================] - ETA: 14s - loss: 9.5701 - acc: 0.43 - ETA: 15s - loss: 8.5627 - acc: 0.37 - ETA: 14s - loss: 8.0590 - acc: 0.34 - ETA: 13s - loss: 8.0590 - acc: 0.30 - ETA: 13s - loss: 7.6561 - acc: 0.28 - ETA: 12s - loss: 7.3035 - acc: 0.27 - ETA: 12s - loss: 7.4834 - acc: 0.27 - ETA: 11s - loss: 7.4294 - acc: 0.27 - ETA: 10s - loss: 7.7233 - acc: 0.27 - ETA: 9s - loss: 7.6057 - acc: 0.2844 - ETA: 8s - loss: 7.4638 - acc: 0.301 - ETA: 8s - loss: 7.3875 - acc: 0.299 - ETA: 7s - loss: 7.3616 - acc: 0.293 - ETA: 6s - loss: 7.1956 - acc: 0.305 - ETA: 5s - loss: 7.0517 - acc: 0.308 - ETA: 4s - loss: 7.0202 - acc: 0.316 - ETA: 3s - loss: 7.1109 - acc: 0.323 - ETA: 2s - loss: 7.2196 - acc: 0.333 - ETA: 1s - loss: 7.2107 - acc: 0.333 - ETA: 0s - loss: 7.2531 - acc: 0.329 - ETA: 0s - loss: 7.1476 - acc: 0.330 - 20s 29ms/step - loss: 7.1158 - acc: 0.3304 - val_loss: 5.0862 - val_acc: 0.3378\n",
      "Epoch 46/50\n",
      "675/675 [==============================] - ETA: 16s - loss: 6.5480 - acc: 0.34 - ETA: 16s - loss: 7.3035 - acc: 0.34 - ETA: 16s - loss: 6.7159 - acc: 0.30 - ETA: 15s - loss: 6.6739 - acc: 0.31 - ETA: 13s - loss: 6.3465 - acc: 0.30 - ETA: 12s - loss: 6.7998 - acc: 0.32 - ETA: 12s - loss: 6.7638 - acc: 0.33 - ETA: 11s - loss: 6.8628 - acc: 0.31 - ETA: 10s - loss: 6.8278 - acc: 0.31 - ETA: 9s - loss: 6.7495 - acc: 0.3187 - ETA: 9s - loss: 6.8227 - acc: 0.326 - ETA: 8s - loss: 6.6319 - acc: 0.335 - ETA: 7s - loss: 6.8192 - acc: 0.324 - ETA: 6s - loss: 6.9797 - acc: 0.325 - ETA: 5s - loss: 6.9845 - acc: 0.322 - ETA: 4s - loss: 6.9887 - acc: 0.320 - ETA: 3s - loss: 6.9332 - acc: 0.318 - ETA: 2s - loss: 6.8838 - acc: 0.326 - ETA: 1s - loss: 6.9721 - acc: 0.328 - ETA: 0s - loss: 7.0265 - acc: 0.329 - ETA: 0s - loss: 7.0757 - acc: 0.325 - 20s 30ms/step - loss: 7.0920 - acc: 0.3259 - val_loss: 5.0862 - val_acc: 0.3378\n",
      "Epoch 47/50\n",
      "675/675 [==============================] - ETA: 16s - loss: 6.0443 - acc: 0.40 - ETA: 14s - loss: 7.0517 - acc: 0.32 - ETA: 13s - loss: 8.2269 - acc: 0.30 - ETA: 13s - loss: 7.5554 - acc: 0.33 - ETA: 12s - loss: 7.2531 - acc: 0.35 - ETA: 11s - loss: 7.3875 - acc: 0.35 - ETA: 10s - loss: 7.5554 - acc: 0.37 - ETA: 9s - loss: 7.8072 - acc: 0.3711 - ETA: 9s - loss: 7.7233 - acc: 0.354 - ETA: 8s - loss: 7.9079 - acc: 0.350 - ETA: 7s - loss: 7.8759 - acc: 0.355 - ETA: 7s - loss: 7.8072 - acc: 0.364 - ETA: 6s - loss: 7.8266 - acc: 0.360 - ETA: 5s - loss: 7.7352 - acc: 0.359 - ETA: 4s - loss: 7.6897 - acc: 0.354 - ETA: 3s - loss: 7.7757 - acc: 0.353 - ETA: 3s - loss: 7.7035 - acc: 0.343 - ETA: 2s - loss: 7.5554 - acc: 0.352 - ETA: 1s - loss: 7.5819 - acc: 0.348 - ETA: 0s - loss: 7.5805 - acc: 0.350 - ETA: 0s - loss: 7.5314 - acc: 0.352 - 18s 27ms/step - loss: 7.5457 - acc: 0.3526 - val_loss: 5.0862 - val_acc: 0.3378\n",
      "Epoch 48/50\n",
      "675/675 [==============================] - ETA: 14s - loss: 9.0664 - acc: 0.28 - ETA: 14s - loss: 9.0664 - acc: 0.32 - ETA: 13s - loss: 7.7233 - acc: 0.33 - ETA: 13s - loss: 8.1850 - acc: 0.32 - ETA: 12s - loss: 7.3539 - acc: 0.33 - ETA: 11s - loss: 7.3875 - acc: 0.32 - ETA: 11s - loss: 7.4114 - acc: 0.31 - ETA: 10s - loss: 7.1776 - acc: 0.31 - ETA: 9s - loss: 6.9397 - acc: 0.3056 - ETA: 8s - loss: 6.9509 - acc: 0.306 - ETA: 8s - loss: 6.9601 - acc: 0.315 - ETA: 7s - loss: 6.8838 - acc: 0.317 - ETA: 6s - loss: 6.8192 - acc: 0.322 - ETA: 5s - loss: 7.0157 - acc: 0.317 - ETA: 4s - loss: 6.9173 - acc: 0.320 - ETA: 4s - loss: 7.1146 - acc: 0.324 - ETA: 3s - loss: 7.1406 - acc: 0.321 - ETA: 2s - loss: 7.2475 - acc: 0.329 - ETA: 1s - loss: 7.2903 - acc: 0.328 - ETA: 0s - loss: 7.4043 - acc: 0.332 - ETA: 0s - loss: 7.3875 - acc: 0.337 - 18s 26ms/step - loss: 7.4024 - acc: 0.3363 - val_loss: 5.0862 - val_acc: 0.3378\n",
      "Epoch 49/50\n"
     ]
    },
    {
     "name": "stdout",
     "output_type": "stream",
     "text": [
      "675/675 [==============================] - ETA: 14s - loss: 8.0590 - acc: 0.21 - ETA: 13s - loss: 7.0517 - acc: 0.29 - ETA: 12s - loss: 6.8838 - acc: 0.31 - ETA: 12s - loss: 6.2961 - acc: 0.32 - ETA: 11s - loss: 6.3465 - acc: 0.33 - ETA: 10s - loss: 6.6319 - acc: 0.32 - ETA: 10s - loss: 6.7638 - acc: 0.32 - ETA: 9s - loss: 6.8628 - acc: 0.3125 - ETA: 8s - loss: 6.6039 - acc: 0.319 - ETA: 8s - loss: 6.7998 - acc: 0.318 - ETA: 7s - loss: 6.9601 - acc: 0.329 - ETA: 6s - loss: 6.9677 - acc: 0.335 - ETA: 5s - loss: 6.9742 - acc: 0.334 - ETA: 5s - loss: 7.1236 - acc: 0.330 - ETA: 4s - loss: 7.1188 - acc: 0.325 - ETA: 3s - loss: 7.0831 - acc: 0.326 - ETA: 3s - loss: 7.1406 - acc: 0.325 - ETA: 2s - loss: 7.1076 - acc: 0.322 - ETA: 1s - loss: 7.0517 - acc: 0.327 - ETA: 0s - loss: 7.1776 - acc: 0.328 - ETA: 0s - loss: 7.0996 - acc: 0.324 - 17s 25ms/step - loss: 7.0920 - acc: 0.3244 - val_loss: 5.0862 - val_acc: 0.3378\n",
      "Epoch 50/50\n",
      "675/675 [==============================] - ETA: 14s - loss: 4.5332 - acc: 0.46 - ETA: 13s - loss: 5.7924 - acc: 0.46 - ETA: 13s - loss: 6.7159 - acc: 0.42 - ETA: 13s - loss: 7.0519 - acc: 0.41 - ETA: 12s - loss: 7.4548 - acc: 0.36 - ETA: 11s - loss: 7.7234 - acc: 0.36 - ETA: 10s - loss: 7.9152 - acc: 0.35 - ETA: 9s - loss: 8.0591 - acc: 0.3516 - ETA: 9s - loss: 8.1151 - acc: 0.336 - ETA: 8s - loss: 8.0591 - acc: 0.331 - ETA: 7s - loss: 8.0133 - acc: 0.323 - ETA: 6s - loss: 8.1431 - acc: 0.317 - ETA: 6s - loss: 8.1366 - acc: 0.322 - ETA: 5s - loss: 8.2030 - acc: 0.341 - ETA: 4s - loss: 8.2606 - acc: 0.343 - ETA: 3s - loss: 8.2795 - acc: 0.339 - ETA: 3s - loss: 8.1776 - acc: 0.327 - ETA: 2s - loss: 8.2270 - acc: 0.328 - ETA: 1s - loss: 8.2181 - acc: 0.320 - ETA: 0s - loss: 8.2606 - acc: 0.325 - ETA: 0s - loss: 8.2989 - acc: 0.321 - 17s 25ms/step - loss: 8.3337 - acc: 0.3200 - val_loss: 11.0319 - val_acc: 0.3378\n"
     ]
    },
    {
     "data": {
      "text/plain": [
       "<keras.callbacks.History at 0x2b327f99088>"
      ]
     },
     "execution_count": 108,
     "metadata": {},
     "output_type": "execute_result"
    }
   ],
   "source": [
    "model = Sequential()\n",
    "model.add(Conv2D(64, (5, 5), input_shape=(64,64,1), padding='same', activation='relu'))\n",
    "model.add(MaxPooling2D(pool_size=(2, 2), padding='same'))\n",
    "\n",
    "model.add(Conv2D(128, (5, 5), padding='same', activation='relu'))\n",
    "model.add(MaxPooling2D(pool_size=(2, 2), padding='same'))\n",
    "\n",
    "model.add(Conv2D(256, (1, 1), padding='same', activation='relu'))\n",
    "model.add(MaxPooling2D(pool_size=(2, 2), padding='same'))\n",
    "\n",
    "model.add(Flatten())\n",
    "\n",
    "model.add(Dense(1024, activation='relu', kernel_constraint=maxnorm(3)))\n",
    "model.add(Dropout(0.5))\n",
    "model.add(Dense(512, activation='relu', kernel_constraint=maxnorm(3)))\n",
    "model.add(Dropout(0.5))\n",
    "\n",
    "model.add(Dense(5, activation='linear'))\n",
    "\n",
    "# Compile model\n",
    "#model.compile(loss='binary_crossentropy', optimizer='adam')\n",
    "model.compile(loss=keras.losses.categorical_crossentropy,optimizer=keras.optimizers.Adadelta(),metrics=['accuracy'])\n",
    "\n",
    "# Fit the model\n",
    "#model.fit(xtrain, ytrain, epochs=5, batch_size=8)\n",
    "model.fit(xtrain, ytrain, epochs=50, validation_data=(xtest, ytest))\n",
    "#history = model.fit(xtrain, ytrain, epochs=10, validation_data=(xtest, ytest))"
   ]
  },
  {
   "cell_type": "code",
   "execution_count": null,
   "metadata": {},
   "outputs": [],
   "source": [
    "\n"
   ]
  }
 ],
 "metadata": {
  "kernelspec": {
   "display_name": "Python 3",
   "language": "python",
   "name": "python3"
  },
  "language_info": {
   "codemirror_mode": {
    "name": "ipython",
    "version": 3
   },
   "file_extension": ".py",
   "mimetype": "text/x-python",
   "name": "python",
   "nbconvert_exporter": "python",
   "pygments_lexer": "ipython3",
   "version": "3.7.3"
  }
 },
 "nbformat": 4,
 "nbformat_minor": 2
}
